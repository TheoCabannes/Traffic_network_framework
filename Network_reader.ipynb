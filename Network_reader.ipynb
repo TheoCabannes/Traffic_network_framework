{
 "cells": [
  {
   "cell_type": "markdown",
   "metadata": {},
   "source": [
    "# Try to read and convert the networks"
   ]
  },
  {
   "cell_type": "markdown",
   "metadata": {},
   "source": [
    "For the Sioux network"
   ]
  },
  {
   "cell_type": "code",
   "execution_count": 1,
   "metadata": {},
   "outputs": [],
   "source": [
    "import csv\n",
    "import pandas as pd\n",
    "import numpy as np\n",
    "\n",
    "# reading a TNTP text file\n",
    "def read_file_net(network_name, suffix=\"net\"):\n",
    "    assert suffix in [\"net\",\"node\",\"trips\", \"flow\"]\n",
    "    with open(\"data/\" + network_name + \"/\" + network_name + \"_\" + suffix + \".tntp\") as csv_file:\n",
    "        csv_reader = csv.reader(csv_file, delimiter=\"\\t\")\n",
    "        index_to_legend = {}\n",
    "        data = {}\n",
    "        metadata = {}\n",
    "        line_count = 0\n",
    "        for row in csv_reader:\n",
    "            if len(row)==0:\n",
    "                # The row is empty \n",
    "                continue \n",
    "            if \"<\" in row[0]:\n",
    "                metadata_aux = row[0].split('<')[1].split('> ')\n",
    "                if metadata_aux[0]==\"END OF METADATA>\":\n",
    "                    continue\n",
    "                metadata[metadata_aux[0]] = metadata_aux[1]\n",
    "            else:\n",
    "                if (suffix==\"net\" or suffix==\"node\" or suffix==\"flow\") and row[-1] == \";\":\n",
    "                    if line_count == 0:\n",
    "                        # the first line is the legend\n",
    "                        i = 0\n",
    "                        for legend in row[:-1]:\n",
    "                            # print(legend)\n",
    "                            index_to_legend[i] = legend\n",
    "                            data[legend] = []\n",
    "                            i += 1\n",
    "                    else:\n",
    "                        i = 0\n",
    "                        for point in row[:-1]:\n",
    "                            data[index_to_legend[i]].append(point)\n",
    "                            i += 1\n",
    "                        # print(row)\n",
    "                    line_count += 1\n",
    "                elif(suffix==\"trips\"):\n",
    "                    if row[0] == 'Origin ':\n",
    "                        origin = int(row[1])\n",
    "                        data[origin] = {}\n",
    "                    else:\n",
    "                        # print(row)\n",
    "                        dest_array = row[0].split(\";\")\n",
    "                        # print(dest_array)\n",
    "                        for dest in dest_array[:-1]:\n",
    "                            dest_tmp = dest.split(\":\")\n",
    "                            data[origin][int(dest_tmp[0])] = float(dest_tmp[1])\n",
    "                else:\n",
    "                    print(\"This setence should never appear. Error\")\n",
    "    d = pd.DataFrame(data)\n",
    "    return d, metadata"
   ]
  },
  {
   "cell_type": "code",
   "execution_count": 4,
   "metadata": {},
   "outputs": [
    {
     "name": "stdout",
     "output_type": "stream",
     "text": [
      "---------net---------\n",
      "  ~  Init node  Term node     Capacity  Length  Free Flow Time      B Power  \\\n",
      "0             1          2  25900.20064       6               6  0.15     4   \n",
      "1             1          3  23403.47319       4               4  0.15     4   \n",
      "2             2          1  25900.20064       6               6  0.15     4   \n",
      "3             2          6  4958.180928       5               5  0.15     4   \n",
      "4             3          1  23403.47319       4               4  0.15     4   \n",
      "\n",
      "  Speed limit  Toll  Type  \n",
      "0            0     0    1  \n",
      "1            0     0    1  \n",
      "2            0     0    1  \n",
      "3            0     0    1  \n",
      "4            0     0    1  \n",
      "\n",
      "---------node---------\n",
      "  Node       X       Y\n",
      "0    1   50000  510000\n",
      "1    2  320000  510000\n",
      "2    3   50000  440000\n",
      "3    4  130000  440000\n",
      "4    5  220000  440000\n",
      "\n",
      "---------trips---------\n",
      "      1      2      3      4      5      6      7      8      9       10  \\\n",
      "1    0.0  100.0  100.0  500.0  200.0  300.0  500.0  800.0  500.0  1300.0   \n",
      "2  100.0    0.0  100.0  200.0  100.0  400.0  200.0  400.0  200.0   600.0   \n",
      "3  100.0  100.0    0.0  200.0  100.0  300.0  100.0  200.0  100.0   300.0   \n",
      "4  500.0  200.0  200.0    0.0  500.0  400.0  400.0  700.0  700.0  1200.0   \n",
      "5  200.0  100.0  100.0  500.0    0.0  200.0  200.0  500.0  800.0  1000.0   \n",
      "\n",
      "   ...       15     16     17     18     19     20     21     22     23     24  \n",
      "1  ...    500.0  500.0  400.0  100.0  300.0  300.0  100.0  400.0  300.0  100.0  \n",
      "2  ...    100.0  400.0  200.0    0.0  100.0  100.0    0.0  100.0    0.0    0.0  \n",
      "3  ...    100.0  200.0  100.0    0.0    0.0    0.0    0.0  100.0  100.0    0.0  \n",
      "4  ...    500.0  800.0  500.0  100.0  200.0  300.0  200.0  400.0  500.0  200.0  \n",
      "5  ...    200.0  500.0  200.0    0.0  100.0  100.0  100.0  200.0  100.0    0.0  \n",
      "\n",
      "[5 rows x 24 columns]\n",
      "\n",
      "---------flow---------\n",
      "  From  To      Volume Capacity                 Cost \n",
      "0    1   2   4494.6576464564205   6.0008162373543197 \n",
      "1    1   3    8119.079948047809   4.0086907502079407 \n",
      "2    2   1    4519.079948047809   6.0008341229953821 \n",
      "3    2   6   5967.3363961713767   6.5735982553868011 \n",
      "4    3   1   8094.6576464564205   4.0085866534998482 \n",
      "\n",
      "{'NUMBER OF ZONES': '24', 'NUMBER OF NODES': '24', 'FIRST THRU NODE': '1', 'NUMBER OF LINKS': '76', 'TOTAL OD FLOW': '360600.0'}\n"
     ]
    }
   ],
   "source": [
    "# net and node are ok\n",
    "metadata = {}\n",
    "network_name = \"SiouxFalls\"\n",
    "\n",
    "for suffix in [\"net\",\"node\",\"trips\", \"flow\"]:\n",
    "    print(\"---------\" + suffix + \"---------\")\n",
    "    d, metadata_aux = read_file_net(network_name, suffix)\n",
    "    metadata.update(metadata_aux)\n",
    "    print(d.head())\n",
    "    print()\n",
    "print(metadata)"
   ]
  },
  {
   "cell_type": "code",
   "execution_count": null,
   "metadata": {},
   "outputs": [],
   "source": []
  }
 ],
 "metadata": {
  "kernelspec": {
   "display_name": "Python 3",
   "language": "python",
   "name": "python3"
  },
  "language_info": {
   "codemirror_mode": {
    "name": "ipython",
    "version": 3
   },
   "file_extension": ".py",
   "mimetype": "text/x-python",
   "name": "python",
   "nbconvert_exporter": "python",
   "pygments_lexer": "ipython3",
   "version": "3.6.6"
  }
 },
 "nbformat": 4,
 "nbformat_minor": 2
}
