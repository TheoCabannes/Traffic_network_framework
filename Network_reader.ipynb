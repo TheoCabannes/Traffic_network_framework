{
 "cells": [
  {
   "cell_type": "markdown",
   "metadata": {},
   "source": [
    "# Try to read and convert the networks"
   ]
  },
  {
   "cell_type": "markdown",
   "metadata": {},
   "source": [
    "For the Sioux network"
   ]
  },
  {
   "cell_type": "code",
   "execution_count": 1,
   "metadata": {},
   "outputs": [],
   "source": [
    "import csv\n",
    "import pandas as pd\n",
    "import numpy as np\n",
    "\n",
    "# reading a TNTP text file\n",
    "def read_file_net(network_name, suffix=\"net\"):\n",
    "    assert suffix in [\"net\",\"node\",\"trips\", \"flow\"]\n",
    "    with open(\"data/\" + network_name + \"/\" + network_name + \"_\" + suffix + \".tntp\") as csv_file:\n",
    "        csv_reader = csv.reader(csv_file, delimiter=\"\\t\")\n",
    "        index_to_legend = {}\n",
    "        data = {}\n",
    "        metadata = {}\n",
    "        line_count = 0\n",
    "        for row in csv_reader:\n",
    "            if len(row)==0:\n",
    "                # The row is empty \n",
    "                continue \n",
    "            if \"<\" in row[0]:\n",
    "                metadata_aux = row[0].split('<')[1].split('> ')\n",
    "                if metadata_aux[0]==\"END OF METADATA>\":\n",
    "                    continue\n",
    "                metadata[metadata_aux[0]] = metadata_aux[1]\n",
    "            else:\n",
    "                if (suffix==\"net\" or suffix==\"node\" or suffix==\"flow\") and row[-1] == \";\":\n",
    "                    if line_count == 0:\n",
    "                        # the first line is the legend\n",
    "                        i = 0\n",
    "                        for legend in row[:-1]:\n",
    "                            # print(legend)\n",
    "                            index_to_legend[i] = legend\n",
    "                            data[legend] = []\n",
    "                            i += 1\n",
    "                    else:\n",
    "                        i = 0\n",
    "                        for point in row[:-1]:\n",
    "                            data[index_to_legend[i]].append(point)\n",
    "                            i += 1\n",
    "                        # print(row)\n",
    "                    line_count += 1\n",
    "                elif(suffix==\"trips\"):\n",
    "                    if row[0] == 'Origin ':\n",
    "                        origin = int(row[1])\n",
    "                        data[origin] = {}\n",
    "                    else:\n",
    "                        # print(row)\n",
    "                        dest_array = row[0].split(\";\")\n",
    "                        # print(dest_array)\n",
    "                        for dest in dest_array[:-1]:\n",
    "                            dest_tmp = dest.split(\":\")\n",
    "                            data[origin][int(dest_tmp[0])] = float(dest_tmp[1])\n",
    "                else:\n",
    "                    print(\"This setence should never appear. Error\")\n",
    "    d = pd.DataFrame(data)\n",
    "    return d, metadata"
   ]
  },
  {
   "cell_type": "code",
   "execution_count": 21,
   "metadata": {},
   "outputs": [],
   "source": [
    "# net and node are ok\n",
    "network_name = \"SiouxFalls\"\n",
    "\n",
    "d, metadata = read_file_net(network_name, 'net')\n",
    "d_net = d.drop(['~ ',  'Length ', 'Speed limit ', 'Toll ', 'Type'], axis=1)\n",
    "\n",
    "d_node, metadata_aux = read_file_net(network_name, 'node')\n",
    "metadata.update(metadata_aux)\n",
    "\n",
    "d_od, metadata_aux = read_file_net(network_name, 'trips')\n",
    "# d_od is a matrix\n",
    "metadata.update(metadata_aux)\n",
    "\n",
    "d_sol, metadata_aux = read_file_net(network_name, 'flow')\n",
    "metadata.update(metadata_aux)"
   ]
  },
  {
   "cell_type": "code",
   "execution_count": 23,
   "metadata": {},
   "outputs": [
    {
     "name": "stdout",
     "output_type": "stream",
     "text": [
      "  Init node  Term node     Capacity  Free Flow Time      B Power\n",
      "0          1          2  25900.20064               6  0.15     4\n",
      "1          1          3  23403.47319               4  0.15     4\n",
      "2          2          1  25900.20064               6  0.15     4\n",
      "3          2          6  4958.180928               5  0.15     4\n",
      "4          3          1  23403.47319               4  0.15     4\n",
      "  From  To      Volume Capacity                 Cost \n",
      "0    1   2   4494.6576464564205   6.0008162373543197 \n",
      "1    1   3    8119.079948047809   4.0086907502079407 \n",
      "2    2   1    4519.079948047809   6.0008341229953821 \n",
      "3    2   6   5967.3363961713767   6.5735982553868011 \n",
      "4    3   1   8094.6576464564205   4.0085866534998482 \n",
      "['~ ', 'Init node ', 'Term node ', 'Capacity ', 'Length ', 'Free Flow Time ', 'B', 'Power', 'Speed limit ', 'Toll ', 'Type']\n"
     ]
    }
   ],
   "source": [
    "print(d_net.head())\n",
    "print(d_sol.head())"
   ]
  },
  {
   "cell_type": "code",
   "execution_count": 92,
   "metadata": {},
   "outputs": [
    {
     "name": "stdout",
     "output_type": "stream",
     "text": [
      "   Init node   Term node      Capacity   Free Flow Time      B  Power  \\\n",
      "0           1           2  25900.200640                6  0.15      4   \n",
      "1           1           3  23403.473190                4  0.15      4   \n",
      "2           2           1  25900.200640                6  0.15      4   \n",
      "3           2           6   4958.180928                5  0.15      4   \n",
      "4           3           1  23403.473190                4  0.15      4   \n",
      "\n",
      "   Volume Capacity      Cost   \n",
      "0       4494.657646  6.000816  \n",
      "1       8119.079948  4.008691  \n",
      "2       4519.079948  6.000834  \n",
      "3       5967.336396  6.573598  \n",
      "4       8094.657646  4.008587  \n"
     ]
    }
   ],
   "source": [
    "result = pd.concat([d_net, d_sol], axis=1)\n",
    "result['Init node '] = pd.to_numeric(result['Init node '])\n",
    "result['From '] = pd.to_numeric(result['From '])\n",
    "result['Term node '] = pd.to_numeric(result['Term node '])\n",
    "result['To '] = pd.to_numeric(result['To '])\n",
    "result['Cost '] = pd.to_numeric(result['Cost '])\n",
    "result['Free Flow Time '] = pd.to_numeric(result['Free Flow Time '])\n",
    "result['Volume Capacity '] = pd.to_numeric(result['Volume Capacity '])\n",
    "result['Capacity '] = pd.to_numeric(result['Capacity '])\n",
    "result['B'] = pd.to_numeric(result['B'])\n",
    "result['Power'] = pd.to_numeric(result['Power'])\n",
    "\n",
    "# print(list(result.columns.values))\n",
    "if np.sum((result['Init node '] == result['From ']).values) == result.shape[0]:\n",
    "    result = result.drop('From ', axis=1)\n",
    "if np.sum((result['Term node '] == result['To ']).values) == result.shape[0]:\n",
    "    result = result.drop('To ', axis=1)\n",
    "\n",
    "# result['cost test'] = result['Free Flow Time '].values * (1 + result['B'].values * ((result['Volume Capacity '].values / result['Capacity '].values)**result['Power'].values))\n",
    "print(result.head())\n",
    "\n"
   ]
  },
  {
   "cell_type": "code",
   "execution_count": null,
   "metadata": {},
   "outputs": [],
   "source": []
  }
 ],
 "metadata": {
  "kernelspec": {
   "display_name": "Python 3",
   "language": "python",
   "name": "python3"
  },
  "language_info": {
   "codemirror_mode": {
    "name": "ipython",
    "version": 3
   },
   "file_extension": ".py",
   "mimetype": "text/x-python",
   "name": "python",
   "nbconvert_exporter": "python",
   "pygments_lexer": "ipython3",
   "version": "3.6.6"
  }
 },
 "nbformat": 4,
 "nbformat_minor": 2
}
