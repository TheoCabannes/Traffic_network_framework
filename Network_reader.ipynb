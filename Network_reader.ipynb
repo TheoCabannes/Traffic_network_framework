{
 "cells": [
  {
   "cell_type": "markdown",
   "metadata": {},
   "source": [
    "# Try to read and convert the networks"
   ]
  },
  {
   "cell_type": "markdown",
   "metadata": {},
   "source": [
    "For the Sioux network"
   ]
  },
  {
   "cell_type": "code",
   "execution_count": 6,
   "metadata": {},
   "outputs": [],
   "source": [
    "import csv\n",
    "import pandas as pd\n",
    "import numpy as np\n",
    "\n",
    "# reading a TNTP text file\n",
    "def read_file_net(network_name, suffix=\"net\"):\n",
    "    assert suffix in [\"net\",\"node\",\"trips\", \"flow\"]\n",
    "    with open(\"data/\" + network_name + \"/\" + network_name + \"_\" + suffix + \".tntp\") as csv_file:\n",
    "        csv_reader = csv.reader(csv_file, delimiter=\"\\t\")\n",
    "        index_to_legend = {}\n",
    "        data = {}\n",
    "        metadata = {}\n",
    "        line_count = 0\n",
    "        for row in csv_reader:\n",
    "            if len(row)==0:\n",
    "                # The row is empty \n",
    "                continue \n",
    "            if \"<\" in row[0]:\n",
    "                metadata_aux = row[0].split('<')[1].split('> ')\n",
    "                if metadata_aux[0]==\"END OF METADATA>\":\n",
    "                    continue\n",
    "                metadata[metadata_aux[0]] = metadata_aux[1]\n",
    "            else:\n",
    "                if (suffix==\"net\" or suffix==\"node\" or suffix==\"flow\") and row[-1] == \";\":\n",
    "                    if line_count == 0:\n",
    "                        # the first line is the legend\n",
    "                        i = 0\n",
    "                        for legend in row[:-1]:\n",
    "                            # print(legend)\n",
    "                            index_to_legend[i] = legend\n",
    "                            data[legend] = []\n",
    "                            i += 1\n",
    "                    else:\n",
    "                        i = 0\n",
    "                        for point in row[:-1]:\n",
    "                            data[index_to_legend[i]].append(point)\n",
    "                            i += 1\n",
    "                        # print(row)\n",
    "                    line_count += 1\n",
    "                elif(suffix==\"trips\"):\n",
    "                    if row[0] == 'Origin ':\n",
    "                        origin = int(row[1])\n",
    "                        data[origin] = {}\n",
    "                    else:\n",
    "                        # print(row)\n",
    "                        dest_array = row[0].split(\";\")\n",
    "                        # print(dest_array)\n",
    "                        for dest in dest_array[:-1]:\n",
    "                            dest_tmp = dest.split(\":\")\n",
    "                            data[origin][int(dest_tmp[0])] = float(dest_tmp[1])\n",
    "                else:\n",
    "                    print(\"This setence should never appear. Error\")\n",
    "    d = pd.DataFrame(data)\n",
    "    return d, metadata"
   ]
  },
  {
   "cell_type": "code",
   "execution_count": 21,
   "metadata": {},
   "outputs": [
    {
     "name": "stdout",
     "output_type": "stream",
     "text": [
      "This setence should never appear. Error\n",
      "This setence should never appear. Error\n"
     ]
    }
   ],
   "source": [
    "# net and node are ok\n",
    "network_name = \"Braess\"\n",
    "\n",
    "d, metadata = read_file_net(network_name, 'net')\n",
    "d_net = d.drop(['~ ',  'Length ', 'Speed limit ', 'Toll ', 'Type'], axis=1)\n",
    "\n",
    "#d_node, metadata_aux = read_file_net(network_name, 'node')\n",
    "#metadata.update(metadata_aux)\n",
    "\n",
    "d_od, metadata_aux = read_file_net(network_name, 'trips')\n",
    "# d_od is a matrix\n",
    "metadata.update(metadata_aux)\n",
    "\n",
    "#d_sol, metadata_aux = read_file_net(network_name, 'flow')\n",
    "#metadata.update(metadata_aux)"
   ]
  },
  {
   "cell_type": "code",
   "execution_count": 22,
   "metadata": {},
   "outputs": [
    {
     "name": "stdout",
     "output_type": "stream",
     "text": [
      "  Init node  Term node  Capacity  Free Flow Time            B Power\n",
      "0          1          3         1      0.00000001  1000000000     1\n",
      "1          1          4         1              50        0.02     1\n",
      "2          3          2         1              50        0.02     1\n",
      "3          3          4         1              10         0.1     1\n",
      "4          4          2         1      0.00000001  1000000000     1\n"
     ]
    }
   ],
   "source": [
    "print(d_net)\n",
    "# print(d_sol.head())"
   ]
  },
  {
   "cell_type": "code",
   "execution_count": 23,
   "metadata": {},
   "outputs": [
    {
     "ename": "NameError",
     "evalue": "name 'd_sol' is not defined",
     "output_type": "error",
     "traceback": [
      "\u001b[0;31m---------------------------------------------------------------------------\u001b[0m",
      "\u001b[0;31mNameError\u001b[0m                                 Traceback (most recent call last)",
      "\u001b[0;32m<ipython-input-23-2ec29966abe3>\u001b[0m in \u001b[0;36m<module>\u001b[0;34m()\u001b[0m\n\u001b[0;32m----> 1\u001b[0;31m \u001b[0mresult\u001b[0m \u001b[0;34m=\u001b[0m \u001b[0mpd\u001b[0m\u001b[0;34m.\u001b[0m\u001b[0mconcat\u001b[0m\u001b[0;34m(\u001b[0m\u001b[0;34m[\u001b[0m\u001b[0md_net\u001b[0m\u001b[0;34m,\u001b[0m \u001b[0md_sol\u001b[0m\u001b[0;34m]\u001b[0m\u001b[0;34m,\u001b[0m \u001b[0maxis\u001b[0m\u001b[0;34m=\u001b[0m\u001b[0;36m1\u001b[0m\u001b[0;34m)\u001b[0m\u001b[0;34m\u001b[0m\u001b[0m\n\u001b[0m\u001b[1;32m      2\u001b[0m \u001b[0mresult\u001b[0m\u001b[0;34m[\u001b[0m\u001b[0;34m'Init node '\u001b[0m\u001b[0;34m]\u001b[0m \u001b[0;34m=\u001b[0m \u001b[0mpd\u001b[0m\u001b[0;34m.\u001b[0m\u001b[0mto_numeric\u001b[0m\u001b[0;34m(\u001b[0m\u001b[0mresult\u001b[0m\u001b[0;34m[\u001b[0m\u001b[0;34m'Init node '\u001b[0m\u001b[0;34m]\u001b[0m\u001b[0;34m)\u001b[0m\u001b[0;34m\u001b[0m\u001b[0m\n\u001b[1;32m      3\u001b[0m \u001b[0mresult\u001b[0m\u001b[0;34m[\u001b[0m\u001b[0;34m'From '\u001b[0m\u001b[0;34m]\u001b[0m \u001b[0;34m=\u001b[0m \u001b[0mpd\u001b[0m\u001b[0;34m.\u001b[0m\u001b[0mto_numeric\u001b[0m\u001b[0;34m(\u001b[0m\u001b[0mresult\u001b[0m\u001b[0;34m[\u001b[0m\u001b[0;34m'From '\u001b[0m\u001b[0;34m]\u001b[0m\u001b[0;34m)\u001b[0m\u001b[0;34m\u001b[0m\u001b[0m\n\u001b[1;32m      4\u001b[0m \u001b[0mresult\u001b[0m\u001b[0;34m[\u001b[0m\u001b[0;34m'Term node '\u001b[0m\u001b[0;34m]\u001b[0m \u001b[0;34m=\u001b[0m \u001b[0mpd\u001b[0m\u001b[0;34m.\u001b[0m\u001b[0mto_numeric\u001b[0m\u001b[0;34m(\u001b[0m\u001b[0mresult\u001b[0m\u001b[0;34m[\u001b[0m\u001b[0;34m'Term node '\u001b[0m\u001b[0;34m]\u001b[0m\u001b[0;34m)\u001b[0m\u001b[0;34m\u001b[0m\u001b[0m\n\u001b[1;32m      5\u001b[0m \u001b[0mresult\u001b[0m\u001b[0;34m[\u001b[0m\u001b[0;34m'To '\u001b[0m\u001b[0;34m]\u001b[0m \u001b[0;34m=\u001b[0m \u001b[0mpd\u001b[0m\u001b[0;34m.\u001b[0m\u001b[0mto_numeric\u001b[0m\u001b[0;34m(\u001b[0m\u001b[0mresult\u001b[0m\u001b[0;34m[\u001b[0m\u001b[0;34m'To '\u001b[0m\u001b[0;34m]\u001b[0m\u001b[0;34m)\u001b[0m\u001b[0;34m\u001b[0m\u001b[0m\n",
      "\u001b[0;31mNameError\u001b[0m: name 'd_sol' is not defined"
     ]
    }
   ],
   "source": [
    "result = pd.concat([d_net, d_sol], axis=1)\n",
    "result['Init node '] = pd.to_numeric(result['Init node '])\n",
    "result['From '] = pd.to_numeric(result['From '])\n",
    "result['Term node '] = pd.to_numeric(result['Term node '])\n",
    "result['To '] = pd.to_numeric(result['To '])\n",
    "result['Cost '] = pd.to_numeric(result['Cost '])\n",
    "result['Free Flow Time '] = pd.to_numeric(result['Free Flow Time '])\n",
    "result['Volume Capacity '] = pd.to_numeric(result['Volume Capacity '])\n",
    "result['Capacity '] = pd.to_numeric(result['Capacity '])\n",
    "result['B'] = pd.to_numeric(result['B'])\n",
    "result['Power'] = pd.to_numeric(result['Power'])\n",
    "\n",
    "# print(list(result.columns.values))\n",
    "if np.sum((result['Init node '] == result['From ']).values) == result.shape[0]:\n",
    "    result = result.drop('From ', axis=1)\n",
    "if np.sum((result['Term node '] == result['To ']).values) == result.shape[0]:\n",
    "    result = result.drop('To ', axis=1)\n",
    "\n",
    "# result['cost test'] = result['Free Flow Time '].values * (1 + result['B'].values * ((result['Volume Capacity '].values / result['Capacity '].values)**result['Power'].values))\n",
    "print(result.head())\n",
    "\n"
   ]
  },
  {
   "cell_type": "code",
   "execution_count": 24,
   "metadata": {},
   "outputs": [
    {
     "ename": "NameError",
     "evalue": "name 'result' is not defined",
     "output_type": "error",
     "traceback": [
      "\u001b[0;31m---------------------------------------------------------------------------\u001b[0m",
      "\u001b[0;31mNameError\u001b[0m                                 Traceback (most recent call last)",
      "\u001b[0;32m<ipython-input-24-e8c3f4af5ea1>\u001b[0m in \u001b[0;36m<module>\u001b[0;34m()\u001b[0m\n\u001b[0;32m----> 1\u001b[0;31m \u001b[0mprint\u001b[0m\u001b[0;34m(\u001b[0m\u001b[0mlist\u001b[0m\u001b[0;34m(\u001b[0m\u001b[0mresult\u001b[0m\u001b[0;34m.\u001b[0m\u001b[0mcolumns\u001b[0m\u001b[0;34m.\u001b[0m\u001b[0mvalues\u001b[0m\u001b[0;34m)\u001b[0m\u001b[0;34m)\u001b[0m\u001b[0;34m\u001b[0m\u001b[0m\n\u001b[0m\u001b[1;32m      2\u001b[0m \u001b[0mresult\u001b[0m\u001b[0;34m[\u001b[0m\u001b[0;34m'fft'\u001b[0m\u001b[0;34m]\u001b[0m \u001b[0;34m=\u001b[0m \u001b[0mresult\u001b[0m\u001b[0;34m[\u001b[0m\u001b[0;34m'Free Flow Time '\u001b[0m\u001b[0;34m]\u001b[0m\u001b[0;34m.\u001b[0m\u001b[0mvalues\u001b[0m\u001b[0;34m\u001b[0m\u001b[0m\n\u001b[1;32m      3\u001b[0m \u001b[0mresult\u001b[0m\u001b[0;34m[\u001b[0m\u001b[0;34m'B'\u001b[0m\u001b[0;34m]\u001b[0m \u001b[0;34m=\u001b[0m \u001b[0mresult\u001b[0m\u001b[0;34m[\u001b[0m\u001b[0;34m'B'\u001b[0m\u001b[0;34m]\u001b[0m\u001b[0;34m.\u001b[0m\u001b[0mvalues\u001b[0m\u001b[0;34m\u001b[0m\u001b[0m\n\u001b[1;32m      4\u001b[0m \u001b[0mresult\u001b[0m\u001b[0;34m[\u001b[0m\u001b[0;34m'Power'\u001b[0m\u001b[0;34m]\u001b[0m \u001b[0;34m=\u001b[0m \u001b[0mresult\u001b[0m\u001b[0;34m[\u001b[0m\u001b[0;34m'Power'\u001b[0m\u001b[0;34m]\u001b[0m\u001b[0;34m.\u001b[0m\u001b[0mvalues\u001b[0m\u001b[0;34m\u001b[0m\u001b[0m\n\u001b[1;32m      5\u001b[0m \u001b[0mresult\u001b[0m\u001b[0;34m[\u001b[0m\u001b[0;34m'Volume Capacity '\u001b[0m\u001b[0;34m]\u001b[0m \u001b[0;34m=\u001b[0m \u001b[0mresult\u001b[0m\u001b[0;34m[\u001b[0m\u001b[0;34m'Volume Capacity '\u001b[0m\u001b[0;34m]\u001b[0m\u001b[0;34m.\u001b[0m\u001b[0mvalues\u001b[0m\u001b[0;34m\u001b[0m\u001b[0m\n",
      "\u001b[0;31mNameError\u001b[0m: name 'result' is not defined"
     ]
    }
   ],
   "source": [
    "print(list(result.columns.values))\n",
    "result['fft'] = result['Free Flow Time '].values\n",
    "result['B'] = result['B'].values\n",
    "result['Power'] = result['Power'].values\n",
    "result['Volume Capacity '] = result['Volume Capacity '].values\n",
    "net_tmp = result.drop(['Capacity ', 'Free Flow Time ', 'Cost '], axis=1)\n",
    "print(net_tmp.head().to_csv())\n",
    "\n",
    "f = open(\"data/\" + network_name + \"_bis_net.csv\", \"w\")\n",
    "f.write(net_tmp.to_csv())\n",
    "f.close()"
   ]
  },
  {
   "cell_type": "code",
   "execution_count": 25,
   "metadata": {},
   "outputs": [
    {
     "ename": "NameError",
     "evalue": "name 'result' is not defined",
     "output_type": "error",
     "traceback": [
      "\u001b[0;31m---------------------------------------------------------------------------\u001b[0m",
      "\u001b[0;31mNameError\u001b[0m                                 Traceback (most recent call last)",
      "\u001b[0;32m<ipython-input-25-7ed813a25c1f>\u001b[0m in \u001b[0;36m<module>\u001b[0;34m()\u001b[0m\n\u001b[0;32m----> 1\u001b[0;31m \u001b[0mprint\u001b[0m\u001b[0;34m(\u001b[0m\u001b[0mlist\u001b[0m\u001b[0;34m(\u001b[0m\u001b[0mresult\u001b[0m\u001b[0;34m.\u001b[0m\u001b[0mcolumns\u001b[0m\u001b[0;34m.\u001b[0m\u001b[0mvalues\u001b[0m\u001b[0;34m)\u001b[0m\u001b[0;34m)\u001b[0m\u001b[0;34m\u001b[0m\u001b[0m\n\u001b[0m\u001b[1;32m      2\u001b[0m \u001b[0mresult\u001b[0m\u001b[0;34m[\u001b[0m\u001b[0;34m'a0'\u001b[0m\u001b[0;34m]\u001b[0m \u001b[0;34m=\u001b[0m \u001b[0mresult\u001b[0m\u001b[0;34m[\u001b[0m\u001b[0;34m'Free Flow Time '\u001b[0m\u001b[0;34m]\u001b[0m\u001b[0;34m.\u001b[0m\u001b[0mvalues\u001b[0m\u001b[0;34m\u001b[0m\u001b[0m\n\u001b[1;32m      3\u001b[0m \u001b[0mresult\u001b[0m\u001b[0;34m[\u001b[0m\u001b[0;34m'a1'\u001b[0m\u001b[0;34m]\u001b[0m \u001b[0;34m=\u001b[0m \u001b[0;36m0\u001b[0m\u001b[0;34m\u001b[0m\u001b[0m\n\u001b[1;32m      4\u001b[0m \u001b[0mresult\u001b[0m\u001b[0;34m[\u001b[0m\u001b[0;34m'a2'\u001b[0m\u001b[0;34m]\u001b[0m \u001b[0;34m=\u001b[0m \u001b[0;36m0\u001b[0m\u001b[0;34m\u001b[0m\u001b[0m\n\u001b[1;32m      5\u001b[0m \u001b[0mresult\u001b[0m\u001b[0;34m[\u001b[0m\u001b[0;34m'a3'\u001b[0m\u001b[0;34m]\u001b[0m \u001b[0;34m=\u001b[0m \u001b[0;36m0\u001b[0m\u001b[0;34m\u001b[0m\u001b[0m\n",
      "\u001b[0;31mNameError\u001b[0m: name 'result' is not defined"
     ]
    }
   ],
   "source": [
    "print(list(result.columns.values))\n",
    "result['a0'] = result['Free Flow Time '].values\n",
    "result['a1'] = 0\n",
    "result['a2'] = 0\n",
    "result['a3'] = 0\n",
    "result['a4'] = result['B'].values * result['Free Flow Time '].values * ((1/result['Capacity '].values)**result['Power'])\n",
    "net_tmp = result.drop(['Capacity ', 'Free Flow Time ', 'B', 'Power', 'a0', 'a1', 'a2', 'a3', 'a4', 'Init node ', 'Term node '], axis=1)\n",
    "print(net_tmp.head().to_csv())\n",
    "\n",
    "f = open(\"data/\" + network_name + \"_bis_result.csv\", \"w\")\n",
    "f.write(net_tmp.to_csv())\n",
    "f.close()"
   ]
  },
  {
   "cell_type": "code",
   "execution_count": 26,
   "metadata": {},
   "outputs": [],
   "source": [
    "import scipy.sparse\n",
    "np_od = d_od.values\n",
    "od_csr = scipy.sparse.csr_matrix(np_od)\n",
    "\n",
    "f = open(\"data/\" + network_name + \"_bis_od.csv\", \"w\")\n",
    "f.write(\"O,D,Ton\\n\")\n",
    "for od, dod in od_csr.todok().items():\n",
    "    f.write(str(od[0]+1) + \",\" + str(od[1]+1) + \",\" + str(dod) + \"\\n\")\n",
    "f.close()"
   ]
  },
  {
   "cell_type": "code",
   "execution_count": 27,
   "metadata": {},
   "outputs": [
    {
     "ename": "NameError",
     "evalue": "name 'd_node' is not defined",
     "output_type": "error",
     "traceback": [
      "\u001b[0;31m---------------------------------------------------------------------------\u001b[0m",
      "\u001b[0;31mNameError\u001b[0m                                 Traceback (most recent call last)",
      "\u001b[0;32m<ipython-input-27-48ad7d659d9b>\u001b[0m in \u001b[0;36m<module>\u001b[0;34m()\u001b[0m\n\u001b[0;32m----> 1\u001b[0;31m \u001b[0mprint\u001b[0m\u001b[0;34m(\u001b[0m\u001b[0md_node\u001b[0m\u001b[0;34m.\u001b[0m\u001b[0mhead\u001b[0m\u001b[0;34m(\u001b[0m\u001b[0;34m)\u001b[0m\u001b[0;34m)\u001b[0m\u001b[0;34m\u001b[0m\u001b[0m\n\u001b[0m",
      "\u001b[0;31mNameError\u001b[0m: name 'd_node' is not defined"
     ]
    }
   ],
   "source": [
    "print(d_node.head())"
   ]
  },
  {
   "cell_type": "code",
   "execution_count": 28,
   "metadata": {},
   "outputs": [
    {
     "ename": "NameError",
     "evalue": "name 'd_node' is not defined",
     "output_type": "error",
     "traceback": [
      "\u001b[0;31m---------------------------------------------------------------------------\u001b[0m",
      "\u001b[0;31mNameError\u001b[0m                                 Traceback (most recent call last)",
      "\u001b[0;32m<ipython-input-28-7ab2aa6d21a6>\u001b[0m in \u001b[0;36m<module>\u001b[0;34m()\u001b[0m\n\u001b[1;32m      2\u001b[0m \u001b[0;34m\u001b[0m\u001b[0m\n\u001b[1;32m      3\u001b[0m \u001b[0;34m\u001b[0m\u001b[0m\n\u001b[0;32m----> 4\u001b[0;31m \u001b[0mf\u001b[0m\u001b[0;34m.\u001b[0m\u001b[0mwrite\u001b[0m\u001b[0;34m(\u001b[0m\u001b[0md_node\u001b[0m\u001b[0;34m.\u001b[0m\u001b[0mto_csv\u001b[0m\u001b[0;34m(\u001b[0m\u001b[0;34m)\u001b[0m\u001b[0;34m)\u001b[0m\u001b[0;34m\u001b[0m\u001b[0m\n\u001b[0m\u001b[1;32m      5\u001b[0m \u001b[0mf\u001b[0m\u001b[0;34m.\u001b[0m\u001b[0mclose\u001b[0m\u001b[0;34m(\u001b[0m\u001b[0;34m)\u001b[0m\u001b[0;34m\u001b[0m\u001b[0m\n",
      "\u001b[0;31mNameError\u001b[0m: name 'd_node' is not defined"
     ]
    }
   ],
   "source": [
    "f = open(\"data/\" + network_name + \"_bis_node.csv\", \"w\")\n",
    "\n",
    "\n",
    "f.write(d_node.to_csv())\n",
    "f.close()\n"
   ]
  },
  {
   "cell_type": "code",
   "execution_count": null,
   "metadata": {},
   "outputs": [],
   "source": []
  }
 ],
 "metadata": {
  "kernelspec": {
   "display_name": "Python 3",
   "language": "python",
   "name": "python3"
  },
  "language_info": {
   "codemirror_mode": {
    "name": "ipython",
    "version": 3
   },
   "file_extension": ".py",
   "mimetype": "text/x-python",
   "name": "python",
   "nbconvert_exporter": "python",
   "pygments_lexer": "ipython3",
   "version": "3.6.6"
  }
 },
 "nbformat": 4,
 "nbformat_minor": 2
}
