{
 "cells": [
  {
   "cell_type": "markdown",
   "metadata": {},
   "source": [
    "Given link flows and capacity constraints, this function finds a feasible set of link flows. The inputs to the function are:"
   ]
  },
  {
   "cell_type": "markdown",
   "metadata": {},
   "source": [
    "f(vector): given (possibly infeasible) link flows"
   ]
  },
  {
   "cell_type": "markdown",
   "metadata": {},
   "source": [
    "u(vector): link capacity constraints to be met"
   ]
  },
  {
   "cell_type": "markdown",
   "metadata": {},
   "source": [
    "delta(matrix): link*route incidence matrix"
   ]
  },
  {
   "cell_type": "markdown",
   "metadata": {},
   "source": [
    "od2route(matrix): K*max_r gives indices of all routes for a given od pair"
   ]
  },
  {
   "cell_type": "markdown",
   "metadata": {},
   "source": [
    "The output of the function is "
   ]
  },
  {
   "cell_type": "markdown",
   "metadata": {},
   "source": [
    "f_feas(vector): feasible link flows for given capacity constraints"
   ]
  },
  {
   "cell_type": "code",
   "execution_count": 1,
   "metadata": {},
   "outputs": [],
   "source": [
    "debug = False\n",
    "def find_feasible(f,u,delta,od2route):\n",
    "    import numpy as np\n",
    "    delta = np.matrix(delta)\n",
    "    u = np.array(u)\n",
    "    \n",
    "    l = np.shape(f)[0] #number of links in network\n",
    "    K = np.shape(od2route)[0] #number of od pairs in network\n",
    "    r = np.shape(delta)[1] #number of routes in network\n",
    "    d = np.zeros((l,r))\n",
    "    f_feas = f #vector of feasible flows satisfying capacity constraints\n",
    "    for k in range(K):\n",
    "        if debug:\n",
    "            print('OD pair: %d'%(k+1))\n",
    "        r_k = od2route[k,:] #vector of indices of all routes bw od pair k\n",
    "        if isinstance(r_k,list): \n",
    "            r_k = r_k[0]\n",
    "        r_k = r_k[np.invert(np.isnan(r_k))] #take only existing routes\n",
    "        r_k = r_k.astype(int)\n",
    "        if debug:\n",
    "            print('Routes %s'%r_k)\n",
    "        flag1 = [f_feas>u] \n",
    "        sat_f = np.nonzero(flag1)[1] #indices of saturated flows\n",
    "        d = (delta>0) #binary link route incidence matrix\n",
    "        d = d*1\n",
    "        #update the incidence matrix to find saturated flows\n",
    "    \n",
    "        # for R in r_k:\n",
    "        for i in sat_f:\n",
    "            d[i,:] = 2 * d[i,:]\n",
    "        #        if d[i,R]>0:\n",
    "        #            d[i,R] = d[i,R]+1 #matrix indicating routes with saturated links\n",
    "                    #0: link not in route, 1: unsaturated link, 2: saturated link\n",
    "        sat = np.where(np.max(d[:,r_k],axis=0)==2)[1] #saturated routes\n",
    "        unsat = np.where(np.max(d[:,r_k],axis=0)==1)[1] #unsaturated routes\n",
    "        if np.size(sat)==0 and debug:#if no saturated route is present for a given od pair\n",
    "            print('No saturated route for OD pair: %d'%(k+1))\n",
    "        \n",
    "        else:#presence of at least one saturated route\n",
    "            f_r = 1.0\n",
    "            for r in sat:#For each saturated route\n",
    "                if (np.max(d[:,r],axis=0)==2)&(f_r>0):\n",
    "                    l_r = np.where(d[:,r]>0)[0] #links in saturated route r\n",
    "                    f_r = max(f_feas[l_r]-u[l_r]) #flow to be rerouted from saturated route r\n",
    "                    flag = 1\n",
    "                    while flag: # as long as the route r remains saturated\n",
    "                        unsat = np.where(np.max(d[:,r_k],axis=0)==1)[1] #unsaturated routes\n",
    "                        cap = np.zeros(np.size(unsat))\n",
    "                        c = 0\n",
    "                        for us in unsat: #compute extra capacity for unsaturated routes\n",
    "                            l_u = np.where(d[:,us]>0)[0] #links in unsaturated route u\n",
    "                            cap[c] = min(u[l_u]-f_feas[l_u]) #extra capacity of unsaturated route u\n",
    "                            c = c+1\n",
    "                        i_unsat_sort = np.flip(np.argsort(cap),0) #unsaturated routes sorted in decreasing order of capacities\n",
    "                        cap_sort = cap[i_unsat_sort] \n",
    "                        if f_r<=cap_sort[0]: #all flow to be rerouted can be put in one unsat route\n",
    "                            f_feas[np.where(d[:,r]>0)[0]] = f_feas[np.where(d[:,r]>0)[0]]-f_r #remove f_r from sat route r\n",
    "                            f_feas[np.where(d[:,unsat[i_unsat_sort[0]]]>0)[0]] = f_feas[np.where(d[:,unsat[i_unsat_sort[0]]]>0)[0]]+f_r #move f_r to route with highest capacity\n",
    "                            gl = np.where(d[:,r]==2)[0]\n",
    "                            d[np.where(d[:,r]>0)[0],r] = 1\n",
    "                            d[gl,np.where(d[gl,:]>0)[1]] = 1\n",
    "                            flag = 0\n",
    "                        else: #split flow to be rerouted\n",
    "                            f_feas[np.where(d[:,r]>0)[0]] = f_feas[np.where(d[:,r]>0)[0]]-cap_sort[0] #remove cap_sort[0] from sat route r\n",
    "                            f_feas[np.where(d[:,unsat[i_unsat_sort[0]]]>0)[0]] = f_feas[np.where(d[:,unsat[i_unsat_sort[0]]]>0)[0]]+cap_sort[0] #move f_r to route with highest capacity\n",
    "                            f_r = f_r-cap_sort[0]\n",
    "                            flag = 1\n",
    "    if debug:\n",
    "        print('Capacities:')\n",
    "        print(u)\n",
    "        print('Feasible flows:')\n",
    "        print(f_feas)\n",
    "    return f_feas"
   ]
  },
  {
   "cell_type": "code",
   "execution_count": 2,
   "metadata": {},
   "outputs": [],
   "source": [
    "import numpy as np\n",
    "f = np.matrix([3.5,1,2.5,1,3.5])\n",
    "f = f.reshape((5,1))\n",
    "u = np.matrix([10.0,10.0,2.0,10.0,10.0])\n",
    "u = u.reshape((5,1))\n",
    "delta = np.matrix([[1,1,0],[0,0,1],[0,1,0],[1,0,0],[0,1,1]])\n",
    "od2route = np.array([[0,1,2]])"
   ]
  },
  {
   "cell_type": "code",
   "execution_count": 3,
   "metadata": {},
   "outputs": [],
   "source": [
    "f_feas = find_feasible(f,u,delta,od2route)"
   ]
  },
  {
   "cell_type": "code",
   "execution_count": 4,
   "metadata": {},
   "outputs": [],
   "source": [
    "import numpy as np\n",
    "f = np.matrix([4.0,2.0,3.0,1.0,5.0])\n",
    "f = f.reshape((5,1))\n",
    "u = np.matrix([10.0,10.0,2.0,10.0,10.0])\n",
    "u = u.reshape((5,1))\n",
    "delta = np.matrix([[1,1,0,1,0],[0,0,1,0,1],[0,1,0,1,0],[1,0,0,0,0],[0,1,1,0,0]])\n",
    "od2route = np.array([[0,1,2],[3,4,np.nan]])\n",
    "f_feas = find_feasible(f,u,delta,od2route)"
   ]
  },
  {
   "cell_type": "code",
   "execution_count": 5,
   "metadata": {},
   "outputs": [],
   "source": [
    "def inv_route_to_od(route2od):\n",
    "    nb_od = np.max(route2od) + 1\n",
    "    od2route = {}\n",
    "    nb_path_max_od_tmp = np.zeros(nb_od, dtype=int)\n",
    "    for i in range(len(route2od)):\n",
    "        if route2od[i] not in od2route.keys():\n",
    "            od2route[route2od[i]] = set()\n",
    "        od2route[route2od[i]].add(i)\n",
    "        nb_path_max_od_tmp[route2od[i]] += 1\n",
    "\n",
    "    nb_path_max_od = np.max(nb_path_max_od_tmp)\n",
    "    od2route_tmp = np.ones((nb_od, nb_path_max_od)) * np.nan\n",
    "    for i in od2route.keys():\n",
    "        for j in range(len(od2route[i])):\n",
    "            od2route_tmp[i][j] = od2route[i].pop()\n",
    "    return od2route_tmp"
   ]
  },
  {
   "cell_type": "code",
   "execution_count": 6,
   "metadata": {},
   "outputs": [
    {
     "name": "stdout",
     "output_type": "stream",
     "text": [
      "\n",
      "1\n",
      "Comparing the solutions:\n",
      "Objective solution: 32.275001024090166\n",
      "Objective estimate: 32.49999744127699\n",
      "Link flow solution: [5.49999716 4.50000284 0.99999488 4.50000228 5.49999772]\n",
      "Link flow feasible flow: [4.00000853 5.99999147 1.         3.00000853 6.99999147]\n",
      "Path flow solution: [0.99999488 4.50000228 4.50000284]\n",
      "Path flow feasible flow: [1.         3.00000853 5.99999147]\n",
      "\n",
      "2\n",
      "Comparing the solutions:\n",
      "Objective solution: 32.100000291101786\n",
      "Objective estimate: 32.325000440595716\n",
      "Link flow solution: [5.99999716 4.00000284 1.99999806 3.99999911 6.00000089]\n",
      "Link flow feasible flow: [4.49999853 5.50000147 2.         2.49999853 7.50000147]\n",
      "Path flow solution: [1.99999806 3.99999911 4.00000284]\n",
      "Path flow feasible flow: [2.         2.49999853 5.50000147]\n",
      "\n",
      "3\n",
      "Comparing the solutions:\n",
      "Objective solution: 31.97500051883101\n",
      "Objective estimate: 32.075000293730554\n",
      "Link flow solution: [6.4999994  3.5000006  2.99999481 3.50000459 6.49999541]\n",
      "Link flow feasible flow: [5.49999853 4.50000147 3.         2.49999853 7.50000147]\n",
      "Path flow solution: [2.99999481 3.50000459 3.5000006 ]\n",
      "Path flow feasible flow: [3.         2.49999853 4.50000147]\n",
      "\n",
      "4\n",
      "Comparing the solutions:\n",
      "Objective solution: 31.90000893415325\n",
      "Objective estimate: 31.925000146865386\n",
      "Link flow solution: [6.99991009 3.00008991 3.99982133 3.00008875 6.99991125]\n",
      "Link flow feasible flow: [6.49999853 3.50000147 4.         2.49999853 7.50000147]\n",
      "Path flow solution: [3.99982133 3.00008875 3.00008991]\n",
      "Path flow feasible flow: [4.         2.49999853 3.50000147]\n",
      "\n",
      "5\n",
      "Comparing the solutions:\n",
      "Objective solution: 31.875000001254264\n",
      "Objective estimate: 31.875000000000217\n",
      "Link flow solution: [7.49988778 2.50011222 4.99977601 2.50011176 7.49988824]\n",
      "Link flow feasible flow: [7.49999853 2.50000147 5.         2.49999853 7.50000147]\n",
      "Path flow solution: [4.99977601 2.50011176 2.50011222]\n",
      "Path flow feasible flow: [5.         2.49999853 2.50000147]\n",
      "\n",
      "6\n",
      "Comparing the solutions:\n",
      "Objective solution: 31.875000000000163\n",
      "Objective estimate: 31.8750000000026\n",
      "Link flow solution: [7.50000022 2.49999978 5.00000199 2.49999823 7.50000177]\n",
      "Link flow feasible flow: [7.50000706 2.49999294 5.00000853 2.49999853 7.50000147]\n",
      "Path flow solution: [5.00000199 2.49999823 2.49999978]\n",
      "Path flow feasible flow: [5.00000853 2.49999853 2.49999294]\n"
     ]
    }
   ],
   "source": [
    "import Frank_Wolf_solver\n",
    "I210 = 'data/I210'\n",
    "Chic = 'data/Chicago'\n",
    "Anah = 'data/Anaheim'\n",
    "Siou = 'data/SiouxFalls'\n",
    "Brae = 'data/braess'\n",
    "\n",
    "network_name = Brae\n",
    "graph, demand = Frank_Wolf_solver.load_network(network_name)\n",
    "\n",
    "eps=1e-8\n",
    "nb_iter = 1000\n",
    "\n",
    "nb_point = 6\n",
    "obj_feas = np.zeros(nb_point)\n",
    "obj_sol = np.zeros(nb_point)\n",
    "cap_array = np.zeros(nb_point)\n",
    "for cap_tmp in range(nb_point):\n",
    "    cap = cap_tmp + 1\n",
    "    c = -1\n",
    "    if network_name == Brae:\n",
    "        demand[0][2] = 10\n",
    "        u = [11, 11, cap, 11, 11]\n",
    "\n",
    "    path_flow_matrix, tt_f, delta, route2od = Frank_Wolf_solver.Frank_Wolf_solver(graph, demand, eps, nb_iter, c)\n",
    "    delta = delta.T\n",
    "    f = delta @ path_flow_matrix\n",
    "    od2route = inv_route_to_od(route2od)\n",
    "\n",
    "    f_feas = find_feasible(f,u,delta,od2route)\n",
    "    path_flow_matrix, tt_f, delta, route2od = Frank_Wolf_solver.Frank_Wolf_solver(graph, demand, eps, nb_iter, u)\n",
    "    delta = delta.T\n",
    "    f_sol = delta @ path_flow_matrix\n",
    "    \n",
    "    obj_feas[cap_tmp] = Frank_Wolf_solver.potential(graph, f_feas)\n",
    "    obj_sol[cap_tmp] = Frank_Wolf_solver.potential(graph, f_sol)\n",
    "    cap_array[cap_tmp] = cap\n",
    "\n",
    "    print()\n",
    "    print(cap)\n",
    "    print(\"Comparing the solutions:\")\n",
    "    print(\"Objective solution: \" + str(Frank_Wolf_solver.potential(graph, f_sol)))\n",
    "    print(\"Objective estimate: \" + str(Frank_Wolf_solver.potential(graph, f_feas)))\n",
    "    print(\"Link flow solution: \" + str(f_sol))\n",
    "    print(\"Link flow feasible flow: \" + str(f_feas))\n",
    "    print(\"Path flow solution: \" + str(path_flow_matrix))\n",
    "    print(\"Path flow feasible flow: \" + str(np.linalg.pinv(delta) @ f_feas))\n",
    "    \n",
    "if debug:\n",
    "    print()\n",
    "    print(\"Comparing the solutions:\")\n",
    "    print(\"Objective solution: \" + str(Frank_Wolf_solver.potential(graph, f_sol)))\n",
    "    print(\"Objective estimate: \" + str(Frank_Wolf_solver.potential(graph, f_feas)))\n",
    "    print(\"Link flow solution: \" + str(f_sol))\n",
    "    print(\"Link flow feasible flow: \" + str(f_feas))\n",
    "    print(\"Path flow solution: \" + str(path_flow_matrix))\n",
    "    print(\"Path flow feasible flow: \" + str(np.linalg.pinv(delta) @ f_feas))\n"
   ]
  },
  {
   "cell_type": "code",
   "execution_count": 7,
   "metadata": {},
   "outputs": [],
   "source": [
    "import matplotlib.pyplot as plt"
   ]
  },
  {
   "cell_type": "code",
   "execution_count": 8,
   "metadata": {},
   "outputs": [
    {
     "data": {
      "image/png": "[encoded data removed]",
      "text/plain": [
       "<Figure size 432x288 with 1 Axes>"
      ]
     },
     "metadata": {},
     "output_type": "display_data"
    }
   ],
   "source": [
    "plt.plot(cap_array[::-1], obj_feas, color='green')\n",
    "plt.plot(cap_array[::-1], obj_sol, color='red')\n",
    "plt.xticks(cap_array, cap_array[::-1])\n",
    "plt.show()"
   ]
  },
  {
   "cell_type": "code",
   "execution_count": null,
   "metadata": {},
   "outputs": [],
   "source": []
  }
 ],
 "metadata": {
  "kernelspec": {
   "display_name": "Python 3",
   "language": "python",
   "name": "python3"
  },
  "language_info": {
   "codemirror_mode": {
    "name": "ipython",
    "version": 3
   },
   "file_extension": ".py",
   "mimetype": "text/x-python",
   "name": "python",
   "nbconvert_exporter": "python",
   "pygments_lexer": "ipython3",
   "version": "3.6.6"
  }
 },
 "nbformat": 4,
 "nbformat_minor": 2
}
