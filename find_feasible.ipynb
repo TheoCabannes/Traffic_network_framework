{
 "cells": [
  {
   "cell_type": "markdown",
   "metadata": {},
   "source": [
    "Given link flows and capacity constraints, this function finds a feasible set of link flows. The inputs to the function are:"
   ]
  },
  {
   "cell_type": "markdown",
   "metadata": {},
   "source": [
    "f(vector): given (possibly infeasible) link flows"
   ]
  },
  {
   "cell_type": "markdown",
   "metadata": {},
   "source": [
    "u(vector): link capacity constraints to be met"
   ]
  },
  {
   "cell_type": "markdown",
   "metadata": {},
   "source": [
    "delta(matrix): link*route incidence matrix"
   ]
  },
  {
   "cell_type": "markdown",
   "metadata": {},
   "source": [
    "od2route(matrix): K*max_r gives indices of all routes for a given od pair"
   ]
  },
  {
   "cell_type": "markdown",
   "metadata": {},
   "source": [
    "The output of the function is "
   ]
  },
  {
   "cell_type": "markdown",
   "metadata": {},
   "source": [
    "f_feas(vector): feasible link flows for given capacity constraints"
   ]
  },
  {
   "cell_type": "code",
   "execution_count": 1,
   "metadata": {},
   "outputs": [],
   "source": [
    "def find_feasible(f,u,delta,od2route):\n",
    "\n",
    "    import numpy as np\n",
    "    l = np.shape(f) #number of links in network\n",
    "    K = np.shape(od2route)[0] #number of od pairs in network\n",
    "    r = np.shape(delta)[1] #number of routes in network\n",
    "    d = np.zeros((l,r))\n",
    "    f_feas = f #vector of feasible flows satisfying capacity constraints\n",
    "    flag = [f>u]\n",
    "    for k in range(K):\n",
    "        print('OD pair: %d'%(k+1))\n",
    "        r_k = (od2route[k,:]).astype(int) #vector of indices of all routes bw od pair k\n",
    "        not_done = 1\n",
    "        while not_done:\n",
    "            flag = [f_feas>u] \n",
    "            sat_f = np.nonzero(flag)[1] #indices of saturated flows\n",
    "            d = (delta>0) #binary link route incidence matrix\n",
    "            \n",
    "            #update the flag matrix of saturated flows\n",
    "            \n",
    "            for r in r_k:\n",
    "                for i in sat_f:\n",
    "                    if d[i,r]>0:\n",
    "                        d[i,r] = d[i,r]+1 #matrix indicating routes with saturated links\n",
    "                        #0: link not in route, 1: unsaturated link, 2: saturated link\n",
    "            sat = np.where(np.amax(d[:,r_k],axis=0)==2)[0] #saturated routes\n",
    "            unsat = np.where(np.amax(d[:,r_k],axis=0)==1)[0] #unsaturated routes\n",
    "            \n",
    "            if np.size(sat)==0:#if no saturated route is present for a given od pair\n",
    "                not_done = 0 \n",
    "                \n",
    "            else:#presence of at least one saturated route\n",
    "                \n",
    "                if np.size(unsat)==0:#if no unsaturated route is present for a given od pair\n",
    "                    print('Cannot find feasible solution for OD pair %d'%k)\n",
    "                else:\n",
    "                    us = unsat[0] #unsaturated route to which flow is to be moved\n",
    "                    for r in sat: #route has saturated link/s\n",
    "                        pos_sat_f = np.where(d[:,r]==2)[0] #position of saturated link/s\n",
    "                        t = np.where(d[:,us]==1)[0] #position of unsaturated links in unsaturated route\n",
    "                        for p in pos_sat_f:\n",
    "                            i = 0\n",
    "                            t = t[i]\n",
    "                            if (f_feas[t]+f_feas[p]-u[p]<=u[t]): #if the unsaturated link can take the extra flow from the saturated link\n",
    "                                f_feas[p] = u[p] #saturated link is set to its capacity\n",
    "                                f_feas[t] = f_feas[t]+f_feas[p]-u[p] #unsaturated link is augmented with extra flow\n",
    "                            i = i+1\n",
    "                    \n",
    "    return f_feas  "
   ]
  },
  {
   "cell_type": "code",
   "execution_count": null,
   "metadata": {},
   "outputs": [],
   "source": []
  }
 ],
 "metadata": {
  "kernelspec": {
   "display_name": "Python 3",
   "language": "python",
   "name": "python3"
  },
  "language_info": {
   "codemirror_mode": {
    "name": "ipython",
    "version": 3
   },
   "file_extension": ".py",
   "mimetype": "text/x-python",
   "name": "python",
   "nbconvert_exporter": "python",
   "pygments_lexer": "ipython3",
   "version": "3.6.5"
  }
 },
 "nbformat": 4,
 "nbformat_minor": 2
}
