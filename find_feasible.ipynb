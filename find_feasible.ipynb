{
 "cells": [
  {
   "cell_type": "markdown",
   "metadata": {},
   "source": [
    "Given link flows and capacity constraints, this function finds a feasible set of link flows. The inputs to the function are:"
   ]
  },
  {
   "cell_type": "markdown",
   "metadata": {},
   "source": [
    "f(vector): given (possibly infeasible) link flows"
   ]
  },
  {
   "cell_type": "markdown",
   "metadata": {},
   "source": [
    "u(vector): link capacity constraints to be met"
   ]
  },
  {
   "cell_type": "markdown",
   "metadata": {},
   "source": [
    "delta(matrix): link*route incidence matrix"
   ]
  },
  {
   "cell_type": "markdown",
   "metadata": {},
   "source": [
    "od2route(matrix): K*max_r gives indices of all routes for a given od pair"
   ]
  },
  {
   "cell_type": "markdown",
   "metadata": {},
   "source": [
    "The output of the function is "
   ]
  },
  {
   "cell_type": "markdown",
   "metadata": {},
   "source": [
    "f_feas(vector): feasible link flows for given capacity constraints"
   ]
  },
  {
   "cell_type": "code",
   "execution_count": 1,
   "metadata": {},
   "outputs": [
    {
     "ename": "IndentationError",
     "evalue": "expected an indented block (<ipython-input-1-dd13afa00ac0>, line 3)",
     "output_type": "error",
     "traceback": [
      "\u001b[0;36m  File \u001b[0;32m\"<ipython-input-1-dd13afa00ac0>\"\u001b[0;36m, line \u001b[0;32m3\u001b[0m\n\u001b[0;31m    import numpy as np\u001b[0m\n\u001b[0m         ^\u001b[0m\n\u001b[0;31mIndentationError\u001b[0m\u001b[0;31m:\u001b[0m expected an indented block\n"
     ]
    }
   ],
   "source": [
    "def find_feasible(f,u,delta,od2route):\n",
    "\n",
    "    import numpy as np\n",
    "    l = np.shape(f)[0] #number of links in network\n",
    "    K = np.shape(od2route)[0] #number of od pairs in network\n",
    "    r = np.shape(delta)[1] #number of routes in network\n",
    "    d = np.zeros((l,r))\n",
    "    f_feas = f #vector of feasible flows satisfying capacity constraints\n",
    "    for k in range(K):\n",
    "        print('OD pair: %d'%(k+1))\n",
    "        r_k = (od2route[k,:]).astype(int) #vector of indices of all routes bw od pair k\n",
    "        flag1 = [f_feas>u] \n",
    "        sat_f = np.nonzero(flag1)[1] #indices of saturated flows\n",
    "        d = (delta>0) #binary link route incidence matrix\n",
    "        d = d*1\n",
    "        #update the incidence matrix to find saturated flows\n",
    "    \n",
    "        for R in r_k:\n",
    "            for i in sat_f:\n",
    "                if d[i,R]>0:\n",
    "                    d[i,R] = d[i,R]+1 #matrix indicating routes with saturated links\n",
    "                    #0: link not in route, 1: unsaturated link, 2: saturated link\n",
    "    sat = np.where(np.max(d[:,r_k],axis=0)==2)[1] #saturated routes\n",
    "    unsat = np.where(np.max(d[:,r_k],axis=0)==1)[1] #unsaturated routes\n",
    "    if np.size(sat)==0:#if no saturated route is present for a given od pair\n",
    "        print('No saturated route for OD pair: %d'%(k+1))\n",
    "        \n",
    "    else:#presence of at least one saturated route\n",
    "        f_r = 1.0\n",
    "        for r in sat:#For each saturated route\n",
    "            if (np.max(d[:,r],axis=0)==2)&(f_r>0):\n",
    "                l_r = np.where(d[:,r]>0)[0] #links in saturated route r\n",
    "                f_r = max(f_feas[l_r]-u[l_r]) #flow to be rerouted from saturated route r\n",
    "                flag = 1\n",
    "                while flag: # as long as the route r remains saturated\n",
    "                    unsat = np.where(np.max(d[:,r_k],axis=0)==1)[1] #unsaturated routes\n",
    "                    cap = np.zeros(np.size(unsat))\n",
    "                    c = 0\n",
    "                    for us in unsat: #compute extra capacity for unsaturated routes\n",
    "                        l_u = np.where(d[:,us]>0)[0] #links in unsaturated route u\n",
    "                        cap[c] = min(u[l_u]-f_feas[l_u]) #extra capacity of unsaturated route u\n",
    "                        c = c+1\n",
    "                    i_unsat_sort = np.flip(np.argsort(cap),0) #unsaturated routes sorted in decreasing order of capacities\n",
    "                    cap_sort = cap[i_unsat_sort] \n",
    "                    if f_r<=cap_sort[0]: #all flow to be rerouted can be put in one unsat route\n",
    "                        f_feas[np.where(d[:,r]>0)[0]] = f_feas[np.where(d[:,r]>0)[0]]-f_r #remove f_r from sat route r\n",
    "                        f_feas[np.where(d[:,unsat[i_unsat_sort[0]]]>0)[0]] = f_feas[np.where(d[:,unsat[i_unsat_sort[0]]]>0)[0]]+f_r #move f_r to route with highest capacity\n",
    "                        gl = np.where(d[:,r]==2)[0]\n",
    "                        d[np.where(d[:,r]>0)[0],r] = 1\n",
    "                        d[gl,np.where(d[gl,:]>0)[1]] = 1\n",
    "                        flag = 0\n",
    "                    else: #split flow to be rerouted\n",
    "                        f_feas[np.where(d[:,r]>0)[0]] = f_feas[np.where(d[:,r]>0)[0]]-cap_sort[0] #remove cap_sort[0] from sat route r\n",
    "                        f_feas[np.where(d[:,unsat[i_unsat_sort[0]]]>0)[0]] = f_feas[np.where(d[:,unsat[i_unsat_sort[0]]]>0)[0]]+cap_sort[0] #move f_r to route with highest capacity\n",
    "                        f_r = f_r-cap_sort[0]\n",
    "                        flag = 1\n",
    "\n",
    "    print('Capacities:')\n",
    "    print(u)\n",
    "    print('Feasible flows:')\n",
    "    print(f_feas)\n",
    "    return f_feas"
   ]
  },
  {
   "cell_type": "code",
   "execution_count": null,
   "metadata": {},
   "outputs": [],
   "source": [
    "import numpy as np\n",
    "f = np.matrix([3.5,1,2.5,1,3.5])\n",
    "f = f.reshape((5,1))\n",
    "u = np.matrix([10.0,10.0,2.0,10.0,10.0])\n",
    "u = u.reshape((5,1))\n",
    "delta = np.matrix([[1,1,0],[0,0,1],[0,1,0],[1,0,0],[0,1,1]])\n",
    "od2route = np.array([0,1,2]).reshape((1,3))"
   ]
  },
  {
   "cell_type": "code",
   "execution_count": null,
   "metadata": {},
   "outputs": [],
   "source": [
    "f_feas = find_feasible(f,u,delta,od2route)"
   ]
  }
 ],
 "metadata": {
  "kernelspec": {
   "display_name": "Python 3",
   "language": "python",
   "name": "python3"
  },
  "language_info": {
   "codemirror_mode": {
    "name": "ipython",
    "version": 3
   },
   "file_extension": ".py",
   "mimetype": "text/x-python",
   "name": "python",
   "nbconvert_exporter": "python",
   "pygments_lexer": "ipython3",
   "version": "3.6.5"
  }
 },
 "nbformat": 4,
 "nbformat_minor": 2
}
