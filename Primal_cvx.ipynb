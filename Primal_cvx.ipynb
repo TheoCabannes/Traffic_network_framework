{
 "cells": [
  {
   "cell_type": "markdown",
   "metadata": {},
   "source": [
    "# Implementation using CVX\n",
    "This is a code to solve the static traffic assignment problem using CVX"
   ]
  },
  {
   "cell_type": "code",
   "execution_count": 1,
   "metadata": {},
   "outputs": [],
   "source": [
    "import cvxpy\n",
    "import numpy as np"
   ]
  },
  {
   "cell_type": "markdown",
   "metadata": {},
   "source": [
    "### First, we load the network from files"
   ]
  },
  {
   "cell_type": "code",
   "execution_count": 3,
   "metadata": {},
   "outputs": [],
   "source": [
    "network = 'data/braess'\n",
    "graph = np.loadtxt(network + '_net.csv', delimiter=',', skiprows=1)\n",
    "demand = np.loadtxt(network + '_od.csv', delimiter=',', skiprows=1)"
   ]
  },
  {
   "cell_type": "code",
   "execution_count": 11,
   "metadata": {},
   "outputs": [],
   "source": [
    "## Please run the annex functions at the end of the code before running these cell\n",
    "graph, demand = cleaning_input(graph, demand)\n",
    "nb_links = graph.shape[0]"
   ]
  },
  {
   "cell_type": "markdown",
   "metadata": {},
   "source": [
    "### We compute the incidence matrix and the matrix which gives the correspondance between path and o,d"
   ]
  },
  {
   "cell_type": "code",
   "execution_count": 9,
   "metadata": {},
   "outputs": [],
   "source": [
    "delta, route2od = delta_matrix(graph, demand)"
   ]
  },
  {
   "cell_type": "code",
   "execution_count": 12,
   "metadata": {},
   "outputs": [],
   "source": [
    "u = [10000000 for _ in range(nb_links)]"
   ]
  },
  {
   "cell_type": "markdown",
   "metadata": {},
   "source": [
    "### We define the CVX variables and the objective function"
   ]
  },
  {
   "cell_type": "code",
   "execution_count": 43,
   "metadata": {},
   "outputs": [],
   "source": [
    "f_cvx = cvxpy.Variable(nb_links)\n",
    "h_cvx = cvxpy.Variable((delta.shape[0]))\n",
    "obj_cvx = np.sum(graph[:,3]*f_cvx + 1/2*graph[:,4]*(f_cvx**2) + 1/3*graph[:,5]*(f_cvx**3) + 1/4*graph[:,6]*(f_cvx**4) + 1/5*graph[:,7]*(f_cvx**5))"
   ]
  },
  {
   "cell_type": "code",
   "execution_count": 44,
   "metadata": {},
   "outputs": [
    {
     "name": "stdout",
     "output_type": "stream",
     "text": [
      "\n"
     ]
    }
   ],
   "source": [
    "constr = [\n",
    "    f_cvx >= delta.T @ h_cvx,\n",
    "    h_cvx >= 0,\n",
    "    # f_cvx <= u,\n",
    "    # the following constraint correspond to a one o-d demand\n",
    "    sum(h_cvx) >= demand[0][2]\n",
    "    ]\n",
    "\n",
    "    # if there are more than one o-d demand, we should work with route2od\n",
    "\"\"\"\n",
    "    B = np.zeros(route2od.shape[0], np.max(route2od[:,0])+1)\n",
    "    for i in range(B.shape[1]):\n",
    "        B[:,i] = 1 * (int(route2od[i])==int(demand[i][0]))\n",
    "    # add the constraints\n",
    "    B @ h_cvx == demand[:,2]\n",
    "\"\"\"\n",
    "print()"
   ]
  },
  {
   "cell_type": "markdown",
   "metadata": {},
   "source": [
    "### Now, we solve the problem\n",
    "And we verify the solution (i.e. the Wardrop equilibrium condition)"
   ]
  },
  {
   "cell_type": "code",
   "execution_count": 45,
   "metadata": {},
   "outputs": [
    {
     "data": {
      "text/plain": [
       "inf"
      ]
     },
     "execution_count": 45,
     "metadata": {},
     "output_type": "execute_result"
    }
   ],
   "source": [
    "pb = cvxpy.Problem(cvxpy.Minimize(obj_cvx), constr)\n",
    "pb.solve()"
   ]
  },
  {
   "cell_type": "code",
   "execution_count": 46,
   "metadata": {},
   "outputs": [],
   "source": [
    "h_sol = h_cvx.value\n",
    "f_sol = f_cvx.value"
   ]
  },
  {
   "cell_type": "markdown",
   "metadata": {},
   "source": [
    "Here we observe that cvx cannot solve the STA because the values of the objective function are to big. :-/ "
   ]
  },
  {
   "cell_type": "code",
   "execution_count": 47,
   "metadata": {},
   "outputs": [
    {
     "ename": "TypeError",
     "evalue": "Object arrays are not currently supported",
     "output_type": "error",
     "traceback": [
      "\u001b[0;31m---------------------------------------------------------------------------\u001b[0m",
      "\u001b[0;31mTypeError\u001b[0m                                 Traceback (most recent call last)",
      "\u001b[0;32m<ipython-input-47-6ebbdc6df1ca>\u001b[0m in \u001b[0;36m<module>\u001b[0;34m()\u001b[0m\n\u001b[0;32m----> 1\u001b[0;31m \u001b[0mprint\u001b[0m\u001b[0;34m(\u001b[0m\u001b[0mdelta\u001b[0m\u001b[0;34m.\u001b[0m\u001b[0mT\u001b[0m \u001b[0;34m@\u001b[0m \u001b[0mh_sol\u001b[0m\u001b[0;34m)\u001b[0m\u001b[0;34m\u001b[0m\u001b[0m\n\u001b[0m\u001b[1;32m      2\u001b[0m \u001b[0mprint\u001b[0m\u001b[0;34m(\u001b[0m\u001b[0;34m(\u001b[0m\u001b[0mroute2od\u001b[0m\u001b[0;34m+\u001b[0m\u001b[0;36m1\u001b[0m\u001b[0;34m)\u001b[0m \u001b[0;34m@\u001b[0m \u001b[0mh_sol\u001b[0m \u001b[0;34m)\u001b[0m\u001b[0;34m\u001b[0m\u001b[0m\n\u001b[1;32m      3\u001b[0m \u001b[0mprint\u001b[0m\u001b[0;34m(\u001b[0m\u001b[0mdemand\u001b[0m\u001b[0;34m[\u001b[0m\u001b[0;36m0\u001b[0m\u001b[0;34m]\u001b[0m\u001b[0;34m[\u001b[0m\u001b[0;36m2\u001b[0m\u001b[0;34m]\u001b[0m\u001b[0;34m)\u001b[0m\u001b[0;34m\u001b[0m\u001b[0m\n\u001b[1;32m      4\u001b[0m \u001b[0mprint\u001b[0m\u001b[0;34m(\u001b[0m\u001b[0mf_cvx\u001b[0m\u001b[0;34m.\u001b[0m\u001b[0mvalue\u001b[0m\u001b[0;34m)\u001b[0m\u001b[0;34m\u001b[0m\u001b[0m\n",
      "\u001b[0;31mTypeError\u001b[0m: Object arrays are not currently supported"
     ]
    }
   ],
   "source": [
    "print(delta.T @ h_sol)\n",
    "print((route2od+1) @ h_sol )\n",
    "print(demand[0][2])\n",
    "print(f_cvx.value)"
   ]
  },
  {
   "cell_type": "markdown",
   "metadata": {},
   "source": [
    "## Annex functions; to clean the data and compute the paths from the links"
   ]
  },
  {
   "cell_type": "code",
   "execution_count": 4,
   "metadata": {},
   "outputs": [],
   "source": [
    "def cleaning_input(graph, demand):\n",
    "    # in the case where there is only one o-d, then demand is interpret as a single row and not as a matrix\n",
    "    try:\n",
    "        demand.shape[1]\n",
    "    except:\n",
    "        demand = np.array([demand])\n",
    "    nb_ods = int(demand.shape[0])\n",
    "\n",
    "    # in the case where the index of the od pairs does not begin by 0, we rename the od pairs\n",
    "    first_index_od = min(np.min(graph[:,1]), np.min(graph[:,2]))\n",
    "    graph[:,1] = graph[:,1]-first_index_od\n",
    "    graph[:,2] = graph[:,2]-first_index_od\n",
    "    demand[:,0] = demand[:,0] - first_index_od\n",
    "    demand[:,1] = demand[:,1] - first_index_od\n",
    "    return graph, demand"
   ]
  },
  {
   "cell_type": "code",
   "execution_count": 5,
   "metadata": {},
   "outputs": [],
   "source": [
    "graph, demand = cleaning_input(graph, demand)\n",
    "# graph_dict gives the line of the graph matrix corresponding to the destination d and the origin o\n",
    "graph_dict = {}\n",
    "for i in range(graph.shape[0]):\n",
    "    try: \n",
    "        graph_dict[int(graph[i][1])]\n",
    "    except:\n",
    "        graph_dict[int(graph[i][1])] = {}\n",
    "    graph_dict[int(graph[i][1])][int(graph[i][2])] = int(graph[i][0])"
   ]
  },
  {
   "cell_type": "code",
   "execution_count": 8,
   "metadata": {},
   "outputs": [],
   "source": [
    "from collections import defaultdict \n",
    "   \n",
    "# This class represents a directed graph  \n",
    "# using adjacency list representation \n",
    "class Graph: \n",
    "   \n",
    "    def __init__(self,vertices): \n",
    "        #No. of vertices \n",
    "        self.V= vertices  \n",
    "        # default dictionary to store graph \n",
    "        self.graph = defaultdict(list)  \n",
    "   \n",
    "    # function to add an edge to graph \n",
    "    def addEdge(self,u,v): \n",
    "        self.graph[u].append(v) \n",
    "   \n",
    "    def printAllPathsUtil(self, u, d, visited, path): \n",
    "        # Mark the current node as visited and store in path \n",
    "        visited[u]= True\n",
    "        path.append(u) \n",
    "        \n",
    "        if u ==d: \n",
    "            path_tmp = np.zeros(shape=(self.V))\n",
    "            for i in range(len(path)-1):\n",
    "                path_tmp[graph_dict[path[i]][path[i+1]]] = 1\n",
    "            if self.paths_m.shape[0]==0:\n",
    "                self.paths_m = path_tmp.reshape((1, self.V))\n",
    "            else:\n",
    "                self.paths_m = np.append(self.paths_m, path_tmp.reshape((1, self.V)), axis=0)\n",
    "        else: \n",
    "            # If current vertex is not destination \n",
    "            # Recur for all the vertices adjacent to this vertex \n",
    "            for i in self.graph[u]: \n",
    "                if visited[i]==False: \n",
    "                    self.printAllPathsUtil(i, d, visited, path) \n",
    "        # Remove current vertex from path[] and mark it as unvisited \n",
    "        path.pop()\n",
    "        visited[u]= False\n",
    "   \n",
    "   \n",
    "    # Prints all paths from 's' to 'd' \n",
    "    def printAllPaths(self,s, d): \n",
    "        self.paths_m = np.array([])\n",
    "        # Mark all the vertices as not visited \n",
    "        visited =[False]*(self.V)\n",
    "  \n",
    "        # Create an array to store paths \n",
    "        path = [] \n",
    "        \n",
    "        # Call the recursive helper function to print all paths \n",
    "        self.printAllPathsUtil(s, d,visited, path) \n",
    "        return self.paths_m \n",
    "\n",
    "# argument graph\n",
    "def delta_matrix(graph, demand):\n",
    "    route2od = np.array([])\n",
    "    paths_matrix = np.array([])\n",
    "    g = Graph(graph.shape[0]) \n",
    "    for line in graph:\n",
    "        g.addEdge(int(line[1]), int(line[2]))\n",
    "\n",
    "    for i in range(demand.shape[0]):\n",
    "        s = int(demand[i][0]) ; d = int(demand[i][1])\n",
    "        paths_matrix_tmp = g.printAllPaths(s, d)\n",
    "        route2od_tmp = np.ones(paths_matrix_tmp.shape[0])\n",
    "        route2od_tmp = route2od_tmp*i\n",
    "        if paths_matrix.shape[0]==0:\n",
    "            paths_matrix = paths_matrix_tmp\n",
    "        else:\n",
    "            paths_matrix = np.append(paths_matrix, paths_matrix_tmp, axis=0)\n",
    "        route2od = np.append(route2od, route2od_tmp)\n",
    "    return paths_matrix, route2od"
   ]
  },
  {
   "cell_type": "code",
   "execution_count": null,
   "metadata": {},
   "outputs": [],
   "source": []
  }
 ],
 "metadata": {
  "kernelspec": {
   "display_name": "Python 3",
   "language": "python",
   "name": "python3"
  },
  "language_info": {
   "codemirror_mode": {
    "name": "ipython",
    "version": 3
   },
   "file_extension": ".py",
   "mimetype": "text/x-python",
   "name": "python",
   "nbconvert_exporter": "python",
   "pygments_lexer": "ipython3",
   "version": "3.6.6"
  }
 },
 "nbformat": 4,
 "nbformat_minor": 2
}
