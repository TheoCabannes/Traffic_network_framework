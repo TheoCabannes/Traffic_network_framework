{
 "cells": [
  {
   "cell_type": "markdown",
   "metadata": {},
   "source": [
    "## Implementation using CVX\n"
   ]
  },
  {
   "cell_type": "code",
   "execution_count": 3,
   "metadata": {},
   "outputs": [],
   "source": [
    "import cvxpy\n",
    "import numpy as np"
   ]
  },
  {
   "cell_type": "code",
   "execution_count": 306,
   "metadata": {},
   "outputs": [],
   "source": [
    "network = 'data/braess'\n",
    "graph = np.loadtxt(network + '_net.csv', delimiter=',', skiprows=1)\n",
    "demand = np.loadtxt(network + '_od.csv', delimiter=',', skiprows=1)\n",
    "try:\n",
    "    demand.shape[1]\n",
    "except:\n",
    "    demand = np.array([demand])\n",
    "nb_ods = int(demand.shape[0])\n",
    "nb_links = graph.shape[0]\n",
    "first_index_od = min(np.min(graph[:,1]), np.min(graph[:,2]))\n",
    "graph[:,1] = graph[:,1]-first_index_od\n",
    "graph[:,2] = graph[:,2]-first_index_od\n",
    "demand[:,0] = demand[:,0] - first_index_od\n",
    "demand[:,1] = demand[:,1] - first_index_od"
   ]
  },
  {
   "cell_type": "code",
   "execution_count": 307,
   "metadata": {},
   "outputs": [],
   "source": [
    "f_cvx = cvxpy.Variable(nb_links)\n",
    "\n",
    "obj_cvx = np.sum(graph[:,3]*f_cvx + 1/2*graph[:,4]*(f_cvx**2) + 1/3*graph[:,5]*(f_cvx**3) + 1/4*graph[:,6]*(f_cvx**4) + 1/5*graph[:,7]*(f_cvx**5))"
   ]
  },
  {
   "cell_type": "markdown",
   "metadata": {},
   "source": [
    "### TO DO: Define delta (incidence matrix), the paths, A and u"
   ]
  },
  {
   "cell_type": "code",
   "execution_count": 316,
   "metadata": {},
   "outputs": [
    {
     "name": "stdout",
     "output_type": "stream",
     "text": [
      "(5,)\n",
      "(3,)\n",
      "(5, 3)\n",
      "[[1. 1. 0.]\n",
      " [0. 0. 1.]\n",
      " [1. 0. 0.]\n",
      " [0. 1. 0.]\n",
      " [1. 0. 1.]] * var3652\n"
     ]
    }
   ],
   "source": [
    "h_cvx = cvxpy.Variable((delta.shape[0]))\n",
    "print(f_cvx.shape)\n",
    "print(h_cvx.shape)\n",
    "print(delta.T.shape)\n",
    "print(delta.T @ h_cvx)\n",
    "u = [10000000 for _ in range(nb_links)]"
   ]
  },
  {
   "cell_type": "code",
   "execution_count": 317,
   "metadata": {},
   "outputs": [],
   "source": [
    "constr = [\n",
    "    f_cvx >= delta.T @ h_cvx,\n",
    "    h_cvx >= 0,\n",
    "    sum(h_cvx) >= demand[0][2]\n",
    "    # (route2od+1) @ h_cvx == demand[:,2],\n",
    "    # f_cvx <= u\n",
    "]"
   ]
  },
  {
   "cell_type": "code",
   "execution_count": 380,
   "metadata": {},
   "outputs": [],
   "source": [
    "pb = cvxpy.Problem(cvxpy.Minimize(graph[:,3]*f_cvx + + 1/2*graph[:,7]*(cvxpy.power(f_cvx,2))), constr)"
   ]
  },
  {
   "cell_type": "code",
   "execution_count": 381,
   "metadata": {},
   "outputs": [
    {
     "data": {
      "text/plain": [
       "225.0000218751541"
      ]
     },
     "execution_count": 381,
     "metadata": {},
     "output_type": "execute_result"
    }
   ],
   "source": [
    "pb.solve()"
   ]
  },
  {
   "cell_type": "code",
   "execution_count": 382,
   "metadata": {},
   "outputs": [
    {
     "name": "stdout",
     "output_type": "stream",
     "text": [
      "[9.99999956e+01 5.38155839e-06 9.99999902e+01 5.38155843e-06\n",
      " 9.99999956e+01]\n",
      "100.00000101162236\n"
     ]
    }
   ],
   "source": [
    "h_sol = h_cvx.value\n",
    "f_sol = f_cvx.value\n",
    "print(delta.T @ h_sol)\n",
    "print((route2od+1) @ h_sol )"
   ]
  },
  {
   "cell_type": "code",
   "execution_count": 383,
   "metadata": {},
   "outputs": [
    {
     "name": "stdout",
     "output_type": "stream",
     "text": [
      "100.0\n"
     ]
    }
   ],
   "source": [
    "print(demand[0][2])"
   ]
  },
  {
   "cell_type": "code",
   "execution_count": 384,
   "metadata": {},
   "outputs": [
    {
     "name": "stdout",
     "output_type": "stream",
     "text": [
      "[9.99999974e+01 6.25995712e-06 1.00000008e+02 6.25995716e-06\n",
      " 9.99999974e+01]\n"
     ]
    }
   ],
   "source": [
    "print(f_cvx.value)"
   ]
  },
  {
   "cell_type": "markdown",
   "metadata": {},
   "source": [
    "## Annex to compute the paths from the links"
   ]
  },
  {
   "cell_type": "code",
   "execution_count": 312,
   "metadata": {},
   "outputs": [],
   "source": [
    "# graph_dict gives the line of the graph matrix corresponding to the destination d and the origin o\n",
    "graph_dict = {}\n",
    "for i in range(graph.shape[0]):\n",
    "    try: \n",
    "        graph_dict[int(graph[i][1])]\n",
    "    except:\n",
    "        graph_dict[int(graph[i][1])] = {}\n",
    "    graph_dict[int(graph[i][1])][int(graph[i][2])] = int(graph[i][0])"
   ]
  },
  {
   "cell_type": "code",
   "execution_count": 441,
   "metadata": {},
   "outputs": [],
   "source": [
    "from collections import defaultdict \n",
    "   \n",
    "#This class represents a directed graph  \n",
    "# using adjacency list representation \n",
    "class Graph: \n",
    "   \n",
    "    def __init__(self,vertices): \n",
    "        #No. of vertices \n",
    "        self.V= vertices  \n",
    "          \n",
    "        # default dictionary to store graph \n",
    "        self.graph = defaultdict(list)  \n",
    "   \n",
    "    # function to add an edge to graph \n",
    "    def addEdge(self,u,v): \n",
    "        self.graph[u].append(v) \n",
    "   \n",
    "    def printAllPathsUtil(self, u, d, visited, path): \n",
    "        # Mark the current node as visited and store in path \n",
    "        visited[u]= True\n",
    "        path.append(u) \n",
    "  \n",
    "        # If current vertex is same as destination, then print \n",
    "        # current path[] \n",
    "        if u ==d: \n",
    "            # print(path)\n",
    "            path_tmp = np.zeros(shape=(nb_links))\n",
    "            for i in range(len(path)-1):\n",
    "                path_tmp[graph_dict[path[i]][path[i+1]]] = 1\n",
    "            if self.paths_m.shape[0]==0:\n",
    "                self.paths_m = path_tmp.reshape((1, nb_links))\n",
    "            else:\n",
    "                self.paths_m = np.append(self.paths_m, path_tmp.reshape((1, nb_links)), axis=0)\n",
    "        else: \n",
    "            # If current vertex is not destination \n",
    "            #Recur for all the vertices adjacent to this vertex \n",
    "            for i in self.graph[u]: \n",
    "                if visited[i]==False: \n",
    "                    self.printAllPathsUtil(i, d, visited, path) \n",
    "                      \n",
    "        # Remove current vertex from path[] and mark it as unvisited \n",
    "        path.pop() \n",
    "        visited[u]= False\n",
    "   \n",
    "   \n",
    "    # Prints all paths from 's' to 'd' \n",
    "    def printAllPaths(self,s, d): \n",
    "        self.paths_m = np.array([])\n",
    "        # Mark all the vertices as not visited \n",
    "        visited =[False]*(self.V)\n",
    "  \n",
    "        # Create an array to store paths \n",
    "        path = [] \n",
    "        \n",
    "        # Call the recursive helper function to print all paths \n",
    "        self.printAllPathsUtil(s, d,visited, path) \n",
    "        return self.paths_m \n",
    "\n",
    "# argument graph\n",
    "def delta_matrix():\n",
    "    route2od = np.array([])\n",
    "    paths_matrix = np.array([])\n",
    "    g = Graph(nb_links) \n",
    "    for line in graph:\n",
    "        g.addEdge(int(line[1]), int(line[2]))\n",
    "\n",
    "    for i in range(demand.shape[0]):\n",
    "        s = int(demand[i][0]) ; d = int(demand[i][1])\n",
    "        paths_matrix_tmp = g.printAllPaths(s, d)\n",
    "        route2od_tmp = np.ones(paths_matrix_tmp.shape[0])\n",
    "        route2od_tmp = route2od_tmp*i\n",
    "        if paths_matrix.shape[0]==0:\n",
    "            paths_matrix = paths_matrix_tmp\n",
    "        else:\n",
    "            paths_matrix = np.append(paths_matrix, paths_matrix_tmp, axis=0)\n",
    "        route2od = np.append(route2od, route2od_tmp)\n",
    "    return paths_matrix, route2od"
   ]
  },
  {
   "cell_type": "code",
   "execution_count": 442,
   "metadata": {},
   "outputs": [
    {
     "name": "stdout",
     "output_type": "stream",
     "text": [
      "[[1. 0. 1. 0. 1.]\n",
      " [1. 0. 0. 1. 0.]\n",
      " [0. 1. 0. 0. 1.]]\n"
     ]
    }
   ],
   "source": [
    "paths_matrix, route2od = delta_matrix()\n",
    "print(paths_matrix)\n",
    "delta = paths_matrix"
   ]
  },
  {
   "cell_type": "code",
   "execution_count": 443,
   "metadata": {},
   "outputs": [
    {
     "name": "stdout",
     "output_type": "stream",
     "text": [
      "(3, 5)\n",
      "[0. 0. 0.]\n"
     ]
    }
   ],
   "source": [
    "print(paths_matrix.shape)\n",
    "print(route2od)"
   ]
  },
  {
   "cell_type": "code",
   "execution_count": null,
   "metadata": {},
   "outputs": [],
   "source": []
  }
 ],
 "metadata": {
  "kernelspec": {
   "display_name": "Python 3",
   "language": "python",
   "name": "python3"
  },
  "language_info": {
   "codemirror_mode": {
    "name": "ipython",
    "version": 3
   },
   "file_extension": ".py",
   "mimetype": "text/x-python",
   "name": "python",
   "nbconvert_exporter": "python",
   "pygments_lexer": "ipython3",
   "version": "3.6.6"
  }
 },
 "nbformat": 4,
 "nbformat_minor": 2
}
