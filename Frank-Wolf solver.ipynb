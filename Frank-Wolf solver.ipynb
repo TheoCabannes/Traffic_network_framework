{
 "cells": [
  {
   "cell_type": "markdown",
   "metadata": {},
   "source": [
    "# This is the code which solves the Static Traffic Assignment Problem"
   ]
  },
  {
   "cell_type": "code",
   "execution_count": 1,
   "metadata": {},
   "outputs": [],
   "source": [
    "import numpy as np"
   ]
  },
  {
   "cell_type": "code",
   "execution_count": 5,
   "metadata": {},
   "outputs": [],
   "source": [
    "network = 'data/I210'"
   ]
  },
  {
   "cell_type": "markdown",
   "metadata": {},
   "source": [
    "## 1. We load the graph and the demand\n",
    "Both graph and demand are in csv file"
   ]
  },
  {
   "cell_type": "code",
   "execution_count": 6,
   "metadata": {},
   "outputs": [],
   "source": [
    "graph = np.loadtxt(network + '_net.csv', delimiter=',', skiprows=1)\n",
    "demand = np.loadtxt(network + '_od.csv', delimiter=',', skiprows=1)"
   ]
  },
  {
   "cell_type": "code",
   "execution_count": 7,
   "metadata": {},
   "outputs": [
    {
     "name": "stdout",
     "output_type": "stream",
     "text": [
      "[[1.9e+01 2.0e+01 2.5e+04]]\n"
     ]
    }
   ],
   "source": [
    "# in the case where there is only one o-d, then demand is interpret as a single row and not as a matrix\n",
    "try:\n",
    "    demand.shape[1]\n",
    "except:\n",
    "    demand = np.array([demand])\n",
    "nb_ods = int(demand.shape[0])\n",
    "print(demand)"
   ]
  },
  {
   "cell_type": "markdown",
   "metadata": {},
   "source": [
    "Then store the links in a dictionary\n",
    "\n",
    "$\\underline{\\text{Edit:}}$ we don't need it anymore, we store the graph adjacency matrix as a sparse matrix"
   ]
  },
  {
   "cell_type": "code",
   "execution_count": 8,
   "metadata": {},
   "outputs": [],
   "source": [
    "# graph_dict gives the line of the graph matrix corresponding to the destination d and the origin o\n",
    "graph_dict = {}\n",
    "for i in range(graph.shape[0]):\n",
    "    try: \n",
    "        graph_dict[int(graph[i][1])]\n",
    "    except:\n",
    "        graph_dict[int(graph[i][1])] = {}\n",
    "    graph_dict[int(graph[i][1])][int(graph[i][2])] = int(graph[i][0])\n",
    "    \n",
    "# print(graph_dict)\n",
    "# Here we remove graph_dict\n",
    "del graph_dict"
   ]
  },
  {
   "cell_type": "markdown",
   "metadata": {},
   "source": [
    "Then, we define the function which gives the travel time as a function of the flow"
   ]
  },
  {
   "cell_type": "code",
   "execution_count": 9,
   "metadata": {},
   "outputs": [],
   "source": [
    "# TO DO ADD THE CAPACITY\n",
    "def travel_time(f, c = -1):\n",
    "    if c == -1:\n",
    "        c = [float('inf') for i in range(len(f))] # this might be to much, to do once we have everything done\n",
    "    tt_tmp = graph[:,3] + graph[:,4]*f + graph[:,5]*(f**2) + graph[:,6]*(f**3) + graph[:,7]*(f**4)\n",
    "    tt_tmp = [tt_tmp[i] if f[i]<c[i] else float('inf') for i in range(len(f))]\n",
    "    return tt_tmp"
   ]
  },
  {
   "cell_type": "code",
   "execution_count": 10,
   "metadata": {},
   "outputs": [
    {
     "name": "stdout",
     "output_type": "stream",
     "text": [
      "21\n"
     ]
    }
   ],
   "source": [
    "nb_links = int(np.max(graph[:,0])+1)\n",
    "nb_nodes = int(max(np.max(graph[:,1]), np.max(graph[:,2]))+1)\n",
    "print(nb_nodes)"
   ]
  },
  {
   "cell_type": "markdown",
   "metadata": {},
   "source": [
    "## 2. We compute the all or nothing flow allocation"
   ]
  },
  {
   "cell_type": "code",
   "execution_count": 11,
   "metadata": {},
   "outputs": [],
   "source": [
    "import scipy"
   ]
  },
  {
   "cell_type": "code",
   "execution_count": 12,
   "metadata": {},
   "outputs": [],
   "source": [
    "from scipy.sparse.csgraph import dijkstra"
   ]
  },
  {
   "cell_type": "markdown",
   "metadata": {},
   "source": [
    "To use the Dijkstra's algorithm class of scipy we need to define the adjacent matrix of the graph"
   ]
  },
  {
   "cell_type": "code",
   "execution_count": 13,
   "metadata": {},
   "outputs": [],
   "source": [
    "def update_travel_time(tt):\n",
    "    for i in range(graph.shape[0]):\n",
    "        # G[int(graph[i][1])].getcol(int(graph[i][2])).toarray().reshape(1)[0]\n",
    "        # G[int(graph[i][1])][int(graph[i][2])] = tt[i]\n",
    "        G[int(graph[i][1]),int(graph[i][2])] = tt[i]"
   ]
  },
  {
   "cell_type": "code",
   "execution_count": 14,
   "metadata": {},
   "outputs": [
    {
     "name": "stdout",
     "output_type": "stream",
     "text": [
      "  (1, 2)\t1.38\n",
      "  (1, 7)\t1.15\n",
      "  (2, 3)\t1.38\n",
      "  (2, 8)\t1.14\n",
      "  (3, 4)\t1.68\n",
      "  (3, 9)\t1.13\n",
      "  (4, 5)\t1.26\n",
      "  (4, 10)\t1.05\n",
      "  (5, 6)\t2.25\n",
      "  (5, 11)\t1.04\n",
      "  (6, 12)\t1.09\n",
      "  (7, 1)\t1.15\n",
      "  (7, 8)\t0.48\n",
      "  (7, 13)\t0.36\n",
      "  (8, 2)\t1.14\n",
      "  (8, 9)\t0.48\n",
      "  (8, 14)\t0.39\n",
      "  (9, 3)\t1.13\n",
      "  (9, 10)\t0.58\n",
      "  (9, 15)\t0.38\n",
      "  (10, 4)\t1.05\n",
      "  (10, 11)\t0.43\n",
      "  (10, 16)\t0.48\n",
      "  (11, 5)\t1.04\n",
      "  (11, 12)\t0.77\n",
      "  (11, 17)\t0.5\n",
      "  (12, 6)\t1.09\n",
      "  (12, 18)\t0.47\n",
      "  (12, 20)\t0.22\n",
      "  (13, 7)\t0.36\n",
      "  (13, 14)\t1.38\n",
      "  (14, 8)\t0.39\n",
      "  (14, 15)\t1.38\n",
      "  (15, 9)\t0.38\n",
      "  (15, 16)\t1.68\n",
      "  (16, 10)\t0.48\n",
      "  (16, 17)\t1.25\n",
      "  (17, 11)\t0.5\n",
      "  (17, 18)\t2.22\n",
      "  (18, 12)\t0.47\n",
      "  (19, 7)\t0.29\n"
     ]
    }
   ],
   "source": [
    "G = np.zeros(shape=(nb_nodes,nb_nodes))\n",
    "update_travel_time(travel_time(np.zeros(nb_links))) # , [1,1,-1,1,1]))\n",
    "# the following line make the matrix sparse, one can use G.toarray() to do the opposite\n",
    "G = scipy.sparse.csr_matrix(G)\n",
    "print(G)"
   ]
  },
  {
   "cell_type": "code",
   "execution_count": 15,
   "metadata": {},
   "outputs": [],
   "source": [
    "class path:\n",
    "    def __init__(self,links):\n",
    "        self.links = links\n",
    "        self.flow = 0\n",
    "    def add_flow(self, flow):\n",
    "        self.flow += flow\n",
    "    def __eq__(self, other):\n",
    "        return np.all(self.links == other.links)\n",
    "    def __hash__(self):\n",
    "        return hash(np.sum([hash(self.links[i]*(nb_links**i)) for i in range(len(self.links))]))\n",
    "    def __str__(self):\n",
    "        return str(self.flow) + \" is on \" + str(self.links) "
   ]
  },
  {
   "cell_type": "code",
   "execution_count": 16,
   "metadata": {},
   "outputs": [
    {
     "name": "stdout",
     "output_type": "stream",
     "text": [
      "{}\n",
      "{210166: (<__main__.path object at 0x1080097b8>, 0)}\n",
      "{210166: (<__main__.path object at 0x1080097b8>, 0), 208485: (<__main__.path object at 0x108009780>, 0)}\n",
      "{210166: (<__main__.path object at 0x1080097b8>, 0), 208485: (<__main__.path object at 0x108009780>, 0), 210125: (<__main__.path object at 0x1080095c0>, 0)}\n"
     ]
    }
   ],
   "source": [
    "paths_used = {}\n",
    "print(paths_used)\n",
    "p = path([0, 1, 2, 3])\n",
    "paths_used[hash(p)] = (p, 0)\n",
    "print(paths_used)\n",
    "p = path([0, 1, 1, 3])\n",
    "paths_used[hash(p)] = (p, 0)\n",
    "print(paths_used)\n",
    "p = path([0, 0, 2, 3])\n",
    "paths_used[hash(p)] = (p, 0)\n",
    "print(paths_used)"
   ]
  },
  {
   "cell_type": "markdown",
   "metadata": {},
   "source": [
    "Now let's compute the all or nothing allocation"
   ]
  },
  {
   "cell_type": "code",
   "execution_count": 19,
   "metadata": {},
   "outputs": [],
   "source": [
    "# computing the all or nothing flow\n",
    "paths_used = {}\n",
    "\n",
    "def all_or_nothing():\n",
    "    global k\n",
    "    faon = np.zeros(nb_links)\n",
    "    # using scipy to compute dijkstra\n",
    "    dist_matrix, return_predecessors = dijkstra(G, return_predecessors = True)\n",
    "    \"\"\"faon = np.zeros(shape = nb_links)\"\"\"\n",
    "    for i in range(nb_ods):\n",
    "        o_tmp = int(demand[i][0])\n",
    "        d_tmp = int(demand[i][1])\n",
    "        flow_tmp = demand[i][2]\n",
    "\n",
    "        node_tmp = d_tmp\n",
    "        links = []\n",
    "        while node_tmp != o_tmp:\n",
    "            node_tmp_d = return_predecessors[o_tmp][node_tmp]\n",
    "            link_tmp = list(G.todok().keys()).index((node_tmp_d, node_tmp)) #I don't know how much time it takes, should I stock the list of keys in memory?\n",
    "            links.insert(0, link_tmp)\n",
    "            faon[link_tmp] += flow_tmp\n",
    "            node_tmp = node_tmp_d\n",
    "        \n",
    "        p = path(links)\n",
    "        p.add_flow(flow_tmp)\n",
    "        print(p)\n",
    "        if hash(p) in paths_used:\n",
    "            continue\n",
    "            # print(str(p) + \" is already in paths_used\" + str(paths_used[hash(p)]))\n",
    "        else:\n",
    "            print(k)\n",
    "            paths_used[hash(p)] = (p, k)\n",
    "            k = k+1\n",
    "    \n",
    "        # Here store the path\n",
    "        # p = np.zeros()\n",
    "        # next is for the link flow\n",
    "        \"\"\"\n",
    "        node_tmp_d = d_tmp\n",
    "        while node_tmp_d != o_tmp:\n",
    "            node_tmp = return_predecessors[o_tmp][node_tmp_d]\n",
    "            link_tmp = int(graph_dict[node_tmp][node_tmp_d])\n",
    "            faon[link_tmp] += flow_tmp\n",
    "            node_tmp_d = node_tmp\n",
    "    return faon\n",
    "    \"\"\"\n",
    "    return faon"
   ]
  },
  {
   "cell_type": "markdown",
   "metadata": {},
   "source": [
    "We define the line search"
   ]
  },
  {
   "cell_type": "code",
   "execution_count": 20,
   "metadata": {},
   "outputs": [
    {
     "name": "stdout",
     "output_type": "stream",
     "text": [
      "25000.0 is on [13, 15, 18, 21, 24, 27, 40]\n",
      "0\n",
      "{193201583558: (<__main__.path object at 0x108009898>, 0)}\n"
     ]
    }
   ],
   "source": [
    "k = 0 \n",
    "all_or_nothing()\n",
    "print(paths_used)"
   ]
  },
  {
   "cell_type": "code",
   "execution_count": 21,
   "metadata": {},
   "outputs": [],
   "source": [
    "# TO DO: rewrite this function\n",
    "def potential(graph, f):\n",
    "    # this routine is useful for doing a line search\n",
    "    # computes the potential at flow assignment f\n",
    "    links = int(np.max(graph[:, 0]) + 1)\n",
    "    g = np.copy(\n",
    "        graph.dot(np.diag([1., 1., 1., 1., 1 / 2., 1 / 3., 1 / 4., 1 / 5.])))\n",
    "    x = np.power(f.reshape((links, 1)), np.array([1, 2, 3, 4, 5]))\n",
    "    return np.sum(np.einsum('ij,ij->i', x, g[:, 3:]))\n",
    "\n",
    "\n",
    "def line_search(f, res=20):\n",
    "    # on a grid of 2^res points bw 0 and 1, find global minimum\n",
    "    # of continuous convex function\n",
    "    # here we do a bisection\n",
    "    d = 1. / (2**res - 1)\n",
    "    l, r = 0, 2**res - 1\n",
    "    while r - l > 1:\n",
    "        if f(l * d) <= f(l * d + d):\n",
    "            return l * d\n",
    "        if f(r * d - d) >= f(r * d):\n",
    "            return r * d\n",
    "        # otherwise f(l) > f(l+d) and f(r-d) < f(r)\n",
    "        m1, m2 = (l + r) / 2, 1 + (l + r) / 2\n",
    "        if f(m1 * d) < f(m2 * d):\n",
    "            r = m1\n",
    "        if f(m1 * d) > f(m2 * d):\n",
    "            l = m2\n",
    "        if f(m1 * d) == f(m2 * d):\n",
    "            return m1 * d\n",
    "    return l * d"
   ]
  },
  {
   "cell_type": "markdown",
   "metadata": {},
   "source": [
    "Now let run the Frank-Wolf's algorithm with a line search to find alpha"
   ]
  },
  {
   "cell_type": "code",
   "execution_count": 24,
   "metadata": {},
   "outputs": [
    {
     "name": "stdout",
     "output_type": "stream",
     "text": [
      "25000.0 is on [13, 15, 30, 33, 19, 4, 5, 7, 9, 26, 40]\n",
      "[    0.     0.     0.     0. 25000. 25000.     0. 25000.     0. 25000.\n",
      "     0.     0.     0. 25000.     0. 25000.     0.     0.     0. 25000.\n",
      "     0.     0.     0.     0.     0.     0. 25000.     0.     0.     0.\n",
      " 25000.     0.     0. 25000.     0.     0.     0.     0.     0.     0.\n",
      " 25000.]\n",
      "{193201583558: (<__main__.path object at 0x108009898>, 0), 325039770805430: (<__main__.path object at 0x10817dac8>, 1), 324504196556880: (<__main__.path object at 0x10817db38>, 2), 545491554577279201: (<__main__.path object at 0x10817dc18>, 3)}\n",
      "0\n",
      "25000.0 is on [13, 15, 30, 33, 19, 21, 24, 27, 40]\n",
      "4\n",
      "25000.0 is on [13, 15, 30, 33, 19, 21, 34, 37, 39, 28, 40]\n",
      "5\n",
      "25000.0 is on [13, 15, 30, 33, 19, 21, 6, 7, 9, 26, 40]\n",
      "6\n",
      "25000.0 is on [13, 15, 30, 33, 19, 21, 34, 37, 25, 8, 9, 26, 40]\n",
      "7\n"
     ]
    }
   ],
   "source": [
    "eps=1e-8\n",
    "f = all_or_nothing()\n",
    "print(f)\n",
    "update_travel_time(travel_time(f))\n",
    "print(paths_used)\n",
    "\n",
    "for i in range(1000):\n",
    "    if i % 100 == 0:\n",
    "        print(i)\n",
    "    faon = all_or_nothing() \n",
    "    s = line_search(lambda a: potential(graph, (1. - a) * f + a * faon))\n",
    "    if s < eps:\n",
    "        break\n",
    "    f = (1. - s) * f + s * faon\n",
    "    # also update the path flow\n",
    "    ## TO DO ##\n",
    "    update_travel_time(travel_time(f))"
   ]
  },
  {
   "cell_type": "code",
   "execution_count": 23,
   "metadata": {},
   "outputs": [
    {
     "name": "stdout",
     "output_type": "stream",
     "text": [
      "  (1, 2)\t1.38\n",
      "  (1, 7)\t1.15\n",
      "  (2, 3)\t5089361032701062.0\n",
      "  (2, 8)\t4204254766144356.5\n",
      "  (3, 4)\t9231559.039423268\n",
      "  (3, 9)\t4271910701258548.0\n",
      "  (4, 5)\t1.26\n",
      "  (4, 10)\t3969474545417235.0\n",
      "  (5, 6)\t2.25\n",
      "  (5, 11)\t3931670025937070.5\n",
      "  (6, 12)\t1.09\n",
      "  (7, 1)\t1.15\n",
      "  (7, 8)\t0.48\n",
      "  (7, 13)\t3.375e+17\n",
      "  (8, 2)\t1.14\n",
      "  (8, 9)\t720000000000000.5\n",
      "  (8, 14)\t0.39\n",
      "  (9, 3)\t1.13\n",
      "  (9, 10)\t49434806976970.27\n",
      "  (9, 15)\t2088090.735107644\n",
      "  (10, 4)\t1.05\n",
      "  (10, 11)\t36649943103615.9\n",
      "  (10, 16)\t0.48\n",
      "  (11, 5)\t1.04\n",
      "  (11, 12)\t65628967883219.164\n",
      "  (11, 17)\t0.5\n",
      "  (12, 6)\t4120692623337891.5\n",
      "  (12, 18)\t2.5037025085318704e+16\n",
      "  (12, 20)\t1502689170669.2395\n",
      "  (13, 7)\t1536841197275133.8\n",
      "  (13, 14)\t1.38\n",
      "  (14, 8)\t1705160836426404.5\n",
      "  (14, 15)\t1.38\n",
      "  (15, 9)\t0.38\n",
      "  (15, 16)\t7345308218452204.0\n",
      "  (16, 10)\t0.48\n",
      "  (16, 17)\t5336254157205326.0\n",
      "  (17, 11)\t0.5\n",
      "  (17, 18)\t9477187383196660.0\n",
      "  (18, 12)\t0.47\n",
      "  (19, 7)\t435000000000000.3\n",
      "[    0.             0.          6260.99321345  6260.99321345\n",
      "    38.89901572  6299.89222917     0.          6299.89222917\n",
      "     0.          6299.89222917     0.             0.\n",
      "     0.         25000.             0.         25000.\n",
      "     0.             0.         12205.86061467    38.89901572\n",
      "     0.         12205.86061467     0.             0.\n",
      " 12205.86061467     0.          6299.89222917 12205.86061467\n",
      "  6494.24715617     0.          6533.14617188     0.\n",
      "     0.          6533.14617188     0.          6494.24715617\n",
      "     0.          6494.24715617     0.          6494.24715617\n",
      " 25000.        ]\n"
     ]
    }
   ],
   "source": [
    "print(G)\n",
    "print(f)"
   ]
  },
  {
   "cell_type": "code",
   "execution_count": 25,
   "metadata": {},
   "outputs": [
    {
     "name": "stdout",
     "output_type": "stream",
     "text": [
      "{193201583558: (<__main__.path object at 0x108009898>, 0), 325039770805430: (<__main__.path object at 0x10817dac8>, 1), 324504196556880: (<__main__.path object at 0x10817db38>, 2), 545491554577279201: (<__main__.path object at 0x10817dc18>, 3), 324771866056542: (<__main__.path object at 0x10817d748>, 4), 546391848553735589: (<__main__.path object at 0x10817d6a0>, 5), 545491561296938859: (<__main__.path object at 0x10817d6d8>, 6), 1552122163731328403: (<__main__.path object at 0x10817d7f0>, 7)}\n"
     ]
    }
   ],
   "source": [
    "print(paths_used)"
   ]
  },
  {
   "cell_type": "code",
   "execution_count": null,
   "metadata": {},
   "outputs": [],
   "source": []
  }
 ],
 "metadata": {
  "kernelspec": {
   "display_name": "Python 3",
   "language": "python",
   "name": "python3"
  },
  "language_info": {
   "codemirror_mode": {
    "name": "ipython",
    "version": 3
   },
   "file_extension": ".py",
   "mimetype": "text/x-python",
   "name": "python",
   "nbconvert_exporter": "python",
   "pygments_lexer": "ipython3",
   "version": "3.6.6"
  }
 },
 "nbformat": 4,
 "nbformat_minor": 2
}
