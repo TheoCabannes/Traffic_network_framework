{
 "cells": [
  {
   "cell_type": "markdown",
   "metadata": {},
   "source": [
    "# This is the code which solves the Static Traffic Assignment Problem"
   ]
  },
  {
   "cell_type": "code",
   "execution_count": 1,
   "metadata": {},
   "outputs": [],
   "source": [
    "import numpy as np"
   ]
  },
  {
   "cell_type": "code",
   "execution_count": 14,
   "metadata": {},
   "outputs": [],
   "source": [
    "network = 'data/I210'"
   ]
  },
  {
   "cell_type": "code",
   "execution_count": 30,
   "metadata": {},
   "outputs": [],
   "source": [
    "debug = False"
   ]
  },
  {
   "cell_type": "markdown",
   "metadata": {},
   "source": [
    "## 1. We load the graph and the demand\n",
    "Both graph and demand are in csv file, we load them"
   ]
  },
  {
   "cell_type": "code",
   "execution_count": 31,
   "metadata": {},
   "outputs": [],
   "source": [
    "graph = np.loadtxt(network + '_net.csv', delimiter=',', skiprows=1)\n",
    "demand = np.loadtxt(network + '_od.csv', delimiter=',', skiprows=1)"
   ]
  },
  {
   "cell_type": "code",
   "execution_count": 32,
   "metadata": {},
   "outputs": [],
   "source": [
    "# in the case where there is only one o-d, then demand is interpret as a single row and not as a matrix\n",
    "try:\n",
    "    demand.shape[1]\n",
    "except:\n",
    "    demand = np.array([demand])\n",
    "nb_ods = int(demand.shape[0])\n",
    "if debug:\n",
    "    print(demand)\n",
    "\n",
    "# in the case where the index of the od pairs does not begin by 0, we rename the od pairs\n",
    "first_index_od = min(np.min(graph[:,1]), np.min(graph[:,2]))\n",
    "graph[:,1] = graph[:,1]-first_index_od\n",
    "graph[:,2] = graph[:,2]-first_index_od\n",
    "demand[:,0] = demand[:,0] - first_index_od\n",
    "demand[:,1] = demand[:,1] - first_index_od\n",
    "if debug:\n",
    "    print(first_index_od)\n",
    "    print(graph)"
   ]
  },
  {
   "cell_type": "markdown",
   "metadata": {},
   "source": [
    "Then, we define the function which gives the travel time as a function of the flow"
   ]
  },
  {
   "cell_type": "code",
   "execution_count": 34,
   "metadata": {},
   "outputs": [],
   "source": [
    "# TO DO ADD THE CAPACITY\n",
    "def travel_time(f, c = -1):\n",
    "    if c == -1:\n",
    "        c = [float('inf') for i in range(len(f))] # this might be to much, to do once we have everything done\n",
    "    tt_tmp = graph[:,3] + graph[:,4]*f + graph[:,5]*(f**2) + graph[:,6]*(f**3) + graph[:,7]*(f**4)\n",
    "    tt_tmp = [tt_tmp[i] if f[i]<c[i] else float('inf') for i in range(len(f))]\n",
    "    return tt_tmp"
   ]
  },
  {
   "cell_type": "code",
   "execution_count": 35,
   "metadata": {},
   "outputs": [],
   "source": [
    "nb_links = int(np.max(graph[:,0])+1)\n",
    "nb_nodes = int(max(np.max(graph[:,1]), np.max(graph[:,2]))+1)\n",
    "if debug:\n",
    "    print(\"nb nodes = \" + str(nb_nodes))"
   ]
  },
  {
   "cell_type": "markdown",
   "metadata": {},
   "source": [
    "## 2. We compute the all or nothing flow allocation"
   ]
  },
  {
   "cell_type": "code",
   "execution_count": 36,
   "metadata": {},
   "outputs": [],
   "source": [
    "import scipy"
   ]
  },
  {
   "cell_type": "code",
   "execution_count": 37,
   "metadata": {},
   "outputs": [],
   "source": [
    "from scipy.sparse.csgraph import dijkstra"
   ]
  },
  {
   "cell_type": "markdown",
   "metadata": {},
   "source": [
    "To use the Dijkstra's algorithm class of scipy we need to define the adjacent matrix of the graph"
   ]
  },
  {
   "cell_type": "code",
   "execution_count": 38,
   "metadata": {},
   "outputs": [],
   "source": [
    "def update_travel_time(tt):\n",
    "    for i in range(graph.shape[0]):\n",
    "        # G[int(graph[i][1])].getcol(int(graph[i][2])).toarray().reshape(1)[0]\n",
    "        # G[int(graph[i][1])][int(graph[i][2])] = tt[i]\n",
    "        G[int(graph[i][1]),int(graph[i][2])] = tt[i]"
   ]
  },
  {
   "cell_type": "code",
   "execution_count": 39,
   "metadata": {},
   "outputs": [
    {
     "name": "stdout",
     "output_type": "stream",
     "text": [
      "  (0, 1)\t1.38\n",
      "  (0, 6)\t1.15\n",
      "  (1, 2)\t1.38\n",
      "  (1, 7)\t1.14\n",
      "  (2, 3)\t1.68\n",
      "  (2, 8)\t1.13\n",
      "  (3, 4)\t1.26\n",
      "  (3, 9)\t1.05\n",
      "  (4, 5)\t2.25\n",
      "  (4, 10)\t1.04\n",
      "  (5, 11)\t1.09\n",
      "  (6, 0)\t1.15\n",
      "  (6, 7)\t0.48\n",
      "  (6, 12)\t0.36\n",
      "  (7, 1)\t1.14\n",
      "  (7, 8)\t0.48\n",
      "  (7, 13)\t0.39\n",
      "  (8, 2)\t1.13\n",
      "  (8, 9)\t0.58\n",
      "  (8, 14)\t0.38\n",
      "  (9, 3)\t1.05\n",
      "  (9, 10)\t0.43\n",
      "  (9, 15)\t0.48\n",
      "  (10, 4)\t1.04\n",
      "  (10, 11)\t0.77\n",
      "  (10, 16)\t0.5\n",
      "  (11, 5)\t1.09\n",
      "  (11, 17)\t0.47\n",
      "  (11, 19)\t0.22\n",
      "  (12, 6)\t0.36\n",
      "  (12, 13)\t1.38\n",
      "  (13, 7)\t0.39\n",
      "  (13, 14)\t1.38\n",
      "  (14, 8)\t0.38\n",
      "  (14, 15)\t1.68\n",
      "  (15, 9)\t0.48\n",
      "  (15, 16)\t1.25\n",
      "  (16, 10)\t0.5\n",
      "  (16, 17)\t2.22\n",
      "  (17, 11)\t0.47\n",
      "  (18, 6)\t0.29\n"
     ]
    }
   ],
   "source": [
    "G = np.zeros(shape=(nb_nodes,nb_nodes))\n",
    "update_travel_time(travel_time(np.zeros(nb_links))) # , [1,1,-1,1,1]))\n",
    "# the following line make the matrix sparse, one can use G.toarray() to do the opposite\n",
    "G = scipy.sparse.csr_matrix(G)\n",
    "print(G)"
   ]
  },
  {
   "cell_type": "code",
   "execution_count": 40,
   "metadata": {},
   "outputs": [],
   "source": [
    "class path:\n",
    "    def __init__(self,links):\n",
    "        self.links = links\n",
    "        self.flow = 0\n",
    "    def add_flow(self, flow):\n",
    "        self.flow += flow\n",
    "    def __eq__(self, other):\n",
    "        return np.all(self.links == other.links)\n",
    "    def __hash__(self):\n",
    "        return hash(np.sum([hash(self.links[i]*(nb_links**i)) for i in range(len(self.links))]))\n",
    "    def __str__(self):\n",
    "        return str(self.flow) + \" is on \" + str(self.links) "
   ]
  },
  {
   "cell_type": "code",
   "execution_count": 41,
   "metadata": {},
   "outputs": [
    {
     "name": "stdout",
     "output_type": "stream",
     "text": [
      "{}\n",
      "{210166: (<__main__.path object at 0x111ba7710>, 0)}\n",
      "{210166: (<__main__.path object at 0x111ba7710>, 0), 208485: (<__main__.path object at 0x111ba7320>, 0)}\n",
      "{210166: (<__main__.path object at 0x111ba7710>, 0), 208485: (<__main__.path object at 0x111ba7320>, 0), 210125: (<__main__.path object at 0x111ba7780>, 0)}\n"
     ]
    }
   ],
   "source": [
    "paths_used = {}\n",
    "print(paths_used)\n",
    "p = path([0, 1, 2, 3])\n",
    "paths_used[hash(p)] = (p, 0)\n",
    "print(paths_used)\n",
    "p = path([0, 1, 1, 3])\n",
    "paths_used[hash(p)] = (p, 0)\n",
    "print(paths_used)\n",
    "p = path([0, 0, 2, 3])\n",
    "paths_used[hash(p)] = (p, 0)\n",
    "print(paths_used)"
   ]
  },
  {
   "cell_type": "markdown",
   "metadata": {},
   "source": [
    "Now let's compute the all or nothing allocation"
   ]
  },
  {
   "cell_type": "code",
   "execution_count": 64,
   "metadata": {},
   "outputs": [],
   "source": [
    "# computing the all or nothing flow\n",
    "paths_used = {}\n",
    "\n",
    "def all_or_nothing():\n",
    "    global k\n",
    "    paths_used_tmp = {}\n",
    "    faon = np.zeros(nb_links)\n",
    "    # using scipy to compute dijkstra\n",
    "    dist_matrix, return_predecessors = dijkstra(G, return_predecessors = True)\n",
    "    \"\"\"faon = np.zeros(shape = nb_links)\"\"\"\n",
    "    for i in range(nb_ods):\n",
    "        o_tmp = int(demand[i][0])\n",
    "        d_tmp = int(demand[i][1])\n",
    "        flow_tmp = demand[i][2]\n",
    "\n",
    "        node_tmp = d_tmp\n",
    "        links = []\n",
    "        while node_tmp != o_tmp:\n",
    "            node_tmp_d = return_predecessors[o_tmp][node_tmp]\n",
    "            link_tmp = list(G.todok().keys()).index((node_tmp_d, node_tmp)) #I don't know how much time it takes, should I stock the list of keys in memory?\n",
    "            links.insert(0, link_tmp)\n",
    "            faon[link_tmp] += flow_tmp\n",
    "            node_tmp = node_tmp_d\n",
    "        \n",
    "        p = path(links)\n",
    "        p.add_flow(flow_tmp)\n",
    "        print(p)\n",
    "        if hash(p) in paths_used:\n",
    "            continue\n",
    "            # print(str(p) + \" is already in paths_used\" + str(paths_used[hash(p)]))\n",
    "        else:\n",
    "            print(k)\n",
    "            paths_used_tmp[hash(p)] = (p, k)\n",
    "            k = k+1\n",
    "            \n",
    "    paths_used.update(paths_used_tmp)\n",
    "    return faon, paths_used_tmp"
   ]
  },
  {
   "cell_type": "markdown",
   "metadata": {},
   "source": [
    "We define the line search"
   ]
  },
  {
   "cell_type": "code",
   "execution_count": 65,
   "metadata": {},
   "outputs": [
    {
     "name": "stdout",
     "output_type": "stream",
     "text": [
      "25000.0 is on [13, 15, 30, 33, 19, 4, 5, 7, 9, 26, 40]\n",
      "0\n",
      "{545491554577279201: (<__main__.path object at 0x111ba7978>, 0)}\n"
     ]
    }
   ],
   "source": [
    "k = 0 \n",
    "all_or_nothing()\n",
    "print(paths_used)"
   ]
  },
  {
   "cell_type": "code",
   "execution_count": 66,
   "metadata": {},
   "outputs": [],
   "source": [
    "# TO DO: rewrite this function\n",
    "def potential(graph, f):\n",
    "    # this routine is useful for doing a line search\n",
    "    # computes the potential at flow assignment f\n",
    "    links = int(np.max(graph[:, 0]) + 1)\n",
    "    g = np.copy(\n",
    "        graph.dot(np.diag([1., 1., 1., 1., 1 / 2., 1 / 3., 1 / 4., 1 / 5.])))\n",
    "    x = np.power(f.reshape((links, 1)), np.array([1, 2, 3, 4, 5]))\n",
    "    return np.sum(np.einsum('ij,ij->i', x, g[:, 3:]))\n",
    "\n",
    "\n",
    "def line_search(f, res=20):\n",
    "    # on a grid of 2^res points bw 0 and 1, find global minimum\n",
    "    # of continuous convex function\n",
    "    # here we do a bisection\n",
    "    d = 1. / (2**res - 1)\n",
    "    l, r = 0, 2**res - 1\n",
    "    while r - l > 1:\n",
    "        if f(l * d) <= f(l * d + d):\n",
    "            return l * d\n",
    "        if f(r * d - d) >= f(r * d):\n",
    "            return r * d\n",
    "        # otherwise f(l) > f(l+d) and f(r-d) < f(r)\n",
    "        m1, m2 = (l + r) / 2, 1 + (l + r) / 2\n",
    "        if f(m1 * d) < f(m2 * d):\n",
    "            r = m1\n",
    "        if f(m1 * d) > f(m2 * d):\n",
    "            l = m2\n",
    "        if f(m1 * d) == f(m2 * d):\n",
    "            return m1 * d\n",
    "    return l * d"
   ]
  },
  {
   "cell_type": "markdown",
   "metadata": {},
   "source": [
    "Now let run the Frank-Wolf's algorithm with a line search to find alpha"
   ]
  },
  {
   "cell_type": "code",
   "execution_count": 76,
   "metadata": {},
   "outputs": [
    {
     "name": "stdout",
     "output_type": "stream",
     "text": [
      "25000.0 is on [13, 15, 18, 21, 24, 27, 40]\n",
      "0\n",
      "[    0.     0.     0.     0.     0.     0.     0.     0.     0.     0.\n",
      "     0.     0.     0. 25000.     0. 25000.     0.     0. 25000.     0.\n",
      "     0. 25000.     0.     0. 25000.     0.     0. 25000.     0.     0.\n",
      "     0.     0.     0.     0.     0.     0.     0.     0.     0.     0.\n",
      " 25000.]\n",
      "{193201583558: (<__main__.path object at 0x111ee7d30>, 0)}\n",
      "0\n",
      "[25000.]\n",
      "0\n",
      "25000.0 is on [13, 15, 30, 33, 35, 37, 39, 28, 40]\n",
      "1\n",
      "s: 0.34728394273189\n",
      "25000.0 is on [13, 15, 2, 3, 5, 7, 9, 26, 40]\n",
      "2\n",
      "s: 0.2508300101583961\n",
      "25000.0 is on [13, 15, 30, 33, 19, 4, 5, 7, 9, 26, 40]\n",
      "3\n",
      "s: 0.0015559606286323943\n",
      "25000.0 is on [13, 15, 30, 33, 19, 4, 5, 7, 9, 26, 40]\n",
      "s: 0.0\n",
      "[12205.86061467  6494.24715617  6260.99321345    38.89901572]\n"
     ]
    }
   ],
   "source": [
    "eps=1e-8\n",
    "k = 0\n",
    "paths_used = {}\n",
    "f = np.zeros(nb_links)\n",
    "update_travel_time(travel_time(f))\n",
    "\n",
    "f, paths_aux = all_or_nothing()\n",
    "print(f)\n",
    "update_travel_time(travel_time(f))\n",
    "print(paths_used)\n",
    "path_matrix = np.zeros(len(paths_aux))\n",
    "\n",
    "for val in paths_aux.values():\n",
    "    print(val[1])\n",
    "    path_matrix[val[1]] = val[0].flow\n",
    "\n",
    "print(path_matrix)\n",
    "\n",
    "for i in range(1000):\n",
    "    if i % 100 == 0:\n",
    "        print(i)\n",
    "    faon, paths_tmp = all_or_nothing() \n",
    "    s = line_search(lambda a: potential(graph, (1. - a) * f + a * faon))\n",
    "    print(\"s: \" + str(s))\n",
    "    if s < eps:\n",
    "        break\n",
    "    path_matrix = np.append(path_matrix, np.zeros(len(paths_used)-path_matrix.shape[0]))\n",
    "    path_matrix = (1-s) * path_matrix\n",
    "    for val in paths_tmp.values():\n",
    "        path_matrix[val[1]] += s * val[0].flow\n",
    "    f = (1. - s) * f + s * faon\n",
    "    \n",
    "    # also update the path flow\n",
    "    ## TO DO ##\n",
    "    update_travel_time(travel_time(f))\n",
    "print(path_matrix)"
   ]
  },
  {
   "cell_type": "code",
   "execution_count": 81,
   "metadata": {},
   "outputs": [
    {
     "name": "stdout",
     "output_type": "stream",
     "text": [
      "12205.86061466584 is on 12205.86061466584 is on [13, 15, 18, 21, 24, 27, 40]\n",
      "6494.247156165595 is on 6494.247156165595 is on [13, 15, 30, 33, 35, 37, 39, 28, 40]\n",
      "6260.993213452754 is on 6260.993213452755 is on [13, 15, 2, 3, 5, 7, 9, 26, 40]\n",
      "38.89901571580986 is on 38.8990157158114 is on [13, 15, 30, 33, 19, 4, 5, 7, 9, 26, 40]\n",
      "[[1.8e+01 1.9e+01 2.5e+04]]\n",
      "  (0, 1)\t1.38\n",
      "  (0, 6)\t1.15\n",
      "  (1, 2)\t5089361032701062.0\n",
      "  (1, 7)\t4204254766144356.5\n",
      "  (2, 3)\t9231559.039423268\n",
      "  (2, 8)\t4271910701258548.0\n",
      "  (3, 4)\t1.26\n",
      "  (3, 9)\t3969474545417235.0\n",
      "  (4, 5)\t2.25\n",
      "  (4, 10)\t3931670025937070.5\n",
      "  (5, 11)\t1.09\n",
      "  (6, 0)\t1.15\n",
      "  (6, 7)\t0.48\n",
      "  (6, 12)\t3.375e+17\n",
      "  (7, 1)\t1.14\n",
      "  (7, 8)\t720000000000000.5\n",
      "  (7, 13)\t0.39\n",
      "  (8, 2)\t1.13\n",
      "  (8, 9)\t49434806976970.27\n",
      "  (8, 14)\t2088090.735107644\n",
      "  (9, 3)\t1.05\n",
      "  (9, 10)\t36649943103615.9\n",
      "  (9, 15)\t0.48\n",
      "  (10, 4)\t1.04\n",
      "  (10, 11)\t65628967883219.164\n",
      "  (10, 16)\t0.5\n",
      "  (11, 5)\t4120692623337891.5\n",
      "  (11, 17)\t2.5037025085318704e+16\n",
      "  (11, 19)\t1502689170669.2395\n",
      "  (12, 6)\t1536841197275133.8\n",
      "  (12, 13)\t1.38\n",
      "  (13, 7)\t1705160836426404.5\n",
      "  (13, 14)\t1.38\n",
      "  (14, 8)\t0.38\n",
      "  (14, 15)\t7345308218452204.0\n",
      "  (15, 9)\t0.48\n",
      "  (15, 16)\t5336254157205326.0\n",
      "  (16, 10)\t0.5\n",
      "  (16, 17)\t9477187383196660.0\n",
      "  (17, 11)\t0.47\n",
      "  (18, 6)\t435000000000000.3\n",
      "[    0.             0.          6260.99321345  6260.99321345\n",
      "    38.89901572  6299.89222917     0.          6299.89222917\n",
      "     0.          6299.89222917     0.             0.\n",
      "     0.         25000.             0.         25000.\n",
      "     0.             0.         12205.86061467    38.89901572\n",
      "     0.         12205.86061467     0.             0.\n",
      " 12205.86061467     0.          6299.89222917 12205.86061467\n",
      "  6494.24715617     0.          6533.14617188     0.\n",
      "     0.          6533.14617188     0.          6494.24715617\n",
      "     0.          6494.24715617     0.          6494.24715617\n",
      " 25000.        ]\n"
     ]
    }
   ],
   "source": [
    "for p in paths_used.values():\n",
    "    index = p[1]\n",
    "    p[0].add_flow(path_matrix[index] - p[0].flow)\n",
    "    print(str(path_matrix[index]) + \" is on \" + str(p[0]))\n",
    "\n",
    "print(demand)\n",
    "print(G)\n",
    "print(f)\n",
    "\n"
   ]
  },
  {
   "cell_type": "code",
   "execution_count": 61,
   "metadata": {},
   "outputs": [
    {
     "name": "stdout",
     "output_type": "stream",
     "text": [
      "41\n"
     ]
    }
   ],
   "source": [
    "list(G.todok().keys()).index((7, 13))"
   ]
  },
  {
   "cell_type": "code",
   "execution_count": 96,
   "metadata": {},
   "outputs": [
    {
     "name": "stdout",
     "output_type": "stream",
     "text": [
      "[1.7976931348623157e+308, 1.7976931348623157e+308, 1.7976931348623157e+308, 1.7976931348623157e+308, 1.7976931348623157e+308, 1.7976931348623157e+308, 1.7976931348623157e+308, 1.7976931348623157e+308, 1.7976931348623157e+308, 1.7976931348623157e+308, 1.7976931348623157e+308, 1.7976931348623157e+308, 1.7976931348623157e+308, 1.7976931348623157e+308, 1.7976931348623157e+308, 1.7976931348623157e+308, 1.7976931348623157e+308, 1.7976931348623157e+308, 1.7976931348623157e+308, 1.7976931348623157e+308, 1.7976931348623157e+308, 1.7976931348623157e+308, 1.7976931348623157e+308, 1.7976931348623157e+308, 1.7976931348623157e+308, 1.7976931348623157e+308, 1.7976931348623157e+308, 1.7976931348623157e+308, 1.7976931348623157e+308, 1.7976931348623157e+308, 1.7976931348623157e+308, 1.7976931348623157e+308, 1.7976931348623157e+308, 1.7976931348623157e+308, 1.7976931348623157e+308, 1.7976931348623157e+308, 1.7976931348623157e+308, 1.7976931348623157e+308, 1.7976931348623157e+308, 1.7976931348623157e+308, 1.7976931348623157e+308, \n"
     ]
    }
   ],
   "source": [
    "print(\"[\", end=\"\")\n",
    "for i in range(len(travel_time(f))):\n",
    "    print(max_float, end=\", \")\n",
    "print()"
   ]
  },
  {
   "cell_type": "code",
   "execution_count": 57,
   "metadata": {},
   "outputs": [
    {
     "name": "stdout",
     "output_type": "stream",
     "text": [
      "[[0.0000e+00 0.0000e+00 1.0000e+00 1.3800e+00 0.0000e+00 0.0000e+00\n",
      "  0.0000e+00 3.3120e+00]\n",
      " [1.0000e+00 0.0000e+00 6.0000e+00 1.1500e+00 0.0000e+00 0.0000e+00\n",
      "  0.0000e+00 2.7600e+00]\n",
      " [2.0000e+00 1.0000e+00 2.0000e+00 1.3800e+00 0.0000e+00 0.0000e+00\n",
      "  0.0000e+00 3.3120e+00]\n",
      " [3.0000e+00 1.0000e+00 7.0000e+00 1.1400e+00 0.0000e+00 0.0000e+00\n",
      "  0.0000e+00 2.7360e+00]\n",
      " [4.0000e+00 2.0000e+00 3.0000e+00 1.6800e+00 0.0000e+00 0.0000e+00\n",
      "  0.0000e+00 4.0320e+00]\n",
      " [5.0000e+00 2.0000e+00 8.0000e+00 1.1300e+00 0.0000e+00 0.0000e+00\n",
      "  0.0000e+00 2.7120e+00]\n",
      " [6.0000e+00 3.0000e+00 4.0000e+00 1.2600e+00 0.0000e+00 0.0000e+00\n",
      "  0.0000e+00 3.0240e+00]\n",
      " [7.0000e+00 3.0000e+00 9.0000e+00 1.0500e+00 0.0000e+00 0.0000e+00\n",
      "  0.0000e+00 2.5200e+00]\n",
      " [8.0000e+00 4.0000e+00 5.0000e+00 2.2500e+00 0.0000e+00 0.0000e+00\n",
      "  0.0000e+00 5.4000e+00]\n",
      " [9.0000e+00 4.0000e+00 1.0000e+01 1.0400e+00 0.0000e+00 0.0000e+00\n",
      "  0.0000e+00 2.4960e+00]\n",
      " [1.0000e+01 5.0000e+00 1.1000e+01 1.0900e+00 0.0000e+00 0.0000e+00\n",
      "  0.0000e+00 2.6160e+00]\n",
      " [1.1000e+01 6.0000e+00 0.0000e+00 1.1500e+00 0.0000e+00 0.0000e+00\n",
      "  0.0000e+00 2.7600e+00]\n",
      " [1.2000e+01 6.0000e+00 7.0000e+00 4.8000e-01 0.0000e+00 0.0000e+00\n",
      "  0.0000e+00 1.8432e-03]\n",
      " [1.3000e+01 6.0000e+00 1.2000e+01 3.6000e-01 0.0000e+00 0.0000e+00\n",
      "  0.0000e+00 8.6400e-01]\n",
      " [1.4000e+01 7.0000e+00 1.0000e+00 1.1400e+00 0.0000e+00 0.0000e+00\n",
      "  0.0000e+00 2.7360e+00]\n",
      " [1.5000e+01 7.0000e+00 8.0000e+00 4.8000e-01 0.0000e+00 0.0000e+00\n",
      "  0.0000e+00 1.8432e-03]\n",
      " [1.6000e+01 7.0000e+00 1.3000e+01 3.9000e-01 0.0000e+00 0.0000e+00\n",
      "  0.0000e+00 9.3600e-01]\n",
      " [1.7000e+01 8.0000e+00 2.0000e+00 1.1300e+00 0.0000e+00 0.0000e+00\n",
      "  0.0000e+00 2.7120e+00]\n",
      " [1.8000e+01 8.0000e+00 9.0000e+00 5.8000e-01 0.0000e+00 0.0000e+00\n",
      "  0.0000e+00 2.2272e-03]\n",
      " [1.9000e+01 8.0000e+00 1.4000e+01 3.8000e-01 0.0000e+00 0.0000e+00\n",
      "  0.0000e+00 9.1200e-01]\n",
      " [2.0000e+01 9.0000e+00 3.0000e+00 1.0500e+00 0.0000e+00 0.0000e+00\n",
      "  0.0000e+00 2.5200e+00]\n",
      " [2.1000e+01 9.0000e+00 1.0000e+01 4.3000e-01 0.0000e+00 0.0000e+00\n",
      "  0.0000e+00 1.6512e-03]\n",
      " [2.2000e+01 9.0000e+00 1.5000e+01 4.8000e-01 0.0000e+00 0.0000e+00\n",
      "  0.0000e+00 1.1520e+00]\n",
      " [2.3000e+01 1.0000e+01 4.0000e+00 1.0400e+00 0.0000e+00 0.0000e+00\n",
      "  0.0000e+00 2.4960e+00]\n",
      " [2.4000e+01 1.0000e+01 1.1000e+01 7.7000e-01 0.0000e+00 0.0000e+00\n",
      "  0.0000e+00 2.9568e-03]\n",
      " [2.5000e+01 1.0000e+01 1.6000e+01 5.0000e-01 0.0000e+00 0.0000e+00\n",
      "  0.0000e+00 1.2000e+00]\n",
      " [2.6000e+01 1.1000e+01 5.0000e+00 1.0900e+00 0.0000e+00 0.0000e+00\n",
      "  0.0000e+00 2.6160e+00]\n",
      " [2.7000e+01 1.1000e+01 1.7000e+01 4.7000e-01 0.0000e+00 0.0000e+00\n",
      "  0.0000e+00 1.1280e+00]\n",
      " [2.8000e+01 1.2000e+01 6.0000e+00 3.6000e-01 0.0000e+00 0.0000e+00\n",
      "  0.0000e+00 8.6400e-01]\n",
      " [2.9000e+01 1.2000e+01 1.3000e+01 1.3800e+00 0.0000e+00 0.0000e+00\n",
      "  0.0000e+00 3.3120e+00]\n",
      " [3.0000e+01 1.3000e+01 7.0000e+00 3.9000e-01 0.0000e+00 0.0000e+00\n",
      "  0.0000e+00 9.3600e-01]\n",
      " [3.1000e+01 1.3000e+01 1.4000e+01 1.3800e+00 0.0000e+00 0.0000e+00\n",
      "  0.0000e+00 3.3120e+00]\n",
      " [3.2000e+01 1.4000e+01 8.0000e+00 3.8000e-01 0.0000e+00 0.0000e+00\n",
      "  0.0000e+00 9.1200e-01]\n",
      " [3.3000e+01 1.4000e+01 1.5000e+01 1.6800e+00 0.0000e+00 0.0000e+00\n",
      "  0.0000e+00 4.0320e+00]\n",
      " [3.4000e+01 1.5000e+01 9.0000e+00 4.8000e-01 0.0000e+00 0.0000e+00\n",
      "  0.0000e+00 1.1520e+00]\n",
      " [3.5000e+01 1.5000e+01 1.6000e+01 1.2500e+00 0.0000e+00 0.0000e+00\n",
      "  0.0000e+00 3.0000e+00]\n",
      " [3.6000e+01 1.6000e+01 1.0000e+01 5.0000e-01 0.0000e+00 0.0000e+00\n",
      "  0.0000e+00 1.2000e+00]\n",
      " [3.7000e+01 1.6000e+01 1.7000e+01 2.2200e+00 0.0000e+00 0.0000e+00\n",
      "  0.0000e+00 5.3280e+00]\n",
      " [3.8000e+01 1.7000e+01 1.1000e+01 4.7000e-01 0.0000e+00 0.0000e+00\n",
      "  0.0000e+00 1.1280e+00]\n",
      " [3.9000e+01 1.1000e+01 1.9000e+01 2.2000e-01 0.0000e+00 0.0000e+00\n",
      "  0.0000e+00 8.4480e-04]\n",
      " [4.0000e+01 1.8000e+01 6.0000e+00 2.9000e-01 0.0000e+00 0.0000e+00\n",
      "  0.0000e+00 1.1136e-03]]\n",
      "{193201583558: (<__main__.path object at 0x111bb40b8>, 0), 325039770805430: (<__main__.path object at 0x111bcbbe0>, 1), 324504196556880: (<__main__.path object at 0x111bcbc50>, 2), 545491554577279201: (<__main__.path object at 0x111bcbcc0>, 3)}\n"
     ]
    }
   ],
   "source": [
    "print(graph)\n",
    "print(paths_used)"
   ]
  },
  {
   "cell_type": "markdown",
   "metadata": {},
   "source": [
    "### The following is old"
   ]
  },
  {
   "cell_type": "code",
   "execution_count": 95,
   "metadata": {},
   "outputs": [
    {
     "name": "stdout",
     "output_type": "stream",
     "text": [
      "1.7976931348623157e+308\n"
     ]
    }
   ],
   "source": [
    "max_float = sys.float_info.max\n",
    "print(max_float)"
   ]
  },
  {
   "cell_type": "code",
   "execution_count": 5,
   "metadata": {},
   "outputs": [],
   "source": [
    "# graph_dict gives the line of the graph matrix corresponding to the destination d and the origin o\n",
    "graph_dict = {}\n",
    "for i in range(graph.shape[0]):\n",
    "    try: \n",
    "        graph_dict[int(graph[i][1])]\n",
    "    except:\n",
    "        graph_dict[int(graph[i][1])] = {}\n",
    "    graph_dict[int(graph[i][1])][int(graph[i][2])] = int(graph[i][0])\n",
    "    \n",
    "# print(graph_dict)\n",
    "# Here we remove graph_dict\n",
    "del graph_dict"
   ]
  }
 ],
 "metadata": {
  "kernelspec": {
   "display_name": "Python 3",
   "language": "python",
   "name": "python3"
  },
  "language_info": {
   "codemirror_mode": {
    "name": "ipython",
    "version": 3
   },
   "file_extension": ".py",
   "mimetype": "text/x-python",
   "name": "python",
   "nbconvert_exporter": "python",
   "pygments_lexer": "ipython3",
   "version": "3.6.6"
  }
 },
 "nbformat": 4,
 "nbformat_minor": 2
}
