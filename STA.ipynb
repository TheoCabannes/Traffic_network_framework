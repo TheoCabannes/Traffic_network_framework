{
 "cells": [
  {
   "cell_type": "markdown",
   "metadata": {},
   "source": [
    "To Do:\n",
    "- Gradient Projection (GP)\n",
    "- GP with Alg B Trick (mostly complete but debugging and testing still need to be done)"
   ]
  },
  {
   "cell_type": "markdown",
   "metadata": {},
   "source": [
    "# Static traffic assignment iPython code\n",
    "\n",
    "***\n",
    "We want to solve the following problem (TAP):\n",
    "\\begin{align}\n",
    "\\min_{\\textbf{h}} &\\sum_{a} \\int_{0}^{f_a} t_a(s)\\; \\text{d}s\n",
    "\\\\\n",
    "\\text{s.t.  } & \\;\\; \\textbf{f} = \\Delta \\textbf{h}\n",
    "\\\\\n",
    "& \\;\\; \n",
    "\\textbf{h} \\geq 0\n",
    "\\\\\n",
    "& \\;\\; \n",
    "A \\textbf{h} = \\textbf{d}\n",
    "\\end{align}\n",
    "\n",
    "The static traffic assigment problem (STA) states the Wardrop conditions as the equivalent optimization problem above. \n",
    "\n",
    "The Wardrop conditions are as follows [[Patriksson](#references)]:\n",
    "- Wardrop's first principle: all journey times are equal, and is less than the time experienced by a single vehicle on any other unused route.\n",
    "- Wardrop's second principle: the average journey time is a minimum.\n",
    "\n",
    "Notation:\n",
    "- For $\\left( p,q \\right) \\in C$ (an origin-destination pair) and route $r \\in R_{pq}$ (the set of simple routes from $p$ to $q$), $c_{pqr}$ is the travel time.\n",
    "- $h_{pqr}$ is the flow on the $r$ from $p$ to $q$.\n",
    "- $\\pi_{pq}$ is the shortest travel time from $p$ to $q$.\n",
    "- $d_{pq}$ is the demand for the OD pair $(p,q)$.\n",
    "\n",
    "The Wardrop User equilibrium conditions occurs if and only if the following is true for $l$ routes on $(p,q)$:\n",
    "\n",
    "$$ c_{pq1} = ... = c_{pql} $$\n",
    "\n",
    "This condition can be equilavently stated as\n",
    "\n",
    "$$ h_{pqr} > 0 \\implies c_{pqr} = \\pi_{pq}, \\forall r \\in R_{pq} $$\n",
    "$$ h_{pqr} = 0 \\implies c_{pqr} \\geq \\pi_{pq}, \\forall r \\in R_{pq} $$\n",
    "\n",
    ", which holds for all $(p,q) \\in C$. The idea is that for all routes with flow, the travel time is optimal, and that for all paths with not flow the travel time is greater then or equal to optimal. This condition can be restated as the following alongside certain feasibility conditions:\n",
    "\n",
    "$$ h_{pqr}(c_{pqr} - \\pi_{pq}) = 0, \\ \\forall r \\in R_{pq}, \\ \\forall (p,q) \\in C $$\n",
    "\n",
    "$$ c_{pqr} - \\pi_{pq} \\geq 0, \\ \\forall r \\in R_{pq}, \\ \\forall (p,q) \\in C $$\n",
    "\n",
    "$$ \\sum_{r \\in R_{pq}} h_{pqr} = d_{pq}, \\ \\forall (p,q) \\in C $$\n",
    "\n",
    "$$ h_{pqr} \\geq 0, \\ \\forall r \\in R_{pq}, \\ \\forall (p,q) \\in C $$\n",
    "\n",
    "$$ \\pi_{pq} \\geq 0, \\ \\forall (p,q) \\in C $$\n",
    "\n",
    "Theorem 2.1 [[Patriksson](#references)] states that the Wardrop conditions are equivalent to the first order condition of the TAP problem listed above. The intuition behind the idea follows from taking the Lagrangian of the optimization problem using multipliers $\\boldsymbol{\\lambda}$ from the third constraint:\n",
    "\n",
    "$$ L(\\textbf{h},\\boldsymbol{\\lambda}) = T(\\textbf{f}(\\textbf{h})) + \\sum_{(p,q) \\in C} \\lambda_{pq}(d_{pq} - \\sum_{r \\in R_{pq}} h_{pqr}) $$\n",
    "\n",
    "The remaining proof uses the stationary of the Lagrangian and fact that the partial derivative of $T$ with respect to the flow along a certain route ($h_{pqr}$) is the travel time $c_{pqr}$ to rederive the Wardrop conditions. We can also interpret the multiplier $\\boldsymbol{\\lambda}$ as the minimum route cost between $p$ and $q$, so $\\boldsymbol{\\lambda}$ is $\\boldsymbol{\\pi}$."
   ]
  },
  {
   "cell_type": "markdown",
   "metadata": {},
   "source": [
    "### Variational Inequality Interpretation of Static Traffic Assignment [[Smith](#references)]\n",
    "\n",
    "Let $\\alpha$ denote the id of a link.\n",
    "\n",
    "Let $f_{\\alpha}$ denote flow on link $\\alpha$.\n",
    "\n",
    "Let $\\delta_{r\\alpha}$ be such that\n",
    "\n",
    "$$ \\delta_{r\\alpha} = \n",
    "\\left\\{\n",
    "\\begin{array}{ll}\n",
    "      0 & r \\ contains \\ link \\ \\alpha \\\\\n",
    "      1 & otherwise\n",
    "\\end{array} \n",
    "\\right. \n",
    "$$\n",
    "\n",
    "Let $K$ denote the set of feasible flows $h$ such that the following conditions are satisfied:\n",
    "\n",
    "$$ \\sum_{r \\in R_{pq}} h_{pqr} = d_{pq}, \\ \\forall (p,q) \\in C $$\n",
    "\n",
    "$$ \\sum_{r \\in R_{pq}} h_{pqr}\\delta_{r\\alpha} \\ = \\ f_{\\alpha}, \\ \\forall (p,q) \\in C, \\alpha $$\n",
    "\n",
    "#### Theorem\n",
    "\n",
    "A vector $h^* \\in K$ is an equilibrium patter if and only if it satisfies the following varitional inequality problem:\n",
    "\n",
    "$$c(h^{ * })^{T}(h - h^{ * }) \\geq 0, \\forall h \\in K $$\n",
    "\n",
    "#### Proof\n",
    "\n",
    "Let $c_{r}(\\textbf{h})$ be the cost (ie travel time) of using route $r$ for flow vector $\\textbf{h}$. Wardrop equilibrium says that for some route $r$, $s$, if $c_{r}(\\textbf{h}) \\geq c_{s}(\\textbf{h})$ then the flow for route $r$, $h_r$, is 0:\n",
    "\n",
    "$$c_{r}(\\textbf{h}) \\geq c_{s}(\\textbf{h}) \\implies h_r = 0$$\n",
    "\n",
    "This implies that only the cheapest routes are used. Denote this with $\\textbf{h}^*$.\n",
    "\n",
    "We will define total cost of flow $\\textbf{h}$ as\n",
    "$$ c(\\textbf{h})^{T}\\textbf{h} $$\n",
    "\n",
    "As the total cost is at least as great as that with $\\textbf{h}^*$, the following is true:\n",
    "$$ c(\\textbf{h}^{*})^{T}\\textbf{h} \\geq c(\\textbf{h}^{*})^{T}\\textbf{h}^{*}, \\ \\forall h \\in K \\ \\ (1)$$\n",
    "\n",
    "Hence the Wardop Equilibria imply (1).\n",
    "\n",
    "Now if the Wardop Equilibria were not satisfied then it must be the case the for some route $r$ the following is true:\n",
    "$$c_{r}(\\textbf{h}) > c_{s}(\\textbf{h}) \\ \\text{and} \\ h_r = 0$$\n",
    "\n",
    "If we move flow from route $r$ to $s$, which has a cheaper route flow $\\textbf{h}^{'}$, then we would reduce the total cost by $c(\\textbf{h})^{T}\\textbf{h}^{'} - c(\\textbf{h})^{T}\\textbf{h} > 0$, which does not satisfy the Wardrop conditons.\n",
    "\n",
    "As it has been shown that the Wardrop conditions imply (1) and (by contrapostion) (1) implies the Wardrop conditions, they are equivalent. Hence,\n",
    "\n",
    "$$ \\text{Wardrop conditions} \\ \\equiv c(\\textbf{h}^{*})^{T}(\\textbf{h} - \\textbf{h}^{*}) >= 0, \\forall h \\in K $$"
   ]
  },
  {
   "cell_type": "markdown",
   "metadata": {},
   "source": [
    "## 0. Import some libraries useful for the project\n",
    "***"
   ]
  },
  {
   "cell_type": "code",
   "execution_count": 4,
   "metadata": {},
   "outputs": [],
   "source": [
    "# %run -i 'network.py'"
   ]
  },
  {
   "cell_type": "code",
   "execution_count": 5,
   "metadata": {},
   "outputs": [],
   "source": [
    "import numpy as np\n",
    "import pandas as pd\n",
    "from scipy import sparse\n",
    "import scipy\n",
    "import matplotlib.pyplot as plt"
   ]
  },
  {
   "cell_type": "markdown",
   "metadata": {},
   "source": [
    "## 1. Import the road network and its characteristics <a id=\"graph\"></a>\n",
    "***\n",
    "The road network is composed by:\n",
    "- $G=(E,V)$ a **strongly connected oriented graph** with vertices $v\\in V$ and edges $e\\in E$\n",
    "- $t_{0,e}\\in\\mathbb{R}_+$ the **free flow travel time** of the edge $e$, $\\forall e\\in E$\n",
    "- $c_{e}\\in\\mathbb{R}_+$ the **flow capacity** of the edge $e$, $\\forall e\\in E$\n",
    "- $B_e\\in\\mathbb{R}_+$ and $p_e\\in\\mathbb{N}_+$ two characteristics of the edge $e$ useful for estimating the travel time of vehicle on the edge $e$ given the flow of the edge $e$, $\\forall e\\in E$\n",
    "\n",
    "Data are provided from https://github.com/bstabler/TransportationNetworks.\n",
    "They are is the folder `data/`.\n",
    "\n",
    "The road network and its characteristics are read in the file `network.py` with the function:\n",
    "- `init_travel_time_function(network) : graph_wrapped`: takes as parameter a string which represent the path to the data file TNTP `network` and return in `graph_wrapped` the table that can be used to compute the travel time of every links, and the index of the free flow travel time, of the B, of the capacity and of the power columns.\n",
    "_TO DO: Better explain this_"
   ]
  },
  {
   "cell_type": "code",
   "execution_count": 6,
   "metadata": {},
   "outputs": [],
   "source": [
    "from network import init_travel_time_function"
   ]
  },
  {
   "cell_type": "markdown",
   "metadata": {},
   "source": [
    "## 2. Import the road demand <a id=\"demand\"></a>\n",
    "***\n",
    "The road demand is a matrix $r \\in \\mathbb{R}_+^{|V| \\times |V|}$ where:\n",
    "- $r_{o,d}$ is the demand between the origin $o\\in V$ and the destination $d\\in V$.\n",
    "\n",
    "Remark that for most of the vertices $u,v\\in V$, $r_{u,v}=0$ so the demand matrix is very sparse.\n",
    "\n",
    "The road demand are read in the file `network.py` with the function:\n",
    "- `read_demand(file): demand`: takes as parameter a string which represent the path to the data file TNTP `network` and return in `demand` a dictionary of keys based sparse matrix representing the demand $r$."
   ]
  },
  {
   "cell_type": "code",
   "execution_count": 7,
   "metadata": {},
   "outputs": [],
   "source": [
    "from network import read_demand"
   ]
  },
  {
   "cell_type": "markdown",
   "metadata": {},
   "source": [
    "## 3. Define the link travel time as a function of the link flow <a id=\"travel_time\"></a>\n",
    "***\n",
    "The travel time of every link $e\\in E$ is given as a function of the flow on the link $f_e\\in\\mathbb{R}_+$ and of [the characteristics of the edge](#graph):\n",
    "$$ t_e(f_e) = t_{0,e} \\cdot \\left( 1 + B_e \\cdot \\left(\\frac{f_e}{c_e}\\right)^{p_e} \\right) $$\n",
    "This is the classical BPR function as defined in [[Patriksson](#references)]. \n",
    "\n",
    "The function `travel_time(flow, graph_wrapped): travel_time` computes it: it gives the travel time vector for every link given the [graph_wrapped](#graph) and the vector of link flow.\n",
    "\n",
    "A test is provided at the [end of the notebook](#tests)."
   ]
  },
  {
   "cell_type": "code",
   "execution_count": 8,
   "metadata": {},
   "outputs": [],
   "source": [
    "def travel_time(flow, graph_wrapped):\n",
    "    \"\"\"\n",
    "    Parameter: \n",
    "        flow: a vector that represents the flow of every links\n",
    "        graph_wrapped: should be = (table_net, index_fft, index_B, index_capacity, index_power, index_init, index_term)\n",
    "    Return:\n",
    "        A travel time vector for every links given the flow allocation flow.\n",
    "        \n",
    "        The travel time of a link (one row of the table) is t(f) = t0 * (1 + B*(f/capacity)**power)\n",
    "    \"\"\"\n",
    "    table_net, index_fft, index_B, index_capacity, index_power, index_init, index_term = graph_wrapped\n",
    "    return table_net[:,index_fft] * (1 + table_net[:,index_B]*(flow/table_net[:,index_capacity])**table_net[:,index_power])"
   ]
  },
  {
   "cell_type": "markdown",
   "metadata": {},
   "source": [
    "We will also define the partial derivative of travel time with respect to link flow, to make use of in the gradient projection algorithm:\n",
    "\n",
    "$$ \\frac{\\partial t}{\\partial f} = t_{0,e} \\cdot \\left( 1 + B_e \\cdot p_e \\cdot \\left(\\frac{f_e}{c_e}\\right)^{p_e - 1} \\right) $$"
   ]
  },
  {
   "cell_type": "code",
   "execution_count": 9,
   "metadata": {},
   "outputs": [],
   "source": [
    "def dt_df(flow, graph_wrapped):\n",
    "    \"\"\"\n",
    "    Parameter: \n",
    "        flow: a vector that represents the flow of every links\n",
    "        graph_wrapped: should be = (table_net, index_fft, index_B, index_capacity, index_power, index_init, index_term)\n",
    "    Return:\n",
    "        Derivative of travel time vector with respect to flow.\n",
    "    \"\"\"\n",
    "    table_net, index_fft, index_B, index_capacity, index_power, index_init, index_term = graph_wrapped\n",
    "    return table_net[:,index_fft] * (1 + table_net[:,index_B]*table_net[:,index_power]*(flow/table_net[:,index_capacity])**(table_net[:,index_power] - 1))"
   ]
  },
  {
   "cell_type": "markdown",
   "metadata": {},
   "source": [
    "## 4. Import an encoding of the graph<a id=\"demand\"></a>\n",
    "***\n",
    "The graph encoding is a matrix $r \\in \\mathbb{R}_+^{|V| \\times |V|}$ where:\n",
    "- $r_{o,d}$ is the ID of the link between the origin $o\\in V$ and the destination $d\\in V$.\n",
    "\n",
    "The encoding of the graph is read in the file `network.py` with the function:\n",
    "- `get_graph(graph_wrapped): graph`: takes as parameter a list the characterization of edges in the network and returns a dictionary that encodes link ID by origin-destination pairs."
   ]
  },
  {
   "cell_type": "code",
   "execution_count": 10,
   "metadata": {},
   "outputs": [],
   "source": [
    "from network import get_graph"
   ]
  },
  {
   "cell_type": "markdown",
   "metadata": {},
   "source": [
    "## 5. Initialize Network <a id=\"assignment\"></a>\n",
    "***\n",
    "Initialize the network by running the previously defined functions to generate the necessary data needed.\n",
    "\n",
    "- `initialization(network) : graph_wrapped, demand, graph, nb_links`: TO DO"
   ]
  },
  {
   "cell_type": "code",
   "execution_count": 11,
   "metadata": {},
   "outputs": [],
   "source": [
    "def initialization(network):\n",
    "    \"\"\"\n",
    "    Parameter:\n",
    "        network: the file name of the data \n",
    "    Return:\n",
    "        graph_wrapped, demand, graph, nb_links using previously defined functions\n",
    "    \"\"\"\n",
    "    graph_wrapped = init_travel_time_function(network)\n",
    "    demand = read_demand(network)\n",
    "    graph = get_graph(graph_wrapped)\n",
    "\n",
    "    table_net, _, _, _, _, _, _ = graph_wrapped\n",
    "    nb_links = table_net.shape[0]\n",
    "    return graph_wrapped, demand, graph, nb_links\n",
    "\n",
    "# we have the demand in the sparse matrix demand, and the travel_time function in travel_time\n",
    "# we have the graph of the network in graph\n"
   ]
  },
  {
   "cell_type": "markdown",
   "metadata": {},
   "source": [
    "## 6. Algorithm B"
   ]
  },
  {
   "cell_type": "code",
   "execution_count": 12,
   "metadata": {},
   "outputs": [],
   "source": [
    "from network import neighbours, add_flow_dijkstra, all_or_nothing, potential, line_search, flow_cost_solution"
   ]
  },
  {
   "cell_type": "code",
   "execution_count": 13,
   "metadata": {},
   "outputs": [],
   "source": [
    "def shortest_path_dijkstra(g, random=False):\n",
    "    prevs = []\n",
    "    seen = []\n",
    "    if random:\n",
    "        g_temp = np.zeros((len(g),len(g)))\n",
    "        for i in range(len(g)):\n",
    "            for j in range(len(g)):\n",
    "                if g[i][j] != 0:\n",
    "                    g_temp[i][j] = np.random.uniform(0,1)\n",
    "        g = g_temp\n",
    "    for src in range(len(g)):\n",
    "        q = [i for i in range(len(g))] # queue of nodes\n",
    "        dist = [np.inf for i in range(len(g))] # node distances\n",
    "        prev = [None for i in range(len(g))] # predecessor in shortest path\n",
    "\n",
    "        dist[src] = 0 # set source node's distance to itself as zero\n",
    "\n",
    "        while len(q) != 0:\n",
    "            u = min(q, key=lambda n:dist[n])\n",
    "            q.remove(u)\n",
    "            seen.append(u)\n",
    "            \n",
    "            for v in np.nonzero(g[u])[0]:\n",
    "                alt = dist[u] + g[u][v]\n",
    "                if alt < dist[v]:\n",
    "                    dist[v] = alt\n",
    "                    prev[v] = u\n",
    "        prevs.append(prev)\n",
    "    return prevs"
   ]
  },
  {
   "cell_type": "code",
   "execution_count": 14,
   "metadata": {},
   "outputs": [],
   "source": [
    "def adjlist_find_paths(a, n, m, path=[]):\n",
    "    \"Find paths from node index n to m using adjacency list a.\"\n",
    "    path = path + [n]\n",
    "    if n == m:\n",
    "        return [path]\n",
    "    paths = []\n",
    "    \n",
    "    for child in a[n]:\n",
    "        if child not in path:\n",
    "            child_paths = adjlist_find_paths(a, child, m, path)\n",
    "            for child_path in child_paths:\n",
    "                paths.append(child_path)\n",
    "    return paths\n",
    "\n",
    "# here plot len(paths) to have an idea of the number of path"
   ]
  },
  {
   "cell_type": "code",
   "execution_count": 15,
   "metadata": {},
   "outputs": [],
   "source": [
    "def path_to_vector(path, graph, nb_links):\n",
    "    v = np.zeros(nb_links)\n",
    "    for i in range(1, len(path)):\n",
    "        link_id = graph[path[i-1]][path[i]]\n",
    "        v[link_id] = 1\n",
    "    return v"
   ]
  },
  {
   "cell_type": "code",
   "execution_count": 16,
   "metadata": {},
   "outputs": [],
   "source": [
    "def create_demand_paths(network):\n",
    "    network = 'data/SiouxFalls/SiouxFalls'\n",
    "    graph_wrapped, demand, graph, nb_links = initialization(network)\n",
    "    adj = {}\n",
    "    # Creating adj - dictionary where at key i there is a list of nodes accessible from i\n",
    "    for i in graph.keys():\n",
    "        adj[i] = []\n",
    "    for i in graph.keys():\n",
    "        for j in graph.keys():\n",
    "            if j in graph[i].keys():\n",
    "                adj[i].append(j)\n",
    "    net_demand = {} # Network demand - at key (o,d) contains value for demand\n",
    "    graph_paths = {} # Contains all paths from o to d (at key (o,d))\n",
    "    for i in graph.keys():\n",
    "        for j in graph.keys():\n",
    "            if i != j:\n",
    "                net_demand[(i,j)] = demand[i-1,j-1]\n",
    "    for (o,d) in net_demand.keys():\n",
    "        vs = []\n",
    "        for path in adjlist_find_paths(adj, o, d):\n",
    "            vs.append(path_to_vector(path, graph, nb_links))\n",
    "        graph_paths[(o,d)] = sparse.csc_matrix(np.array(vs))\n",
    "    return net_demand, graph_paths\n",
    "def load_demand_paths(network):\n",
    "    name = str(network.split(\"/\")[2])\n",
    "    try:\n",
    "        print(\"Looking for demand and path data...\")\n",
    "        net_demand, graph_paths = np.load(\"data/\"+name+\"/net_demand.npy\"),np.load(\"data/\"+name+\"/graph_paths.npy\")\n",
    "    except:\n",
    "        print(\"Could not find so generating data...\")\n",
    "        net_demand, graph_paths = create_demand_paths(network)\n",
    "        print(net_demand)\n",
    "        np.save(\"data/\"+name+\"/net_demand.npy\", net_demand)\n",
    "        np.save(\"data/\"+name+\"/graph_paths.npy\", graph_paths)\n",
    "    return dict(np.ndenumerate(net_demand))[()], dict(np.ndenumerate(graph_paths))[()]"
   ]
  },
  {
   "cell_type": "code",
   "execution_count": 17,
   "metadata": {},
   "outputs": [
    {
     "name": "stdout",
     "output_type": "stream",
     "text": [
      "Looking for demand and path data...\n"
     ]
    }
   ],
   "source": [
    "n, g = load_demand_paths('data/SiouxFalls/SiouxFalls')"
   ]
  },
  {
   "cell_type": "code",
   "execution_count": 18,
   "metadata": {},
   "outputs": [],
   "source": [
    "def flow_vector(graph_paths, od_path, net_demand, nb_links):\n",
    "    flow = np.zeros(nb_links)\n",
    "    for (o,d) in od_path.keys():\n",
    "        flow += (graph_paths[(o,d)].T@(od_path[(o,d)]))\n",
    "    return flow\n"
   ]
  },
  {
   "cell_type": "code",
   "execution_count": 19,
   "metadata": {},
   "outputs": [],
   "source": [
    "def path_time(path, tt, graph):\n",
    "    # Travel time on a path\n",
    "    return path@tt\n",
    "\n",
    "# add a function to compute all path costs for a specific od\n",
    "def paths_cost(tt, graph_paths):\n",
    "    paths_costs = {}\n",
    "    for (o,d) in graph_paths.keys():\n",
    "        paths_costs[(o,d)] = graph_paths[(o,d)] * tt\n",
    "    return paths_costs\n"
   ]
  },
  {
   "cell_type": "code",
   "execution_count": 20,
   "metadata": {},
   "outputs": [],
   "source": [
    "# right now we do not care, we stop after a given number of iterations\n",
    "def stopping_cond(od_path, tt, graph, epsilon = 1):\n",
    "    tts = []\n",
    "    for (o,d) in od_path:\n",
    "        paths = od_path[(o,d)]\n",
    "        for [path, perc] in paths:\n",
    "            tts.append(path_time(path, tt, graph))\n",
    "    if np.std(tts) <= epsilon:\n",
    "        return True\n",
    "    return False"
   ]
  },
  {
   "cell_type": "code",
   "execution_count": 21,
   "metadata": {},
   "outputs": [],
   "source": [
    "import copy"
   ]
  },
  {
   "cell_type": "code",
   "execution_count": 22,
   "metadata": {},
   "outputs": [],
   "source": [
    "def move_flow_1_to_2(alpha, index_1, index_2, od_path, graph_paths, tt_func, o, d, f, search=True):\n",
    "    amount_to_move = alpha*od_path[(o,d)][index_1]\n",
    "    if not search:\n",
    "        od_path[(o,d)][index_1] = od_path[(o,d)][index_1] - amount_to_move\n",
    "        od_path[(o,d)][index_2] = od_path[(o,d)][index_2] + amount_to_move\n",
    "    f = f + (np.array([1 if k > 0 else 0 for k in graph_paths[(o,d)].toarray()[index_2]]) - np.array([1 if k > 0 else 0 for k in graph_paths[(o,d)].toarray()[index_1]]))*amount_to_move\n",
    "    tt = tt_func(f)\n",
    "    diff = graph_paths[(o,d)][index_1]-graph_paths[(o,d)][index_2]\n",
    "    return abs((diff*tt)[0]), f"
   ]
  },
  {
   "cell_type": "code",
   "execution_count": 23,
   "metadata": {
    "scrolled": false
   },
   "outputs": [],
   "source": [
    "def alg_b(network, should_print=True):\n",
    "    graph_wrapped, demand, graph, nb_links = initialization(network)\n",
    "    net_demand, graph_paths = load_demand_paths(network)\n",
    "    od_path = {} # At key (o,d), contains path where flow is assigned and the percentage of demand assigned to said path\n",
    "    tt = travel_time(np.zeros(nb_links), graph_wrapped)\n",
    "\n",
    "    path_od_tt = paths_cost(tt, graph_paths)\n",
    "    for (o,d) in net_demand.keys():\n",
    "        od_path[(o,d)] = np.zeros(len(graph_paths[(o,d)].toarray()))\n",
    "    for (o,d) in net_demand.keys():\n",
    "        path_tts = path_od_tt[(o,d)]\n",
    "        min_path = np.argmin(path_tts)\n",
    "        od_path[(o,d)][min_path] = net_demand[(o,d)]\n",
    "\n",
    "    f = flow_vector(graph_paths, od_path, net_demand, nb_links)\n",
    "    tt_func = lambda f: travel_time(f, graph_wrapped)\n",
    "    tt = tt_func(f)\n",
    "    fs = []\n",
    "    k = 0\n",
    "    flow, cost = flow_cost_solution(network)\n",
    "    line_search_time = []\n",
    "    tt_iter = []\n",
    "    while k < 20:\n",
    "        j = 0\n",
    "        for (o,d) in net_demand.keys():\n",
    "            #print(o,d, end = \", \")\n",
    "            paths = graph_paths[(o,d)]\n",
    "            v = np.array([1 if k != 0 else 0 for k in od_path[(o,d)]])\n",
    "            pos_flow = np.zeros((len(paths.toarray()), nb_links))\n",
    "            for i in range(len(paths.toarray())):\n",
    "                if v[i] == 1:\n",
    "                    pos_flow[i] = paths.toarray()[i]\n",
    "            pos_flow_tts = pos_flow@tt\n",
    "            path_tts = paths_cost(tt, graph_paths)[(o,d)]\n",
    "            min_path = np.argmin(path_tts)\n",
    "            max_path = np.argmax(pos_flow_tts)\n",
    "            alpha = line_search(lambda a: move_flow_1_to_2(a, max_path, min_path, od_path, graph_paths, tt_func, o, d, copy.deepcopy(f))[0])\n",
    "            f = move_flow_1_to_2(alpha, max_path, min_path, od_path, graph_paths, tt_func, o, d, f, search=False)[1]\n",
    "            tt = tt_func(f)\n",
    "        if should_print:\n",
    "            print(\"f loss: \", str(np.linalg.norm(f-flow)/np.linalg.norm(flow)))\n",
    "        \n",
    "        k+=1\n",
    "        tt = travel_time(f, graph_wrapped)\n",
    "        faon = all_or_nothing(demand, tt, graph)\n",
    "        tt_iter.append(np.dot(tt,(f - faon)))\n",
    "        fs.append(f)\n",
    "    norm_flow_loss = [np.linalg.norm(f-flow,2)/np.linalg.norm(flow,2) for f in fs[1:]]\n",
    "    potential_loss = [potential(fs[i], graph_wrapped)-potential(fs[i+1], graph_wrapped) for i in range(1,len(fs)-1)]\n",
    "    return norm_flow_loss, potential_loss, tt_iter[:]\n"
   ]
  },
  {
   "cell_type": "markdown",
   "metadata": {},
   "source": [
    "## 6. Assignment <a id=\"assignment\"></a>\n",
    "***\n",
    "Descent Algorithm: Frank-Wolfe\n",
    "\n",
    "The following linearly constrained optimization problem\n",
    "\n",
    "$$ \\min_{x} f(x) $$\n",
    "\n",
    "$$ \\text{s.t} \\ Ax = b, x \\geq 0 $$\n",
    "\n",
    "can be solved by the Frank Wolfe algorithm by iteratively solving the following optimization problem:\n",
    "\n",
    "$$ \\min_{y} \\nabla f(x^k)^Ty $$\n",
    "\n",
    "$$ \\text{s.t} \\ Ay = b, y \\geq 0 $$\n",
    "\n",
    "The algorithm tries to solve the problem iteratively, where on the kth iteration it uses a feasible solution $x^k$ to find the search direction $y$. The intuition for this comes from finding the solution of the first order approximation of the objective function rather than the solution to the objective itself:\n",
    "\n",
    "$$ \\min_{y} f(x^k) + \\nabla f(x^k)^T(y-x^k) $$\n",
    "\n",
    "Since we only care about finding the optimal $y$ for the problem we can ignore constants, so the problem is equivalent to\n",
    "\n",
    "$$ \\min_{y} \\nabla f(x^k)^Ty $$\n",
    "\n",
    "Once we've found this $y$, we do a line search in the direction $d = y - x^k$ to find the step size $\\alpha_k$:\n",
    "\n",
    "$$ \\min_{0 \\leq \\alpha_k \\leq 1} f(x^k + \\alpha_{k}d) $$\n",
    "\n",
    "***\n",
    "\n",
    "In the case of the traffic assignment problem, the solution to the iterative optimization step $y$ is the all or nothing allocation of flow (named as all flow is placed all on a certain path and not others). This comes from the fact that as we are optimizing over linear constraints the solution is at a single vertex on the polytope that represents the feasible space, which represents the allocation of flow based on the shortest paths in solution (which is found using Dijkstra's Algorithm).\n",
    "\n",
    "As with Frank Wolfe's algorithm, we undertaking line search using the potential function and use the bisection method to find the ideal step size. The bisection method is approximate as it relies on a resolution $r$ (at which higher values it is more accurate), though it has complexity $O(log \\ r)$ so it is computationally efficient. Generally, the sequence $f(x^k)$ is monotonically decreasing for Frank Wolfe, though due to this approximation this is not always the case in our implementation. Exceptions to this loop invariance problem are recorded."
   ]
  },
  {
   "cell_type": "code",
   "execution_count": 24,
   "metadata": {},
   "outputs": [],
   "source": [
    "from network import neighbours, add_flow_dijkstra, all_or_nothing, potential, line_search, flow_cost_solution"
   ]
  },
  {
   "cell_type": "code",
   "execution_count": 121,
   "metadata": {},
   "outputs": [
    {
     "name": "stdout",
     "output_type": "stream",
     "text": [
      "<NUMBER OF ZONES> 24\n",
      "<TOTAL OD FLOW> 360600.0\n",
      "<END OF METADATA>\n",
      "Exceptions to loop variance occured in the following iterations: \n",
      "\n",
      "[4, 10, 21, 24, 26, 28, 30, 33, 35, 36, 41, 43, 46, 50, 52, 53, 56, 57, 58, 63, 67]\n",
      "Iterations:  68\n",
      "4434390.915720795\n",
      "4444951.281618943\n",
      "0.009339356199186341\n"
     ]
    }
   ],
   "source": [
    "def franke_wolfe(network, should_print=True, epsilon = 0.01):\n",
    "\n",
    "    # write pseudocode STA\n",
    "\n",
    "    # initialization\n",
    "    graph_wrapped, demand, graph, nb_links = initialization(network)\n",
    "\n",
    "    table_net, _, _, _, _, _, _ = graph_wrapped\n",
    "    nb_links = table_net.shape[0]\n",
    "\n",
    "\n",
    "    f = all_or_nothing(demand, travel_time(np.zeros(nb_links), graph_wrapped), graph)\n",
    "    f_iter = []\n",
    "    tt_iter = []\n",
    "    incr_tt = []\n",
    "    alpha = 1\n",
    "    i = 0\n",
    "    while alpha>epsilon and i<1000:\n",
    "        f_iter.append(f)\n",
    "        tt = travel_time(f, graph_wrapped)\n",
    "        faon = all_or_nothing(demand, tt, graph)\n",
    "        tt_iter.append(np.dot(tt,(f - faon)))\n",
    "        alpha = line_search(lambda a : potential((1. - a) * f + a * faon, graph_wrapped))\n",
    "        f = (1-alpha) * f + alpha * faon\n",
    "        # loop invariant\n",
    "        if i != 0 and tt_iter[i] > tt_iter[i-1]:\n",
    "            incr_tt.append(i)\n",
    "        i = i+1\n",
    "    \n",
    "    flow, cost = flow_cost_solution(network)\n",
    "    \n",
    "    if should_print:\n",
    "        if len(incr_tt) > 0:\n",
    "            print(\"Exceptions to loop variance occured in the following iterations: \\n\")\n",
    "            print(str(incr_tt))\n",
    "        print(\"Iterations: \", i)\n",
    "        print(potential(flow, graph_wrapped))\n",
    "        print(potential(f, graph_wrapped))\n",
    "        print(np.linalg.norm(f-flow)/np.linalg.norm(flow))\n",
    "    \n",
    "    return [np.linalg.norm(f-flow,2)/np.linalg.norm(flow,2) for f in f_iter[1:]], [potential(f_iter[i], graph_wrapped)-potential(f_iter[i+1], graph_wrapped) for i in range(1,len(f_iter)-1)], tt_iter[1:]\n",
    "\n",
    "norm_flow_loss_fw, potential_loss_fw, tt_iter_fw = franke_wolfe('data/SiouxFalls/SiouxFalls')"
   ]
  },
  {
   "cell_type": "markdown",
   "metadata": {},
   "source": [
    "## 6. Fukushima: A Modified Frank Wolfe Algorithm <a id=\"assignment\"></a>\n",
    "***\n",
    "\n",
    "#### Step 0\n",
    "First we initialize a feasbile solution to the objective function minimized by Franke Wolfe, denoted as $x^{1}$:\n",
    "\n",
    "$$ \\min_{x} f(x) $$\n",
    "\n",
    "$$ \\text{s.t} \\ Ax = b, x \\geq 0 $$\n",
    "\n",
    "We also choose an l, a positive integer, and declare k = 1.\n",
    "\n",
    "#### Step 1\n",
    "We then solve the iterative problem in Franke Wolfe:\n",
    "\n",
    "$$ \\min_{y} \\nabla f(x^k)^Ty $$\n",
    "\n",
    "$$ \\text{s.t} \\ Ay = b, y \\geq 0 $$\n",
    "\n",
    "We let $y^k$ be the optimal solution.\n",
    "\n",
    "#### Step 2\n",
    "We terminate the algorithm if the following is true:\n",
    "\n",
    "$$ \\nabla f(x^k)^T(y^k - x^{k}) = 0 $$\n",
    "\n",
    "#### Step 3\n",
    "We choose $\\lambda_{i}, i = k-q, ..., k$, such that\n",
    "\n",
    "$$ \\sum_{i=k-q}^{k} \\lambda_i = 1, \\lambda_i \\geq 0, i = k-q, ..., k$$\n",
    "\n",
    "We also assign the following:\n",
    "\n",
    "$$ v^k = \\sum_{i=k-q}^{k} \\lambda_{i}(y^{i} - x^{k}) = \\sum_{i=k-q}^{k} \\lambda_{i}y^{i} - x^{k} $$, where $ q = min(k,l) - 1$.\n",
    "\n",
    "Also we set the following, \n",
    "\n",
    "$$ w^k = y^k - x^k $$\n",
    "\n",
    "#### Step 4\n",
    "We now compute directional derivatives:\n",
    "\n",
    "$$ \\gamma_{1}^k = \\frac{\\nabla f(x^{k})^{T}v^{k}}{||v^{k}||} $$   ($\\gamma_{1}^k = 0$ if $v^k = 0$)\n",
    "\n",
    "$$ \\gamma_{2}^k = \\frac{\\nabla f(x^{k})^{T}w^{k}}{||w^{k}||} $$\n",
    "\n",
    "$$ d^{k} = \n",
    "\\left\\{\n",
    "\\begin{array}{ll}\n",
    "      v^k & \\gamma_{1}^k < \\gamma_{2}^k  \\\\\n",
    "      u^k & \\gamma_{1}^k = \\gamma_{2}^k \\\\\n",
    "      w^k & \\gamma_{1}^k > \\gamma_{2}^k\n",
    "\\end{array} \n",
    "\\right. \n",
    "$$\n",
    "\n",
    "$u^k$ is defined to be any vector on the line segment between $[v^{k},w^{k}]$.\n",
    "\n",
    "#### Step 5\n",
    "We know do a line search in the direction of $d^k$ to find $\\alpha_k$:\n",
    "$$ \\min_{0 \\leq \\alpha_k \\leq 1} f(x^k + \\alpha_{k}d) $$\n",
    "\n",
    "Then we assign $x^{k+1}$ as\n",
    "$$ x^{k+1} = x^k + \\alpha_kd^k $$\n"
   ]
  },
  {
   "cell_type": "code",
   "execution_count": 122,
   "metadata": {},
   "outputs": [
    {
     "name": "stdout",
     "output_type": "stream",
     "text": [
      "<NUMBER OF ZONES> 24\n",
      "<TOTAL OD FLOW> 360600.0\n",
      "<END OF METADATA>\n",
      "\n",
      "Iterations:  44\n",
      "Alpha:  0.00886777602366884\n",
      "4434390.915720795\n",
      "4442850.621544741\n",
      "0.012672443784807605\n"
     ]
    }
   ],
   "source": [
    "def fukushima(network, should_print=True, epsilon = 0.01):\n",
    "    # initialization\n",
    "    graph_wrapped, demand, graph, nb_links = initialization(network)\n",
    "\n",
    "    table_net, _, _, _, _, _, _ = graph_wrapped\n",
    "    nb_links = table_net.shape[0]\n",
    "\n",
    "    f = all_or_nothing(demand, travel_time(np.zeros(nb_links), graph_wrapped), graph)\n",
    "    f_iter = []\n",
    "    tt_iter = []\n",
    "\n",
    "    f_iter.append(f)\n",
    "\n",
    "    faons = []\n",
    "\n",
    "    alpha = 1.0\n",
    "    k = 1\n",
    "    l = 2\n",
    "    incr_tt = []\n",
    "\n",
    "    while alpha>epsilon and k<1000:\n",
    "        x_k = f_iter[-1]\n",
    "        tt = travel_time(x_k, graph_wrapped)\n",
    "        faon = all_or_nothing(demand, tt, graph) # y_k\n",
    "        faons.append(faon)\n",
    "        y_k = faon\n",
    "        if np.dot(tt,(y_k - x_k)) == 0: # you can try as < epsilon\n",
    "            print(\"Break\")\n",
    "            break\n",
    "\n",
    "        q = min(k, l) - 1\n",
    "\n",
    "        lamb = 1/(q+1)\n",
    "        v_k = np.add.reduce([lamb*(faons[-(q+1):][i]) for i in range(q+1)]) - x_k\n",
    "        w_k = y_k - x_k\n",
    "\n",
    "        gamma1_k = np.dot(v_k/np.linalg.norm(v_k), tt)\n",
    "        gamma2_k = np.dot(w_k/np.linalg.norm(w_k), tt)\n",
    "\n",
    "        if gamma1_k < gamma2_k:\n",
    "            d_k = v_k\n",
    "        elif gamma1_k == gamma2_k:\n",
    "            r = np.random.random()\n",
    "            u_k = (r*v_k+(1-r)*w_k)\n",
    "            d_k = u_k\n",
    "        else:\n",
    "            d_k = w_k\n",
    "        alpha = line_search(lambda a : potential(x_k + a * d_k, graph_wrapped))\n",
    "        f_iter.append(x_k + alpha*d_k)\n",
    "        k = k + 1\n",
    "        tt_iter.append(np.dot(tt,(f_iter[-1] - faon)))\n",
    "    \n",
    "    flow, cost = flow_cost_solution(network)\n",
    "    \n",
    "    if should_print:\n",
    "        print(\"\\nIterations: \", str(k-1))\n",
    "        print(\"Alpha: \", alpha)\n",
    "        print(potential(flow, graph_wrapped))\n",
    "        print(potential(f_iter[k-1], graph_wrapped))\n",
    "        print(np.linalg.norm(f_iter[-1]-flow)/np.linalg.norm(flow))\n",
    "        \n",
    "    return [np.linalg.norm(f-flow,2)/np.linalg.norm(flow,2) for f in f_iter[1:]], [potential(f_iter[i], graph_wrapped)-potential(f_iter[i+1], graph_wrapped) for i in range(1,len(f_iter)-1)], tt_iter[1:]   \n",
    "    \n",
    "norm_flow_loss_fk, potential_loss_fk, tt_iter_fk = fukushima('data/SiouxFalls/SiouxFalls')"
   ]
  },
  {
   "cell_type": "markdown",
   "metadata": {},
   "source": [
    "***\n",
    "### Epsilon Sanity Check"
   ]
  },
  {
   "cell_type": "markdown",
   "metadata": {},
   "source": [
    "We would expect that norm flow loss would decrease as the epsilon hyperparamater is reduced."
   ]
  },
  {
   "cell_type": "code",
   "execution_count": 123,
   "metadata": {},
   "outputs": [
    {
     "name": "stdout",
     "output_type": "stream",
     "text": [
      "<NUMBER OF ZONES> 24\n",
      "<TOTAL OD FLOW> 360600.0\n",
      "<END OF METADATA>\n",
      "Norm flow loss 0.012672443784807605\n",
      "<NUMBER OF ZONES> 24\n",
      "<TOTAL OD FLOW> 360600.0\n",
      "<END OF METADATA>\n",
      "Norm flow loss 0.009781387642690723\n"
     ]
    }
   ],
   "source": [
    "norm_flow_loss_fk, potential_loss_fk, tt_iter_fk = fukushima('data/SiouxFalls/SiouxFalls', False, epsilon=0.01)\n",
    "print(\"Norm flow loss\", norm_flow_loss_fk[-1])\n",
    "norm_flow_loss_fk, potential_loss_fk, tt_iter_fk = fukushima('data/SiouxFalls/SiouxFalls', False, epsilon=0.001)\n",
    "print(\"Norm flow loss\", norm_flow_loss_fk[-1])"
   ]
  },
  {
   "cell_type": "markdown",
   "metadata": {},
   "source": [
    "***"
   ]
  },
  {
   "cell_type": "markdown",
   "metadata": {},
   "source": [
    "## Gradient Projection [[Jayakrishnan](#references)]\n",
    "***\n",
    "### Notation\n",
    "$x_a$ is the flow on link $a$.\n",
    "\n",
    "$t_{a}(w)$ is the cost (ie travel time) on link $a$ for a flow $w$.\n",
    "\n",
    "f_{k}^{rs} is the flow on path $k$ between origin $r$ and destination $s$.\n",
    "\n",
    "$q_{rs}$ is the total traffic demand between r and s.\n",
    "\n",
    "$K_{rs}$ is the set of paths with positice flow between $r$ and $s$.\n",
    "\n",
    "\n",
    "### Algorithm\n",
    "\n",
    "#### Step 0: Initialization\n",
    "\n",
    "Set the travel time as the free flow travel time (ie set $t_a = t_a(0)$) and perform an all or nothing assignment. This will yield path flows $f_{1}^{rs}, \\ \\forall r,s$, and link flows $x_a^1, \\ \\forall a$. Set iteration counter $n = 1$. Initialize the path set $K_rs$, which contains the shortest path for each OD pair $rs$.\n",
    "\n",
    "#### Step 1: Update\n",
    "\n",
    "Update the cost function with the current flow (ie set $t_a^n = t_a(x_a^n), \\forall a$). Update the first derivate lengths $d_k^n$ (paths costs at current flow) of all paths $k$ in $K_rs, \\forall r,s$.\n",
    "\n",
    "#### Step 2: Direction finding\n",
    "\n",
    "Find the shortest paths $\\bar{k}_{rs}^n$ from each origin $r$ to each destination $s$ (as determined by $t_a^n$). If the paths is different from the paths in the existing path set $K_{rs}$ (we only need to compare the path flows $d_k^n$ rather than the actual paths themselves), we add it to $K_{rs}$ and record $d_{\\bar{k}_{rs}^n}$. If not, tag the shortest path currently in $K_{rs}$ as $\\bar{k}_{rs}^n$.\n",
    "\n",
    "#### Step 3: Move\n",
    "\n",
    "Set the new path flows.\n",
    "\n",
    "$f_k^{n+1} = max(0, f_k^n - \\frac{\\alpha^n}{s_k^n}(d_k^n - d_{\\bar{k}_{rs}^n})), \\forall r,s,k \\in K_{rs}, k \\neq \\bar{k}_{rs}^n$\n",
    "\n",
    "where,\n",
    "\n",
    "$s_k^n = \\sum_a \\frac{\\partial t_a^n}{\\partial x_a^n}, \\forall k \\in K_{rs}$\n",
    "\n",
    "(The partials in the above sum are returned by the function dt_df defined earlier in this notebook)\n",
    "\n",
    "Note that $a$ denotes links that are on either $k$ or $\\bar{k}_rs$ but not on both. Also $\\alpha^n$ is a scalar step-size modifier (eg $\\alpha^n = 1$). Also,\n",
    "\n",
    "$f_{\\bar{k}_{rs}^n}^{n+1} = q_{rs} - \\sum_k f_k^{n+1}, \\forall k \\in K_{rs}, k \\neq \\bar{k}_{rs}^n$\n",
    "\n",
    "Then assign the trees and find the link flows $x_a^{n+1}$.\n",
    "\n",
    "#### Step 4: Convergence\n",
    "\n",
    "If the convergence criterion is met, then stop, otherwise set $n = n + 1$ and repeat from step 1."
   ]
  },
  {
   "cell_type": "code",
   "execution_count": null,
   "metadata": {},
   "outputs": [],
   "source": [
    "def gp(network, should_print=True):\n",
    "    # TODO\n",
    "    return None"
   ]
  },
  {
   "cell_type": "markdown",
   "metadata": {},
   "source": [
    "## Gradient Projection with Alg B Trick\n",
    "\n",
    "This incomplete version of the GP algorithm uses data structures defined for Algorithm B that takes advantage of precomputing all possible paths within network (so a shortest path search can be done with lookup in an arrat). This is different from the original GP algorithm as it does not run shortest paths algorithms (in this case Djikstra's) on the go."
   ]
  },
  {
   "cell_type": "code",
   "execution_count": 124,
   "metadata": {},
   "outputs": [],
   "source": [
    "from network import neighbours, add_flow_dijkstra, all_or_nothing, potential, line_search, flow_cost_solution"
   ]
  },
  {
   "cell_type": "code",
   "execution_count": null,
   "metadata": {},
   "outputs": [],
   "source": [
    " def gp_trick(network, should_print=True):\n",
    "    graph_wrapped, demand, graph, nb_links = initialization(network)\n",
    "    net_demand, graph_paths = load_demand_paths(network)\n",
    "\n",
    "    table_net, _, _, _, _, _, _ = graph_wrapped\n",
    "    nb_links = table_net.shape[0]\n",
    "    f_0 = np.zeros(nb_links)\n",
    "    tt_0 = travel_time(f_0, graph_wrapped)\n",
    "    f = all_or_nothing(demand, travel_time(np.zeros(nb_links), graph_wrapped), graph)\n",
    "    \n",
    "    path_od_tt = paths_cost(tt, graph_paths)\n",
    "    K = {} # Shortest paths id - use graph_paths to find path\n",
    "    od_path = {}\n",
    "    for (o,d) in net_demand.keys():\n",
    "            od_path[(o,d)] = np.zeros(len(graph_paths[(o,d)].toarray()))\n",
    "    for (o,d) in demand.keys():\n",
    "        path_tts = path_od_tt[(o,d)]\n",
    "        min_path = np.argmin(path_tts)\n",
    "        K[(o,d)] = [min_path]\n",
    "        od_path[(o,d)][min_path] = net_demand[(o,d)]\n",
    "        \n",
    "    n = 1\n",
    "    alpha = 1\n",
    "    od_path_s = [] # list of od_path for each iteration\n",
    "    od_path_s.append(copy.deepcopy(od_path))\n",
    "    while n <= 100:\n",
    "        tt = travel_time(f)\n",
    "        curr_costs = paths_cost(tt, graph_paths)\n",
    "        d_bar = {}\n",
    "        k_bar = {}\n",
    "        for (o,d) in demand.keys():\n",
    "            d_bar[(o,d)] = []\n",
    "        for (o,d) in demand.keys():\n",
    "            path_tts = curr_costs[(o,d)]\n",
    "            min_path = np.argmin(path_tts)\n",
    "            different = False\n",
    "            if min_path not in K[(o,d)]:\n",
    "                K[(o,d)].append(min_path)\n",
    "                d_bar[(o,d)].append(path_tts[min_path])\n",
    "            else:\n",
    "                k_bar[(o,d)] = min(K[(o,d)], key=lambda x:path_tts[x])\n",
    "        od_path_next = {}\n",
    "        for (o,d) in net_demand.keys():\n",
    "            od_path_next[(o,d)] = np.zeros(len(graph_paths[(o,d)].toarray()))\n",
    "            \n",
    "        # Set new path flows\n",
    "        f = flow_vector(graph_paths, od_path, net_demand, nb_links)\n",
    "        dt_dx = dt_df(f, graph_wrapped)\n",
    "        for (o,d) in demand.keys():\n",
    "            paths = graph_paths[(o,d)]\n",
    "            path_tts = curr_costs[(o,d)]\n",
    "            i = 0\n",
    "            for path in paths:\n",
    "                if (o,d) in k_bar.keys() and i == k_bar[(o,d)]:\n",
    "                    sum_f = sum([od[(o,d)][i] for od in od_path_s])\n",
    "                    q = net_demand[(o,d)]\n",
    "                    od_path_next[(o,d)][i] = q - sum_f\n",
    "                else:\n",
    "                    s_k = sum([dt_dx]) # fix\n",
    "                    od_path_next[(o,d)][i] = max([0, od_path[(o,d)][i] - (alpha/s_k)*(path_tts[i] - path_tts[d_bar[(o,d)][0]])])\n",
    "                i += 1\n",
    "        od_path = od_path_next\n",
    "        od_path_s.append(copy.deepcopy(od_path))\n"
   ]
  },
  {
   "cell_type": "markdown",
   "metadata": {},
   "source": [
    "### Data Analysis"
   ]
  },
  {
   "cell_type": "code",
   "execution_count": 132,
   "metadata": {},
   "outputs": [],
   "source": [
    "def get_data(network, alg):\n",
    "    norm_flow_loss, potential_loss, tt_iter = None, None, None\n",
    "    name = str(network.split(\"/\")[2])\n",
    "    try:\n",
    "        print(\"Looking for data\")\n",
    "        norm_flow_loss, potential_loss, tt_iter = np.genfromtxt(\"data/\"+name+\"/norm_flow_loss_\"+alg+\".csv\"), np.genfromtxt(\"data/\"+name+\"/potential_loss_\"+alg+\".csv\"), np.genfromtxt(\"data/\"+name+\"/tt_\"+alg+\".csv\")\n",
    "    except:\n",
    "        print(\"Data not found, generating new data\")\n",
    "        if alg == \"fw\":\n",
    "            norm_flow_loss, potential_loss, tt_iter = franke_wolfe(network, False)\n",
    "        elif alg == \"fk\":\n",
    "            norm_flow_loss, potential_loss, tt_iter = fukushima(network, False)\n",
    "        elif alg == \"alg_b\":\n",
    "            norm_flow_loss, potential_loss, tt_iter = alg_b(network, False)\n",
    "        np.savetxt(\"data/\"+name+\"/norm_flow_loss_\"+alg+\".csv\", norm_flow_loss)\n",
    "        np.savetxt(\"data/\"+name+\"/potential_loss_\"+alg+\".csv\", potential_loss)\n",
    "        np.savetxt(\"data/\"+name+\"/tt_\"+alg+\".csv\", tt_iter)\n",
    "    return norm_flow_loss, potential_loss, tt_iter"
   ]
  },
  {
   "cell_type": "code",
   "execution_count": 133,
   "metadata": {},
   "outputs": [],
   "source": [
    "def plot(network, algs):\n",
    "    norms = []\n",
    "    potentials = []\n",
    "    tts = []\n",
    "    for alg in algs:\n",
    "        norm_flow_loss, potential_loss, tt_iter = get_data(network, alg)\n",
    "        norms.append(norm_flow_loss)\n",
    "        potentials.append(potential_loss)\n",
    "        tts.append(tt_iter)\n",
    "            \n",
    "    plt.figure()\n",
    "    plt.title(\"Norm flow loss\")\n",
    "    plt.ylabel(\"Norm loss\")\n",
    "    plt.xlabel(\"No of iterations\")\n",
    "    for i in range(len(algs)):\n",
    "        plt.plot(norms[i], label=algs[i])\n",
    "    plt.legend(loc=\"upper right\")\n",
    "    plt.show()\n",
    "\n",
    "    plt.figure()\n",
    "    plt.title(\"Potential loss over time\")\n",
    "    plt.ylabel(\"Potential loss\")\n",
    "    plt.xlabel(\"No of iterations\")\n",
    "    for i in range(len(algs)):\n",
    "        plt.plot(potentials[i], label=algs[i])\n",
    "    plt.legend(loc=\"upper right\")\n",
    "    plt.show()\n",
    "\n",
    "    plt.figure()\n",
    "    plt.title(\"Total time loss over time\")\n",
    "    plt.ylabel(\"Total time loss\")\n",
    "    plt.xlabel(\"No of iterations\")\n",
    "    for i in range(len(algs)):\n",
    "        plt.plot(tts[i], label=algs[i])\n",
    "    plt.legend(loc=\"upper right\")\n",
    "    plt.show()"
   ]
  },
  {
   "cell_type": "code",
   "execution_count": 134,
   "metadata": {},
   "outputs": [
    {
     "name": "stdout",
     "output_type": "stream",
     "text": [
      "Looking for data\n",
      "Looking for data\n",
      "Looking for data\n",
      "Data not found, generating new data\n",
      "<NUMBER OF ZONES> 24\n",
      "<TOTAL OD FLOW> 360600.0\n",
      "<END OF METADATA>\n",
      "Looking for demand and path data...\n"
     ]
    },
    {
     "data": {
      "image/png": "[encoded data removed]",
      "text/plain": [
       "<Figure size 432x288 with 1 Axes>"
      ]
     },
     "metadata": {
      "needs_background": "light"
     },
     "output_type": "display_data"
    },
    {
     "data": {
      "image/png": "[encoded data removed]",
      "text/plain": [
       "<Figure size 432x288 with 1 Axes>"
      ]
     },
     "metadata": {
      "needs_background": "light"
     },
     "output_type": "display_data"
    },
    {
     "data": {
      "image/png": "[encoded data removed]",
      "text/plain": [
       "<Figure size 432x288 with 1 Axes>"
      ]
     },
     "metadata": {
      "needs_background": "light"
     },
     "output_type": "display_data"
    }
   ],
   "source": [
    "plot('data/SiouxFalls/SiouxFalls', [\"fw\", \"fk\", \"alg_b\"])"
   ]
  },
  {
   "cell_type": "code",
   "execution_count": 60,
   "metadata": {},
   "outputs": [
    {
     "name": "stdout",
     "output_type": "stream",
     "text": [
      "Looking for data\n",
      "Data not found, generating new data\n",
      "<NUMBER OF ZONES> 38 \n",
      "<TOTAL OD FLOW>  104694.40 \n",
      "<END OF METADATA>\n",
      "Looking for data\n",
      "Data not found, generating new data\n",
      "<NUMBER OF ZONES> 38 \n",
      "<TOTAL OD FLOW>  104694.40 \n",
      "<END OF METADATA>\n"
     ]
    },
    {
     "data": {
      "image/png": "[encoded data removed]",
      "text/plain": [
       "<Figure size 432x288 with 1 Axes>"
      ]
     },
     "metadata": {
      "needs_background": "light"
     },
     "output_type": "display_data"
    },
    {
     "data": {
      "image/png": "[encoded data removed]",
      "text/plain": [
       "<Figure size 432x288 with 1 Axes>"
      ]
     },
     "metadata": {
      "needs_background": "light"
     },
     "output_type": "display_data"
    },
    {
     "data": {
      "image/png": "[encoded data removed]",
      "text/plain": [
       "<Figure size 432x288 with 1 Axes>"
      ]
     },
     "metadata": {
      "needs_background": "light"
     },
     "output_type": "display_data"
    }
   ],
   "source": [
    "plot('data/Anaheim/Anaheim', [\"fw\", \"fk\"])"
   ]
  },
  {
   "cell_type": "markdown",
   "metadata": {},
   "source": [
    "## 10.Tests <a id=\"tests\"></a>\n",
    "***\n",
    "Here are a bunch of tests to verify that our code is correct."
   ]
  },
  {
   "cell_type": "markdown",
   "metadata": {},
   "source": [
    "### 10.1 Test of the [travel time function](#travel_time)\n",
    "- `flow_cost_solution(network) : optimal_flow, cost_solution`: takes as parameter a string which represent the path to the data file tntp `network` and return the flow and the cost of the STA solution by reading it in the data provided.\n",
    "- `test_travel_time_function(network, graph)` tests if travel_time gives the correct cost when the optimal flow allocation is given in the data (like in __data/SiouxFalls/SiouxFalls__)"
   ]
  },
  {
   "cell_type": "code",
   "execution_count": 24,
   "metadata": {},
   "outputs": [
    {
     "name": "stdout",
     "output_type": "stream",
     "text": [
      "3.807809309113039e-15\n",
      "3.277847697668423e-14\n"
     ]
    }
   ],
   "source": [
    "from network import flow_cost_solution\n",
    "\n",
    "def test_travel_time_function(network, graph):\n",
    "    \"\"\"\n",
    "    Parameter:\n",
    "        file: a string which represent the path to the data file tntp\n",
    "    Using the flow.tntp file (solutions) and the travel time function,\n",
    "    the function tests if travel_time(flow_solutions) == cost_solutions\n",
    "    Return:\n",
    "        A vector of the differences between travel_time(flow_solutions) and cost_solutions for every links\n",
    "    \"\"\"\n",
    "    flow, cost_solution = flow_cost_solution(network)\n",
    "    print(np.linalg.norm(travel_time(flow, graph) - cost_solution))\n",
    "    return travel_time(flow, graph) - cost_solution\n",
    "\n",
    "# test if our travel_time function is correct\n",
    "# network = 'data/SiouxFalls/SiouxFalls'\n",
    "# network = 'data/Eastern-Massachusetts/EMA'\n",
    "# network = 'data/Berlin-Tiergarten/berlin-tiergarten'\n",
    "for network in {'data/SiouxFalls/SiouxFalls', 'data/Anaheim/Anaheim'}:\n",
    "    graph_wrapped = init_travel_time_function(network)\n",
    "    test_travel_time_function(network, graph_wrapped)"
   ]
  },
  {
   "cell_type": "markdown",
   "metadata": {},
   "source": [
    "## References <a id=\"references\"></a>\n",
    "***\n",
    "- [Patriksson] The Traffic Assignment Problem - Models and Methods, M. Patriksson\n",
    "- [Smith] The Existence, Uniqueness and Stability of Traffic Equilibria, M. J. Smith\n",
    "- [Jayakrishnan] A Faster Path-Based Algorithm for Traffic Assignment"
   ]
  },
  {
   "cell_type": "code",
   "execution_count": null,
   "metadata": {},
   "outputs": [],
   "source": []
  }
 ],
 "metadata": {
  "kernelspec": {
   "display_name": "Python 3",
   "language": "python",
   "name": "python3"
  },
  "language_info": {
   "codemirror_mode": {
    "name": "ipython",
    "version": 3
   },
   "file_extension": ".py",
   "mimetype": "text/x-python",
   "name": "python",
   "nbconvert_exporter": "python",
   "pygments_lexer": "ipython3",
   "version": "3.7.3"
  }
 },
 "nbformat": 4,
 "nbformat_minor": 2
}
