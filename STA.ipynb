{
 "cells": [
  {
   "cell_type": "markdown",
   "metadata": {},
   "source": [
    "# Static traffic assignment iPython code\n",
    "*** \n",
    "- [Section 1](#graph) upload the graph\n",
    "- [Section 2](#demand) upload the demand\n",
    "- [Section 3](#assignment) encode the all or nothing function\n",
    "- TO DO\n",
    "\n",
    "***\n",
    "We want to solve the following problem (TAP):\n",
    "\\begin{align}\n",
    "\\min_{\\textbf{h}} &\\sum_{a} \\int_{0}^{f_a} c_a(s)\\; \\text{d}s\n",
    "\\\\\n",
    "\\text{s.t.  } & \\;\\; \\textbf{f} = \\Delta \\textbf{h}\n",
    "\\\\\n",
    "& \\;\\; \n",
    "\\textbf{h} \\geq 0\n",
    "\\\\\n",
    "& \\;\\; \n",
    "A \\textbf{h} = \\textbf{d}\n",
    "\\end{align}\n",
    "\n",
    "The static traffic assigment problem (STA) states the Wardrop conditions as the equivalent optimization problem above. \n",
    "\n",
    "The Wardrop conditions are as follows [[Patriksson](#references)]:\n",
    "- Wardrop's first principle: all journey times are equal, and is less than the time experienced by a single vehicle on any other unused route.\n",
    "- Wardrop's second principle: the average journey time is a minimum.\n",
    "\n",
    "Notation:\n",
    "- For $\\left( p,q \\right) \\in C$ (an origin-destination pair) and route $r \\in R_{pq}$ (the set of simple routes from $p$ to $q$), $c_{pqr}$ is the travel time.\n",
    "- $h_{pqr}$ is the flow on the $r$ from $p$ to $q$.\n",
    "- $\\pi_{pq}$ is the shortest travel time from $p$ to $q$.\n",
    "- $d_{pq}$ is the demand for the OD pair $(p,q)$.\n",
    "\n",
    "The Wardrop User equilibrium conditions occurs if and only if the following is true for $l$ routes on $(p,q)$:\n",
    "\n",
    "$$ c_{pq1} = ... = c_{pql} $$\n",
    "\n",
    "This condition can be equilavently stated as\n",
    "\n",
    "$$ h_{pqr} > 0 \\implies c_{pqr} = \\pi_{pq}, \\forall r \\in R_{pq} $$\n",
    "$$ h_{pqr} = 0 \\implies c_{pqr} \\geq \\pi_{pq}, \\forall r \\in R_{pq} $$\n",
    "\n",
    ", which holds for all $(p,q) \\in C$. The idea is that for all routes with flow, the travel time is optimal, and that for all paths with not flow the travel time is greater then or equal to optimal. This condition can be restated as the following alongside certain feasibility conditions:\n",
    "\n",
    "$$ h_{pqr}(c_{pqr} - \\pi_{pq}) = 0, \\ \\forall r \\in R_{pq}, \\ \\forall (p,q) \\in C $$\n",
    "\n",
    "$$ c_{pqr} - \\pi_{pq} \\geq 0, \\ \\forall r \\in R_{pq}, \\ \\forall (p,q) \\in C $$\n",
    "\n",
    "$$ \\sum_{r \\in R_{pq}} h_{pqr} = d_{pq}, \\ \\forall (p,q) \\in C $$\n",
    "\n",
    "$$ h_{pqr} \\geq 0, \\ \\forall r \\in R_{pq}, \\ \\forall (p,q) \\in C $$\n",
    "\n",
    "$$ \\pi_{pq} \\geq 0, \\ \\forall (p,q) \\in C $$\n",
    "\n",
    "Theorem 2.1 [[Patriksson](#references)] states that the Wardrop conditions are equivalent to the first order condition of the TAP problem listed above. The intuition behind the idea follows from taking the Lagrangian of the optimization problem using multipliers $\\lambda_{pq}$ from the third constraint:\n",
    "\n",
    "$$ L(\\textbf{h},\\boldsymbol{\\lambda}) = T(\\textbf{f}(\\textbf{h})) + \\sum_{(p,q) \\in C} \\pi_{pq}(d_{pq} - \\sum_{r \\in R_{pq}} h_{pqr}) $$\n",
    "\n",
    "The remaining proof uses the stationary of the Lagrangian and fact that the partial derivative of $T$ with respect to the flow along a certain route ($h_{pqr}$) is the travel time $c_{pqr}$ to rederive the Wardrop conditions. We can also interpret the multiplier $\\boldsymbol{\\pi}$ as the minimum route cost between $p$ and $q$.\n",
    "\n",
    "\n",
    "$$ \\textbf{t}(\\textbf{f}^*)^T\\left( \\textbf{f} - \\textbf{f}^* \\right)  \\geq 0 \\quad (Nash \\ equilibrium: \\ First\\ Wardrop\\ Condition) $$\n",
    "\n",
    "\n",
    "$$ \\textbf{t}(\\textbf{f})^T \\textbf{f} - \\textbf{t}(\\textbf{f}^*)^T\\textbf{f}^*  \\geq 0 \\quad (Social \\ optimum:  \\ Second\\ Wardrop\\ Condition) $$\n",
    "\n",
    ", is equivalent to the first order condition of the problem posed by TAP. In a general optimization problem\n",
    "\n",
    "\\begin{align}\n",
    "\\min_{x \\in \\mathbb{R}^n} F(x)\n",
    "\\end{align}\n",
    "\n",
    "the first order condition make it such that the following must be true of an optimal solution $x^*$:\n",
    "\n",
    "$$ \\nabla F(x^*)^T \\left(y - x^* \\right) \\geq 0, \\ \\forall y \\in \\mathbb{R}^n $$ .\n",
    "\n",
    "\n",
    "As such, treating the Wardop conditions as the first order conditions gives rise to the above optimization problem due to integrating the condition over $f$. The summation is a result of the dot product."
   ]
  },
  {
   "cell_type": "markdown",
   "metadata": {},
   "source": [
    "## 0. Import some libraries useful for the project\n",
    "***"
   ]
  },
  {
   "cell_type": "code",
   "execution_count": 1,
   "metadata": {},
   "outputs": [],
   "source": [
    "import numpy as np\n",
    "import pandas as pd\n",
    "from scipy import sparse\n",
    "import scipy\n",
    "import matplotlib.pyplot as plt\n",
    "%run -i 'network.py'"
   ]
  },
  {
   "cell_type": "markdown",
   "metadata": {},
   "source": [
    "## 1. Import the road network and its characteristics <a id=\"graph\"></a>\n",
    "***\n",
    "The road network is composed by:\n",
    "- $G=(E,V)$ a **strongly connected oriented graph** with vertices $v\\in V$ and edges $e\\in E$\n",
    "- $t_{0,e}\\in\\mathbb{R}_+$ the **free flow travel time** of the edge $e$, $\\forall e\\in E$\n",
    "- $c_{e}\\in\\mathbb{R}_+$ the **flow capacity** of the edge $e$, $\\forall e\\in E$\n",
    "- $B_e\\in\\mathbb{R}_+$ and $p_e\\in\\mathbb{N}_+$ two characteristics of the edge $e$ useful for estimating the travel time of vehicle on the edge $e$ given the flow of the edge $e$, $\\forall e\\in E$\n",
    "\n",
    "Data are provided from https://github.com/bstabler/TransportationNetworks.\n",
    "They are is the folder `data/`.\n",
    "\n",
    "The road network and its characteristics are read in the file `network.py` with the function:\n",
    "- `init_travel_time_function(network) : graph_wrapped`: takes as parameter a string which represent the path to the data file TNTP `network` and return in `graph_wrapped` the table that can be used to compute the travel time of every links, and the index of the free flow travel time, of the B, of the capacity and of the power columns.\n",
    "_TO DO: Better explain this_"
   ]
  },
  {
   "cell_type": "code",
   "execution_count": 2,
   "metadata": {},
   "outputs": [],
   "source": [
    "#from network import init_travel_time_function"
   ]
  },
  {
   "cell_type": "markdown",
   "metadata": {},
   "source": [
    "## 2. Import the road demand <a id=\"demand\"></a>\n",
    "***\n",
    "The road demand is a matrix $r \\in \\mathbb{R}_+^{|V| \\times |V|}$ where:\n",
    "- $r_{o,d}$ is the demand between the origin $o\\in V$ and the destination $d\\in V$.\n",
    "\n",
    "Remark that for most of the vertices $u,v\\in V$, $r_{u,v}=0$ so the demand matrix is very sparse.\n",
    "\n",
    "The road demand are read in the file `network.py` with the function:\n",
    "- `read_demand(file): demand`: takes as parameter a string which represent the path to the data file TNTP `network` and return in `demand` a dictionary of keys based sparse matrix representing the demand $r$."
   ]
  },
  {
   "cell_type": "code",
   "execution_count": 3,
   "metadata": {},
   "outputs": [],
   "source": [
    "#from network import read_demand"
   ]
  },
  {
   "cell_type": "markdown",
   "metadata": {},
   "source": [
    "## 3. Define the link travel time as a function of the link flow <a id=\"travel_time\"></a>\n",
    "***\n",
    "The travel time of every link $e\\in E$ is given as a function of the flow on the link $f_e\\in\\mathbb{R}_+$ and of [the characteristics of the edge](#graph):\n",
    "$$ t_e(f_e) = t_{0,e} \\cdot \\left( 1 + B_e \\cdot \\left(\\frac{f_e}{c_e}\\right)^{p_e} \\right) $$\n",
    "This is the classical BPR function as defined in [[Patriksson](#references)]. \n",
    "\n",
    "The function `travel_time(flow, graph_wrapped): travel_time` computes it: it gives the travel time vector for every link given the [graph_wrapped](#graph) and the vector of link flow.\n",
    "\n",
    "A test is provided at the [end of the notebook](#tests)."
   ]
  },
  {
   "cell_type": "code",
   "execution_count": 4,
   "metadata": {},
   "outputs": [],
   "source": [
    "def travel_time(flow, graph_wrapped):\n",
    "    \"\"\"\n",
    "    Parameter: \n",
    "        flow: a vector that represents the flow of every links\n",
    "        graph_wrapped: should be = (table_net, index_fft, index_B, index_capacity, index_power, index_init, index_term)\n",
    "    Return:\n",
    "        A travel time vector for every links given the flow allocation flow.\n",
    "        \n",
    "        The travel time of a link (one row of the table) is t(f) = t0 * (1 + B*(f/capacity)**power)\n",
    "    \"\"\"\n",
    "    table_net, index_fft, index_B, index_capacity, index_power, index_init, index_term = graph_wrapped\n",
    "    return table_net[:,index_fft] * (1 + table_net[:,index_B]*(flow/table_net[:,index_capacity])**table_net[:,index_power])"
   ]
  },
  {
   "cell_type": "markdown",
   "metadata": {},
   "source": [
    "## 4. Import an encoding of the graph<a id=\"demand\"></a>\n",
    "***\n",
    "The graph encoding is a matrix $r \\in \\mathbb{R}_+^{|V| \\times |V|}$ where:\n",
    "- $r_{o,d}$ is the ID of the link between the origin $o\\in V$ and the destination $d\\in V$.\n",
    "\n",
    "The encoding of the graph is read in the file `network.py` with the function:\n",
    "- `get_graph(graph_wrapped): graph`: takes as parameter a list the characterization of edges in the network and returns a dictionary that encodes link ID by origin-destination pairs."
   ]
  },
  {
   "cell_type": "code",
   "execution_count": 5,
   "metadata": {},
   "outputs": [],
   "source": [
    "#from network import get_graph"
   ]
  },
  {
   "cell_type": "markdown",
   "metadata": {},
   "source": [
    "## 5. Initialize Network <a id=\"assignment\"></a>\n",
    "***\n",
    "Initialize the network by running the previously defined functions to generate the necessary data needed.\n",
    "\n",
    "- `initialization(network) : graph_wrapped, demand, graph, nb_links`: TO DO"
   ]
  },
  {
   "cell_type": "code",
   "execution_count": 6,
   "metadata": {},
   "outputs": [],
   "source": [
    "def initialization(network):\n",
    "    \"\"\"\n",
    "    Parameter:\n",
    "        network: the file name of the data \n",
    "    Return:\n",
    "        graph_wrapped, demand, graph, nb_links using previously defined functions\n",
    "    \"\"\"\n",
    "    graph_wrapped = init_travel_time_function(network)\n",
    "    demand = read_demand(network)\n",
    "    graph = get_graph(graph_wrapped)\n",
    "\n",
    "    table_net, _, _, _, _, _, _ = graph_wrapped\n",
    "    nb_links = table_net.shape[0]\n",
    "    return graph_wrapped, demand, graph, nb_links\n",
    "\n",
    "# we have the demand in the sparse matrix demand, and the travel_time function in travel_time\n",
    "# we have the graph of the network in graph\n"
   ]
  },
  {
   "cell_type": "markdown",
   "metadata": {},
   "source": [
    "## 6. Assignment <a id=\"assignment\"></a>\n",
    "***\n",
    "TO BE CHANGED AND COMMENTED AS ABOVE.\n",
    "- PUT get_graph IN network.py. THEN IMPORT IT AND EXPLAIN WHY WE NEED IT. DONE\n",
    "- EXPLAIN initialization\n",
    "\n",
    "For example you can write something like:\n",
    "- Search direction:\n",
    "$y^k=\\arg\\min_{f\\in\\mathcal{F}}T(f^k)+\\nabla T(f^k)^T(f-f^k) = \\arg\\min_{f\\in\\mathcal{F}} \\nabla T(f^k)^T f$\n",
    "- Line search:\n",
    "$l=\\max\\lbrace l,T(f^k)+\\nabla T(f^k)^T(y^k-f^k)\\rbrace$\n",
    "and then\n",
    "$l_k=\\arg\\min_{l:0\\leq l\\leq1}T(f^k+lp^k)$ with $p^k = y^k-f^k$\n",
    "\n",
    "Descent Algorithm: Frank-Wolfe\n",
    "\n",
    "The following linearly constrained optimization problem\n",
    "\n",
    "$$ \\min_{x} f(x) $$\n",
    "\n",
    "$$ \\text{s.t} \\ Ax = b, x \\geq 0 $$\n",
    "\n",
    "can be transformed by the Frank Wolfe algorithm into the following:\n",
    "\n",
    "$$ \\min_{y} \\nabla f(x^k)^Ty $$\n",
    "\n",
    "$$ \\text{s.t} \\ Ay = b, y \\geq 0 $$\n",
    "\n",
    "The algorithm tries to solve the problem iteratively, where on the kth iteration it uses a feasible solution $x^k$ to find the search direction $y$. The intuition for this comes from finding the solution of the first order approximation of the objective function rather than the solution to the objective itself:\n",
    "\n",
    "$$ \\min_{y} f(x^k) + \\nabla f(x^k)^T(y-x^k) $$\n",
    "\n",
    "Since we only care about finding the optimal $y$ for the problem we can ignore constants, so the problem is equivalent to\n",
    "\n",
    "$$ \\min_{y} \\nabla f(x^k)^Ty $$\n",
    "\n",
    "Once we've found this $y$, we do a line search in the direction $d = y - x^k$ to find the step size $\\alpha_k$:\n",
    "\n",
    "$$ \\min_{0 \\leq \\alpha_k \\leq 1} f(x^k + \\alpha_{k}d) $$\n",
    "\n",
    "***\n",
    "\n",
    "In the case of the traffic assignment problem, the solution to the iterative optimization step $y$ is the all or nothing allocation of flow (named as all flow is placed all on a certain path and not others). This comes from the fact that as we are optimizing over linear constraints the solution is at a single vertex on the polytope that represents the feasible space, which represents the allocation of flow based on the shortest paths in solution (which is found using Dijkstra's Algorithm).\n",
    "\n",
    "As with Frank Wolfe's algorithm, we undertaking line search using the potential function and use the bisection method to find the ideal step size. The bisection method is approximate as it relies on a resolution $r$ (at which higher values it is more accurate), though it has complexity $O(log \\ r)$ so it is computationally efficient. Generally, the sequence $f(x^k)$ is monotonically decreasing for Frank Wolfe, though due to this approximation this is not always the case in our implementation. Exceptions to this loop invariance problem are recorded.\n",
    "\n",
    "TO DO: REMOVE THE COMPUTATION OF THE ADJACENCY MATRIX AND USE THE GRAPH DICTIONARY AND `tt` (TRAVEL TIME VECTOR)"
   ]
  },
  {
   "cell_type": "code",
   "execution_count": 11,
   "metadata": {},
   "outputs": [
    {
     "name": "stdout",
     "output_type": "stream",
     "text": [
      "<NUMBER OF ZONES> 24\n",
      "<TOTAL OD FLOW> 360600.0\n",
      "<END OF METADATA>\n",
      "Exceptions to loop variance occured in the following iterations: \n",
      "\n",
      "[4, 10, 21, 24, 26, 28, 30, 33, 35, 36, 41, 43, 46, 50, 52, 53, 56, 57, 58, 63, 67]\n",
      "Iterations:  68\n",
      "[ 4593.00759199  8154.72429173  4558.68347988  6065.57602664\n",
      "  8189.04840384 14185.07131971 10273.3267788  14221.28208664\n",
      " 18187.34949203  5507.61584825 18216.05561746  8774.2850523\n",
      " 15859.0007275   6031.25191453  8758.50984835 12580.62233379\n",
      " 12122.44526521 15701.4799853  12530.52301773 12137.25471299\n",
      "  6864.35508905  8414.50289425 15903.48205688  6856.95684958\n",
      " 21829.54499936 21766.62808927 17584.47521014 23223.78993273\n",
      " 11095.79489329  8104.64172648  5415.12048975 17745.62648874\n",
      "  8401.87297788  9791.46950651 10271.44012398  8393.96247917\n",
      " 12719.09048706 12609.29333354 11101.15992092  9768.03592531\n",
      "  9110.85577961  8374.72072892 23159.17998348  9037.66358368\n",
      " 19096.75384301 18309.37519065  8386.61126543 11034.81455019\n",
      " 11597.35994962 15481.58937424  8106.16383013 11588.44812592\n",
      "  9901.35697147 15686.67053753 15401.62922602 19167.12232587\n",
      " 19093.03973116  9893.96725142  8682.60851173 19172.35272988\n",
      "  8671.50467983  6252.52723687  7037.48010414  6333.7008422\n",
      "  8610.22142381 10181.72376063 18275.28715733  7050.43307093\n",
      "  8616.42292918  9576.88385516  8424.47934365  9561.95029399\n",
      "  7870.45896637 11091.3627674  10256.69586059  7905.28401993]\n",
      "[ 4494.65764646  8119.07994805  4519.07994805  5967.33639617\n",
      "  8094.65764646 14006.37101986 10022.31961516 14030.5609174\n",
      " 18006.37101986  5200.         18030.5609174   8798.26771411\n",
      " 15780.78205547  5991.75869776  8806.49866681 12492.92536056\n",
      " 12101.52912231 15794.01060698 12525.57861486 12040.91827285\n",
      "  6882.66491266  8388.713063   15796.7410003   6836.70597529\n",
      " 21744.07608018 21814.07608764 17726.62503296 23125.7972901\n",
      " 11047.09388127  8100.          5300.         17604.22353323\n",
      "  8365.28565386  9776.11953275  9973.70741603  8404.93462395\n",
      " 12287.60526902 12378.64203998 11121.35796002  9814.06906293\n",
      "  9036.33413403  8400.43683027 23192.28335936  9079.82031659\n",
      " 19083.28976475 18409.93502652  8406.71440521 11073.00931921\n",
      " 11695.00291653 15278.32524152  8100.         11683.83828244\n",
      "  9953.02143205 15854.62145644 15333.40665575 18976.7961192\n",
      " 19116.72427908  9941.85679796  8688.36704049 18992.4883829\n",
      "  8710.63692073  6302.02287419  7000.          6239.98501812\n",
      "  8619.5396981  10309.41080392 18386.472764    7000.\n",
      "  8607.38792974  9661.82423137  8394.9001779   9626.21020048\n",
      "  7902.98392706 11112.39473098 10259.52471622  7861.8332438 ]\n",
      "4434390.915720795\n",
      "4444951.281618943\n",
      "0.009339356199186341\n"
     ]
    }
   ],
   "source": [
    "import scipy\n",
    "from scipy.sparse.csgraph import dijkstra\n",
    "\n",
    "def update_travel_time_from_tt(graph, tt):\n",
    "    nb_nodes = len(graph)\n",
    "    G = np.zeros(shape=(nb_nodes,nb_nodes))\n",
    "    G = scipy.sparse.lil_matrix(G)\n",
    "    for i in graph.keys():\n",
    "        for j in graph[i].keys():\n",
    "            G[i-1, j-1] = tt[graph[i][j]] # THIS IS VERY BAD BECAUSE I PUT i-1 and j-1 instead of i and j\n",
    "    G = G.tocsr()\n",
    "    return G\n",
    "\n",
    "def put_on_shortest_path(faon, o_tmp, d_tmp, flow_tmp, tt, g, G):\n",
    "    \"\"\"\n",
    "    Parameter:\n",
    "        faon: current all or nothing flow allocation that the algorithm is building\n",
    "        o_tmp: origin of the current od pair\n",
    "        d_tmp: destination of the current od pair\n",
    "        flow_tmp: demand of the current of pair\n",
    "        tt: travel time on every links, tt[l] = travel time of the link l\n",
    "        g: graph dictionary, g[node_init] = {node_term_1: link_from_init_to_term_1, node_term_2: link_from_init_to_term_2}\n",
    "    Return:\n",
    "        TO WRITE\n",
    "    \"\"\"\n",
    "    dist_matrix, return_predecessors = dijkstra(G, return_predecessors = True) # change\n",
    "    \n",
    "    node_tmp = d_tmp\n",
    "    # using the dijkstra, we build the fastest path and we put the flow on it.\n",
    "    while node_tmp != o_tmp:\n",
    "        node_tmp_d = return_predecessors[o_tmp][node_tmp]\n",
    "        # Here we need the graph_dict to recover the link id from the nodes id.\n",
    "        link_tmp = g[node_tmp_d+1][node_tmp+1] # this is very bad because we use node_tmp +1 and node_tmp_d + 1 instead of node_tmp and node_tmp_d\n",
    "        faon[link_tmp] += flow_tmp\n",
    "        node_tmp = node_tmp_d\n",
    "\n",
    "    return faon\n",
    "\n",
    "# all or nothing function\n",
    "def all_or_nothing(d, tt, g):\n",
    "    \"\"\"\n",
    "    Parameter:\n",
    "        d: a demand as sparse matrix, d[origin][dest] = demand between origin and dest\n",
    "        tt: travel time on every links, tt[l] = travel time of the link l\n",
    "        g: graph dictionary, g[node_init] = {node_term_1: link_from_init_to_term_1, node_term_2: link_from_init_to_term_2}\n",
    "    Return:\n",
    "        The all or nothing flow allocation corresponding to the demand d and the travel time tt.\n",
    "    \"\"\"\n",
    "    nb_links = tt.shape\n",
    "    faon = np.zeros(nb_links)\n",
    "    \n",
    "    G = update_travel_time_from_tt(g, tt) # to remove for putting the dijkstra algorithm\n",
    "    adj = G.toarray()\n",
    "    \n",
    "    for o_tmp, d_tmp in d.keys():\n",
    "        #sp = find_sp(o_tmp, d_tmp)\n",
    "        #faon = add_flow(faon, sp, d[o_tmp, d_tmp])\n",
    "        faon = add_flow_dijkstra(adj, o_tmp, d_tmp, faon, d[o_tmp, d_tmp], g)\n",
    "        # flow_tmp = d[o_tmp, d_tmp]\n",
    "        # faon = put_on_shortest_path(faon, o_tmp, d_tmp, flow_tmp, tt, g, G) # to change when we write our own \n",
    "    return faon\n",
    "\n",
    "#def find_sp(g):\n",
    "\n",
    "def potential(f, graph_wrapped):\n",
    "    \"\"\"\n",
    "    Parameter:\n",
    "        flow: a vector that represents the flow of every links\n",
    "        graph_wrapped: should be = (table_net, index_fft, index_B, index_capacity, index_power, index_init, index_term)\n",
    "    Return:\n",
    "        The potential function tha t we want to minimize.\n",
    "        \n",
    "        The potential function is (one row of the table) is sum(int(t_e(s), s in [0, f_e]), e) = sum(t0 * (f + B*(f/capacity)**(power+1)/power)).    \n",
    "        This function is useful for doing a line search, it computes the potential at flow assignment f.\n",
    "    \"\"\"\n",
    "    table_net, index_fft, index_B, index_capacity, index_power, index_init, index_term = graph_wrapped\n",
    "    pot_tmp = table_net[:,index_fft] * f * (1 + (table_net[:,index_B] / table_net[:,index_power])*(f/table_net[:,index_capacity])**table_net[:,index_power])\n",
    "    return np.sum(pot_tmp)\n",
    "\n",
    "def line_search(f, res=20):\n",
    "    \"\"\"\n",
    "    Parameter:\n",
    "        f: the function that we want to minimize between 0 and 1\n",
    "        res: the resolution of the grid ([0, 1] is divided in 2^res points).\n",
    "    Return:\n",
    "        On a grid of 2^res points bw 0 and 1, find global minimum for a continuous convex function using bisection \n",
    "    \"\"\"\n",
    "    d = 1. / (2**res - 1) # d: Size of interval between adjacent points\n",
    "    l, r = 0, 2**res - 1 # l: first point, r: last point\n",
    "    while r - l > 1:\n",
    "        if f(l * d) <= f(l * d + d): # Interval l: [l*d, l*d + d]\n",
    "            return l * d\n",
    "        if f(r * d - d) >= f(r * d):\n",
    "            return r * d\n",
    "        # otherwise f(l) > f(l+d) and f(r-d) < f(r)\n",
    "        m1, m2 = (l + r) / 2, 1 + (l + r) / 2\n",
    "        if f(m1 * d) < f(m2 * d):\n",
    "            r = m1\n",
    "        if f(m1 * d) > f(m2 * d):\n",
    "            l = m2\n",
    "        if f(m1 * d) == f(m2 * d):\n",
    "            return m1 * d\n",
    "    return l * d\n",
    "\n",
    "# write pseudocode STA\n",
    "epsilon = 0.01\n",
    "\n",
    "# initialization\n",
    "network = 'data/SiouxFalls/SiouxFalls'\n",
    "graph_wrapped, demand, graph, nb_links = initialization(network)\n",
    "\n",
    "table_net, _, _, _, _, _, _ = graph_wrapped\n",
    "nb_links = table_net.shape[0]\n",
    "\n",
    "\n",
    "f = all_or_nothing(demand, travel_time(np.zeros(nb_links), graph_wrapped), graph)\n",
    "f_iter = []\n",
    "tt_iter = []\n",
    "incr_tt = []\n",
    "alpha = 1\n",
    "i = 0\n",
    "while alpha>epsilon and i<1000:\n",
    "    f_iter.append(f)\n",
    "    tt = travel_time(f, graph_wrapped)\n",
    "    faon = all_or_nothing(demand, tt, graph)\n",
    "    tt_iter.append(np.dot(tt,(f - faon)))\n",
    "    alpha = line_search(lambda a : potential((1. - a) * f + a * faon, graph_wrapped))\n",
    "    f = (1-alpha) * f + alpha * faon\n",
    "    if i != 0 and tt_iter[i] > tt_iter[i-1]:\n",
    "        incr_tt.append(i)\n",
    "    i = i+1\n",
    "    \n",
    "if len(incr_tt) > 0:\n",
    "    print(\"Exceptions to loop variance occured in the following iterations: \\n\")\n",
    "    print(str(incr_tt))\n",
    "print(\"Iterations: \", i)\n",
    "print(f)\n",
    "flow, cost = flow_cost_solution(network)\n",
    "print(flow)\n",
    "print(potential(flow, graph_wrapped))\n",
    "print(potential(f, graph_wrapped))\n",
    "print(np.linalg.norm(f-flow)/np.linalg.norm(flow))"
   ]
  },
  {
   "cell_type": "code",
   "execution_count": 12,
   "metadata": {},
   "outputs": [
    {
     "data": {
      "image/png": "[encoded data removed]",
      "text/plain": [
       "<Figure size 432x288 with 1 Axes>"
      ]
     },
     "metadata": {
      "needs_background": "light"
     },
     "output_type": "display_data"
    },
    {
     "data": {
      "image/png": "[encoded data removed]",
      "text/plain": [
       "<Figure size 432x288 with 1 Axes>"
      ]
     },
     "metadata": {
      "needs_background": "light"
     },
     "output_type": "display_data"
    },
    {
     "data": {
      "image/png": "[encoded data removed]",
      "text/plain": [
       "<Figure size 432x288 with 1 Axes>"
      ]
     },
     "metadata": {
      "needs_background": "light"
     },
     "output_type": "display_data"
    }
   ],
   "source": [
    "norm_flow_loss = [np.linalg.norm(f-flow,2) for f in f_iter]\n",
    "plt.figure()\n",
    "plt.title(\"Norm flow loss\")\n",
    "plt.ylabel(\"Norm loss\")\n",
    "plt.xlabel(\"No of iterations\")\n",
    "plt.plot(norm_flow_loss)\n",
    "plt.show()\n",
    "\n",
    "potential_loss = [potential(f_iter[i], graph_wrapped)-potential(f_iter[i+1], graph_wrapped) for i in range(len(f_iter)-1)]\n",
    "plt.figure()\n",
    "plt.title(\"Potential loss over time\")\n",
    "plt.ylabel(\"Potential loss\")\n",
    "plt.xlabel(\"No of iterations\")\n",
    "plt.plot(potential_loss)\n",
    "plt.show()\n",
    "\n",
    "plt.figure()\n",
    "plt.title(\"Total time loss over time\")\n",
    "plt.ylabel(\"Total time loss\")\n",
    "plt.xlabel(\"No of iterations\")\n",
    "plt.plot(tt_iter)\n",
    "plt.show()"
   ]
  },
  {
   "cell_type": "markdown",
   "metadata": {},
   "source": [
    "## 6. Fukushima: A Modified Frank Wolfe Algorithm <a id=\"assignment\"></a>\n",
    "***\n",
    "Fukushima explanation"
   ]
  },
  {
   "cell_type": "code",
   "execution_count": 13,
   "metadata": {},
   "outputs": [
    {
     "name": "stdout",
     "output_type": "stream",
     "text": [
      "Iterations:  69\n",
      "Alpha:  0.007909197130533622\n",
      "4434390.915720795\n",
      "4444951.255770635\n",
      "0.009339324311215438\n"
     ]
    }
   ],
   "source": [
    "f = all_or_nothing(demand, travel_time(np.zeros(nb_links), graph_wrapped), graph)\n",
    "f_iter = []\n",
    "tt_iter = []\n",
    "\n",
    "f_iter.append(f)\n",
    "\n",
    "faons = []\n",
    "\n",
    "alpha = 1.0\n",
    "k = 1\n",
    "l = 10\n",
    "incr_tt = []\n",
    "\n",
    "while alpha>epsilon and k<1000:\n",
    "    tt = travel_time(f_iter[k-1], graph_wrapped)\n",
    "    faon = all_or_nothing(demand, tt, graph) # y_k\n",
    "    faons.append(faon)\n",
    "    \n",
    "    if np.dot(tt,(f_iter[k-1] - faon)) == 0:\n",
    "        print(\"Break\")\n",
    "        break\n",
    "    \n",
    "    q = min(k, l) - 1\n",
    "\n",
    "    lamb = 1/(q+1)\n",
    "    x_k = f_iter[k-1]\n",
    "    v_k = np.sum([lamb*(faons[-(q+1):][i]) for i in range(q+1)]) - x_k\n",
    "    y_k = faons[-1]\n",
    "    w_k = y_k - x_k\n",
    "    \n",
    "    gamma1_k = np.dot(v_k/np.linalg.norm(v_k), tt)\n",
    "    gamma2_k = np.dot(w_k/np.linalg.norm(w_k), tt)\n",
    "    \n",
    "    if gamma1_k < gamma2_k:\n",
    "        d_k = v_k\n",
    "    elif gamma1_k == gamma2_k:\n",
    "        r = np.random.random()\n",
    "        u_k = (r*v_k+(1-r)*w_k)\n",
    "        d_k = u_k\n",
    "    else:\n",
    "        d_k = w_k\n",
    "    alpha = line_search(lambda a : potential((1. - a) * f_iter[k-1] + a * faon, graph_wrapped))\n",
    "    f_iter.append(x_k + alpha*d_k)\n",
    "    k = k + 1\n",
    "    \n",
    "print(\"Iterations: \", str(k))\n",
    "print(\"Alpha: \", alpha)\n",
    "flow, cost = flow_cost_solution(network)\n",
    "print(potential(flow, graph_wrapped))\n",
    "print(potential(f_iter[k-1], graph_wrapped))\n",
    "print(np.linalg.norm(f_iter[k-1]-flow)/np.linalg.norm(flow))"
   ]
  },
  {
   "cell_type": "code",
   "execution_count": 10,
   "metadata": {},
   "outputs": [
    {
     "name": "stdout",
     "output_type": "stream",
     "text": [
      "Graph\n",
      "{1: {2: 0, 3: 1}, 2: {1: 2, 6: 3}, 3: {1: 4, 4: 5, 12: 6}, 4: {3: 7, 5: 8, 11: 9}, 5: {4: 10, 6: 11, 9: 12}, 6: {2: 13, 5: 14, 8: 15}, 7: {8: 16, 18: 17}, 8: {6: 18, 7: 19, 9: 20, 16: 21}, 9: {5: 22, 8: 23, 10: 24}, 10: {9: 25, 11: 26, 15: 27, 16: 28, 17: 29}, 11: {4: 30, 10: 31, 12: 32, 14: 33}, 12: {3: 34, 11: 35, 13: 36}, 13: {12: 37, 24: 38}, 14: {11: 39, 15: 40, 23: 41}, 15: {10: 42, 14: 43, 19: 44, 22: 45}, 16: {8: 46, 10: 47, 17: 48, 18: 49}, 17: {10: 50, 16: 51, 19: 52}, 18: {7: 53, 16: 54, 20: 55}, 19: {15: 56, 17: 57, 20: 58}, 20: {18: 59, 19: 60, 21: 61, 22: 62}, 21: {20: 63, 22: 64, 24: 65}, 22: {15: 66, 20: 67, 21: 68, 23: 69}, 23: {14: 70, 22: 71, 24: 72}, 24: {13: 73, 21: 74, 23: 75}}\n",
      "Travel time\n",
      "[ 6.00081624  4.00869075  6.00083412  6.57359826  4.00858665  4.26940183\n",
      "  4.02017916  4.27126776  2.31537411  7.13330048  2.31707223  9.99822521\n",
      "  9.65131071  6.59951767 10.02070256 14.690955    5.55216038  2.06222569\n",
      " 14.82415952  5.50141296 15.17470751 10.72947353  9.67015456 15.0378695\n",
      "  5.68253305  5.71724339 12.40568945 13.72237028 20.08480998 16.30801715\n",
      "  7.22302456 12.20325453 13.59022763 13.69128569  4.01979049 13.73515565\n",
      "  3.02279654  3.02347967 17.66100772 13.84264505 12.23433913  9.07934431\n",
      " 13.81156045 12.37460486  4.32621208  9.08814367 10.77881157 20.2362757\n",
      "  9.50145849  3.1634648  16.30801715  9.47285442  7.4366268   2.06318639\n",
      "  3.16583488  4.25937109  4.33553079  7.41227404  9.45906351  4.26023007\n",
      "  9.5152494   8.16566081  7.71313     8.08163569  4.21350583 11.92405983\n",
      "  9.05716718  7.71313     4.20104986 12.3658055   9.06596654 12.24313849\n",
      "  3.75930419 17.61702072 11.75257941  3.72294674]\n",
      "Demand\n",
      "  (1, 0)\t100.0\n",
      "  (2, 0)\t100.0\n",
      "  (3, 0)\t500.0\n",
      "  (4, 0)\t200.0\n",
      "  (5, 0)\t300.0\n",
      "  (6, 0)\t500.0\n",
      "  (7, 0)\t800.0\n",
      "  (8, 0)\t500.0\n",
      "  (9, 0)\t1300.0\n",
      "  (10, 0)\t500.0\n",
      "  (11, 0)\t200.0\n",
      "  (12, 0)\t500.0\n",
      "  (13, 0)\t300.0\n",
      "  (14, 0)\t500.0\n",
      "  (15, 0)\t500.0\n",
      "  (16, 0)\t400.0\n",
      "  (17, 0)\t100.0\n",
      "  (18, 0)\t300.0\n",
      "  (19, 0)\t300.0\n",
      "  (20, 0)\t100.0\n",
      "  (21, 0)\t400.0\n",
      "  (22, 0)\t300.0\n",
      "  (23, 0)\t100.0\n",
      "  (0, 1)\t100.0\n",
      "  (2, 1)\t100.0\n",
      "  :\t:\n",
      "  (17, 22)\t100.0\n",
      "  (18, 22)\t300.0\n",
      "  (19, 22)\t700.0\n",
      "  (20, 22)\t700.0\n",
      "  (21, 22)\t2100.0\n",
      "  (23, 22)\t700.0\n",
      "  (0, 23)\t100.0\n",
      "  (3, 23)\t200.0\n",
      "  (5, 23)\t100.0\n",
      "  (6, 23)\t100.0\n",
      "  (7, 23)\t200.0\n",
      "  (8, 23)\t200.0\n",
      "  (9, 23)\t800.0\n",
      "  (10, 23)\t600.0\n",
      "  (11, 23)\t500.0\n",
      "  (12, 23)\t700.0\n",
      "  (13, 23)\t400.0\n",
      "  (14, 23)\t400.0\n",
      "  (15, 23)\t300.0\n",
      "  (16, 23)\t300.0\n",
      "  (18, 23)\t100.0\n",
      "  (19, 23)\t400.0\n",
      "  (20, 23)\t500.0\n",
      "  (21, 23)\t1100.0\n",
      "  (22, 23)\t700.0\n"
     ]
    }
   ],
   "source": [
    "print(\"Graph\")\n",
    "print(graph)\n",
    "print(\"Travel time\")\n",
    "print(travel_time(flow, graph_wrapped))\n",
    "print(\"Demand\")\n",
    "print(demand)"
   ]
  },
  {
   "cell_type": "code",
   "execution_count": 136,
   "metadata": {},
   "outputs": [
    {
     "data": {
      "image/png": "[encoded data removed]",
      "text/plain": [
       "<Figure size 432x288 with 1 Axes>"
      ]
     },
     "metadata": {
      "needs_background": "light"
     },
     "output_type": "display_data"
    },
    {
     "data": {
      "image/png": "[encoded data removed]",
      "text/plain": [
       "<Figure size 432x288 with 1 Axes>"
      ]
     },
     "metadata": {
      "needs_background": "light"
     },
     "output_type": "display_data"
    },
    {
     "data": {
      "image/png": "[encoded data removed]",
      "text/plain": [
       "<Figure size 432x288 with 1 Axes>"
      ]
     },
     "metadata": {
      "needs_background": "light"
     },
     "output_type": "display_data"
    }
   ],
   "source": [
    "norm_flow_loss = [np.linalg.norm(f-flow,2) for f in f_iter]\n",
    "plt.figure()\n",
    "plt.title(\"Norm flow loss\")\n",
    "plt.ylabel(\"Norm loss\")\n",
    "plt.xlabel(\"No of iterations\")\n",
    "plt.plot(norm_flow_loss)\n",
    "plt.show()\n",
    "\n",
    "potential_loss = [potential(f_iter[i], graph_wrapped)-potential(f_iter[i+1], graph_wrapped) for i in range(len(f_iter)-1)]\n",
    "plt.figure()\n",
    "plt.title(\"Potential loss over time\")\n",
    "plt.ylabel(\"Potential loss\")\n",
    "plt.xlabel(\"No of iterations\")\n",
    "plt.plot(potential_loss)\n",
    "plt.show()\n",
    "\n",
    "plt.figure()\n",
    "plt.title(\"Total time loss over time\")\n",
    "plt.ylabel(\"Total time loss\")\n",
    "plt.xlabel(\"No of iterations\")\n",
    "plt.plot(tt_iter)\n",
    "plt.show()"
   ]
  },
  {
   "cell_type": "markdown",
   "metadata": {},
   "source": [
    "## 10.Tests <a id=\"tests\"></a>\n",
    "***\n",
    "Here are a bunch of tests to verify that our code is correct."
   ]
  },
  {
   "cell_type": "markdown",
   "metadata": {},
   "source": [
    "### 10.1 Test of the [travel time function](#travel_time)\n",
    "- `flow_cost_solution(network) : optimal_flow, cost_solution`: takes as parameter a string which represent the path to the data file tntp `network` and return the flow and the cost of the STA solution by reading it in the data provided.\n",
    "- `test_travel_time_function(network, graph)` tests if travel_time gives the correct cost when the optimal flow allocation is given in the data (like in __data/SiouxFalls/SiouxFalls__)"
   ]
  },
  {
   "cell_type": "code",
   "execution_count": 9,
   "metadata": {},
   "outputs": [
    {
     "name": "stdout",
     "output_type": "stream",
     "text": [
      "3.277847697668423e-14\n",
      "3.807809309113039e-15\n",
      "\n"
     ]
    }
   ],
   "source": [
    "from network import flow_cost_solution\n",
    "\n",
    "def test_travel_time_function(network, graph):\n",
    "    \"\"\"\n",
    "    Parameter:\n",
    "        file: a string which represent the path to the data file tntp\n",
    "    Using the flow.tntp file (solutions) and the travel time function,\n",
    "    the function tests if travel_time(flow_solutions) == cost_solutions\n",
    "    Return:\n",
    "        A vector of the differences between travel_time(flow_solutions) and cost_solutions for every links\n",
    "    \"\"\"\n",
    "    flow, cost_solution = flow_cost_solution(network)\n",
    "    print(np.linalg.norm(travel_time(flow, graph) - cost_solution))\n",
    "    return travel_time(flow, graph) - cost_solution\n",
    "\n",
    "# test if our travel_time function is correct\n",
    "# network = 'data/SiouxFalls/SiouxFalls'\n",
    "# network = 'data/Eastern-Massachusetts/EMA'\n",
    "# network = 'data/Berlin-Tiergarten/berlin-tiergarten'\n",
    "for network in {'data/SiouxFalls/SiouxFalls', 'data/Anaheim/Anaheim'}:\n",
    "    graph_wrapped = init_travel_time_function(network)\n",
    "    test_travel_time_function(network, graph_wrapped)\n",
    "print()"
   ]
  },
  {
   "cell_type": "markdown",
   "metadata": {},
   "source": [
    "## References <a id=\"references\"></a>\n",
    "***\n",
    "- [Patriksson] The Traffic Assignment Problem - Models and Methods, M.Patriksson"
   ]
  }
 ],
 "metadata": {
  "kernelspec": {
   "display_name": "Python 3",
   "language": "python",
   "name": "python3"
  },
  "language_info": {
   "codemirror_mode": {
    "name": "ipython",
    "version": 3
   },
   "file_extension": ".py",
   "mimetype": "text/x-python",
   "name": "python",
   "nbconvert_exporter": "python",
   "pygments_lexer": "ipython3",
   "version": "3.7.3"
  }
 },
 "nbformat": 4,
 "nbformat_minor": 2
}
