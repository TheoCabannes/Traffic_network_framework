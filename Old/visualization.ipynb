{
 "cells": [
  {
   "cell_type": "code",
   "execution_count": 308,
   "metadata": {
    "scrolled": true
   },
   "outputs": [],
   "source": [
    "import numpy as np\n",
    "import plotly.tools as ptools\n",
    "import plotly.plotly as py\n",
    "import plotly.graph_objs as go\n",
    "ptools.set_credentials_file(username='emglista', api_key='5hgwwGXCOa7FYZbtx1So')"
   ]
  },
  {
   "cell_type": "code",
   "execution_count": 309,
   "metadata": {},
   "outputs": [],
   "source": [
    "network_name = 'I210'\n",
    "network = 'data/' + network_name"
   ]
  },
  {
   "cell_type": "markdown",
   "metadata": {},
   "source": [
    "Load graph and node geographical locations\n",
    "\n",
    "\n"
   ]
  },
  {
   "cell_type": "code",
   "execution_count": 310,
   "metadata": {
    "scrolled": true
   },
   "outputs": [],
   "source": [
    "graph = np.loadtxt(network + '_net.csv', delimiter=',', skiprows=1)\n",
    "locs = np.loadtxt(network + '_node.csv', delimiter=',', skiprows=1)\n",
    "nnodes = np.size(locs,0)\n",
    "nedges = np.size(graph,0)"
   ]
  },
  {
   "cell_type": "markdown",
   "metadata": {},
   "source": [
    "Import flow results from Frank-Wolfe\n",
    "\n"
   ]
  },
  {
   "cell_type": "code",
   "execution_count": 311,
   "metadata": {
    "scrolled": true
   },
   "outputs": [],
   "source": [
    "f = np.array([0., 0., 6260.99321345, 6260.99321345, 38.89901572, 6299.89222917, 0., 6299.89222917, 0., 6299.89222917, 0., 0., 0., 25000., 0., 25000., 0., 0., 12205.86061467, 38.89901572, 0., 12205.86061467, 0., 0., 12205.86061467, 0., 6299.89222917, 12205.86061467, 6494.24715617 , 0., 6533.14617188, 0., 0., 6533.14617188, 0., 6494.24715617, 0., 6494.24715617, 0., 6494.24715617, 25000.])\n",
    "maxf = np.max(f)\n",
    "minf = np.min(f)\n",
    "colorf = []\n",
    "for i in range(0,nedges):\n",
    "    colorf += [f[i], f[i], f[i]]"
   ]
  },
  {
   "cell_type": "markdown",
   "metadata": {},
   "source": [
    "Assign geographical locations to graph"
   ]
  },
  {
   "cell_type": "code",
   "execution_count": 312,
   "metadata": {
    "scrolled": false
   },
   "outputs": [],
   "source": [
    "Xn = []\n",
    "Yn = []\n",
    "Zn = []\n",
    "labels=[]\n",
    "for i in range(0,nnodes):\n",
    "    Xn += [locs[i,2]]\n",
    "    Yn += [locs[i,1]]\n",
    "    Zn += [0]\n",
    "    labels.append('Node ' + str(int(locs[i,0])))\n",
    "\n",
    "Xe = []\n",
    "Xmid = []\n",
    "Ye = []\n",
    "Ymid = []\n",
    "Ze = []\n",
    "Zmid = []\n",
    "edgelabels = []\n",
    "for i in range(0,nedges):\n",
    "    Xe += [Xn[int(graph[i,1])-1], Xn[int(graph[i,2])-1], None]\n",
    "    Ye += [Yn[int(graph[i,1])-1], Yn[int(graph[i,2])-1], None]\n",
    "    Ze += [Zn[int(graph[i,1])-1], Zn[int(graph[i,2])-1], None]\n",
    "    Xmid += [(Xn[int(graph[i,1])-1]+Xn[int(graph[i,2])-1])/2]\n",
    "    Ymid += [(Yn[int(graph[i,1])-1]+Yn[int(graph[i,2])-1])/2]\n",
    "    Zmid += [(Zn[int(graph[i,1])-1]+Zn[int(graph[i,2])-1])/2]\n",
    "    edgelabels.append('Link flow: '+ str(round(f[i],3)))"
   ]
  },
  {
   "cell_type": "markdown",
   "metadata": {},
   "source": [
    "For plotting links, with colors weighted based on flow allocation"
   ]
  },
  {
   "cell_type": "code",
   "execution_count": 313,
   "metadata": {
    "scrolled": true
   },
   "outputs": [],
   "source": [
    "trace1=go.Scatter3d(x=Xe,\n",
    "               y=Ye,\n",
    "               z=Ze,\n",
    "               mode='lines',\n",
    "               line=dict(cmax = maxf, \n",
    "                         cmin = minf, \n",
    "                         color = colorf, \n",
    "                         colorscale = 'RdBu', \n",
    "                         width = 50),\n",
    "               hoverinfo ='none'\n",
    "               )"
   ]
  },
  {
   "cell_type": "markdown",
   "metadata": {},
   "source": [
    "For plotting nodes"
   ]
  },
  {
   "cell_type": "code",
   "execution_count": 314,
   "metadata": {},
   "outputs": [],
   "source": [
    "trace2=go.Scatter3d(x=Xn,\n",
    "               y=Yn,\n",
    "               z=Zn,\n",
    "               mode='markers',\n",
    "               name='nodes',\n",
    "               marker=dict(symbol='circle',\n",
    "                             size=6,\n",
    "                             color=1,\n",
    "                             colorscale='Viridis',\n",
    "                             line=dict(color='rgb(50,50,50)', width=0.5)\n",
    "                             ),\n",
    "               text=labels,\n",
    "               hoverinfo='text'\n",
    "               )"
   ]
  },
  {
   "cell_type": "markdown",
   "metadata": {},
   "source": [
    "For plotting midpoints of links, to show marker with flow allocation"
   ]
  },
  {
   "cell_type": "code",
   "execution_count": 315,
   "metadata": {},
   "outputs": [],
   "source": [
    "trace3=go.Scatter3d(x=Xmid,\n",
    "               y=Ymid,\n",
    "               z=Zmid,\n",
    "               mode='markers',\n",
    "               name='links',\n",
    "               marker=dict(symbol='circle',\n",
    "                             size=4,\n",
    "                             color=2,\n",
    "                             colorscale='Viridis',\n",
    "                             line=dict(color='rgb(50,50,50)', width=0.5)\n",
    "                             ),\n",
    "               text=edgelabels,\n",
    "               hoverinfo='text'\n",
    "               )"
   ]
  },
  {
   "cell_type": "markdown",
   "metadata": {},
   "source": [
    "Plot setup"
   ]
  },
  {
   "cell_type": "code",
   "execution_count": 316,
   "metadata": {
    "scrolled": false
   },
   "outputs": [],
   "source": [
    "axis=dict(showbackground=False,\n",
    "          showline=False,\n",
    "          zeroline=False,\n",
    "          showgrid=False,\n",
    "          showticklabels=False,\n",
    "          title=''\n",
    "          )\n",
    "\n",
    "layout = go.Layout(\n",
    "         title=\"Static Traffic Assignment for \" + network_name + \" Road Network\",\n",
    "         width=1000,\n",
    "         height=1000,\n",
    "         showlegend=False,\n",
    "         scene=dict(\n",
    "             xaxis=dict(axis),\n",
    "             yaxis=dict(axis),\n",
    "             zaxis=dict(axis),\n",
    "        ),\n",
    "     margin=dict(\n",
    "        t=100\n",
    "    ),\n",
    "    hovermode='closest',\n",
    "    annotations=[\n",
    "           dict(\n",
    "           showarrow=False,\n",
    "            text=\"Data source: \" + network,\n",
    "            xref='paper',\n",
    "            yref='paper',\n",
    "            x=0,\n",
    "            y=0.1,\n",
    "            xanchor='left',\n",
    "            yanchor='bottom',\n",
    "            font=dict(\n",
    "            size=14\n",
    "            )\n",
    "            )\n",
    "        ],    )"
   ]
  },
  {
   "cell_type": "markdown",
   "metadata": {},
   "source": [
    "Generate plot"
   ]
  },
  {
   "cell_type": "code",
   "execution_count": 318,
   "metadata": {
    "scrolled": true
   },
   "outputs": [
    {
     "data": {
      "text/html": [
       "<iframe id=\"igraph\" scrolling=\"no\" style=\"border:none;\" seamless=\"seamless\" src=\"https://plot.ly/~emglista/54.embed\" height=\"1000px\" width=\"1000px\"></iframe>"
      ],
      "text/plain": [
       "<plotly.tools.PlotlyDisplay object>"
      ]
     },
     "execution_count": 318,
     "metadata": {},
     "output_type": "execute_result"
    }
   ],
   "source": [
    "data=[trace1, trace2, trace3]\n",
    "fig=go.Figure(data=data, layout=layout)\n",
    "\n",
    "py.iplot(fig)"
   ]
  },
  {
   "cell_type": "code",
   "execution_count": null,
   "metadata": {},
   "outputs": [],
   "source": []
  }
 ],
 "metadata": {
  "kernelspec": {
   "display_name": "Python 3",
   "language": "python",
   "name": "python3"
  },
  "language_info": {
   "codemirror_mode": {
    "name": "ipython",
    "version": 3
   },
   "file_extension": ".py",
   "mimetype": "text/x-python",
   "name": "python",
   "nbconvert_exporter": "python",
   "pygments_lexer": "ipython3",
   "version": "3.6.5"
  }
 },
 "nbformat": 4,
 "nbformat_minor": 2
}
