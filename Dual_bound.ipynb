{
 "cells": [
  {
   "cell_type": "markdown",
   "metadata": {},
   "source": [
    "# Compute a lower bound for the new TAP-C"
   ]
  },
  {
   "cell_type": "markdown",
   "metadata": {},
   "source": [
    "To compute a lower bound, we first find a dual solution, then use it to derive a lower bound as sensitivity analysis."
   ]
  },
  {
   "cell_type": "code",
   "execution_count": 1,
   "metadata": {},
   "outputs": [],
   "source": [
    "import numpy as np"
   ]
  },
  {
   "cell_type": "code",
   "execution_count": 2,
   "metadata": {},
   "outputs": [],
   "source": [
    "import cvxpy as cvx"
   ]
  },
  {
   "cell_type": "code",
   "execution_count": 7,
   "metadata": {},
   "outputs": [
    {
     "name": "stdout",
     "output_type": "stream",
     "text": [
      "[1.99999806 4.19310699 3.80689495]\n",
      "[1.6193105 2.        0.25      2.        1.5806893]\n",
      "  (0, 0)\t1.0\n",
      "  (0, 2)\t1.0\n",
      "  (0, 4)\t1.0\n",
      "  (1, 0)\t1.0\n",
      "  (1, 3)\t1.0\n",
      "  (2, 1)\t1.0\n",
      "  (2, 4)\t1.0\n",
      "[3.44999981 3.6193105  3.5806893 ]\n"
     ]
    }
   ],
   "source": [
    "import Frank_Wolf_solver\n",
    "I210 = 'data/I210'\n",
    "Chic = 'data/Chicago'\n",
    "Anah = 'data/Anaheim'\n",
    "Siou = 'data/SiouxFalls'\n",
    "Brae = 'data/braess'\n",
    "\n",
    "network_name = Brae\n",
    "\n",
    "eps=1e-8\n",
    "nb_iter = 1000\n",
    "graph, demand = Frank_Wolf_solver.load_network(network_name)\n",
    "c = -1\n",
    "if network_name == Brae:\n",
    "    demand[0][2] = 10\n",
    "    c = [11, 11, 2, 11, 11]\n",
    "path_flow_matrix, tt_f, delta, route2od = Frank_Wolf_solver.Frank_Wolf_solver(graph, demand, eps, nb_iter, c) # you can add a capacity\n",
    "print(path_flow_matrix)\n",
    "print(tt_f)\n",
    "print(delta)\n",
    "print(delta @ tt_f)"
   ]
  },
  {
   "cell_type": "code",
   "execution_count": 3,
   "metadata": {},
   "outputs": [],
   "source": [
    "def lower_bound(f, h, t, Delta, route2od, u_old, u_new, nk):\n",
    "    \"\"\" \n",
    "    function that compute a lower bound with updated capacity given the original solution of a TAP-C\n",
    "    input:\n",
    "    f(vector): primal solution of link flow\n",
    "    h(vector): primal solution of route flow\n",
    "    t(ventor): link travel time of f\n",
    "    Delta(matrix)[r,a]: 1 if route r use link a; 0 otherwise. \n",
    "    route2od(vector): mapping the route index to the index of o-d pairs\n",
    "    u_old(vector): original capacity of links\n",
    "    u_new(vector): new capacity of links   \n",
    "    \"\"\"\n",
    "    nr, na = Delta.shape # number of non-zero routes and number of links \n",
    "    c = Delta.dot(t)\n",
    "    \n",
    "    lambda_link = cvx.Variable(na)\n",
    "    pi = cvx.Variable(nk)\n",
    "    \n",
    "    obj = cvx.Maximize((u_old - u_new) * lambda_link)\n",
    "    \n",
    "    constr_1 = [lambda_link[i]==0 for i in range(na) if f[i]!=u_old[i]]\n",
    "    constr_2 = [lambda_link[i]>=0 for i in range(na)]\n",
    "    constr_3 = [c[r]+Delta[r]*lambda_link == pi[route2od[r]] for r in range(nr) if h[r]>0]\n",
    "    constr_4 = [c[r]+Delta[r]*lambda_link >= pi[route2od[r]] for r in range(nr)]\n",
    "    \n",
    "    constr = constr_1 + constr_2 + constr_3 + constr_4\n",
    "    \n",
    "    problem = cvx.Problem(obj, constr)\n",
    "    bound = problem.solve()\n",
    "    \n",
    "    return bound, lambda_link.value, pi.value"
   ]
  },
  {
   "cell_type": "code",
   "execution_count": 65,
   "metadata": {},
   "outputs": [],
   "source": [
    "f = np.array([1.0,1.1,0.1])\n",
    "h = np.array([1.0, 0.1])\n",
    "t = np.array([3.0, 2.1, 9.0])\n",
    "Delta = np.array([[1,1,0], [0,1,1]])\n",
    "route2od = [0,0]\n",
    "u_old = np.array([1.0, 2.0, 3.0])\n",
    "u_new = np.array([0.5, 0.9, 3.0])\n",
    "nk = 1"
   ]
  },
  {
   "cell_type": "code",
   "execution_count": 10,
   "metadata": {},
   "outputs": [
    {
     "ename": "NameError",
     "evalue": "name 'Delta' is not defined",
     "output_type": "error",
     "traceback": [
      "\u001b[0;31m---------------------------------------------------------------------------\u001b[0m",
      "\u001b[0;31mNameError\u001b[0m                                 Traceback (most recent call last)",
      "\u001b[0;32m<ipython-input-10-cdb21bdadb67>\u001b[0m in \u001b[0;36m<module>\u001b[0;34m()\u001b[0m\n\u001b[0;32m----> 1\u001b[0;31m \u001b[0mlower_bound\u001b[0m\u001b[0;34m(\u001b[0m\u001b[0mf\u001b[0m\u001b[0;34m,\u001b[0m \u001b[0mh\u001b[0m\u001b[0;34m,\u001b[0m \u001b[0mtt\u001b[0m\u001b[0;34m,\u001b[0m \u001b[0mDelta\u001b[0m\u001b[0;34m,\u001b[0m \u001b[0mroute2od\u001b[0m\u001b[0;34m,\u001b[0m \u001b[0mu_old\u001b[0m\u001b[0;34m,\u001b[0m \u001b[0mu_new\u001b[0m\u001b[0;34m,\u001b[0m \u001b[0mnk\u001b[0m\u001b[0;34m)\u001b[0m\u001b[0;34m\u001b[0m\u001b[0m\n\u001b[0m",
      "\u001b[0;31mNameError\u001b[0m: name 'Delta' is not defined"
     ]
    }
   ],
   "source": [
    "lower_bound(f, h, tt, Delta, route2od, u_old, u_new, nk)"
   ]
  },
  {
   "cell_type": "code",
   "execution_count": 7,
   "metadata": {},
   "outputs": [
    {
     "name": "stdout",
     "output_type": "stream",
     "text": [
      "[[1.9e+01 2.0e+01 2.5e+04]]\n",
      "1.0\n",
      "[[0.0000e+00 0.0000e+00 1.0000e+00 1.3800e+00 0.0000e+00 0.0000e+00\n",
      "  0.0000e+00 3.3120e+00]\n",
      " [1.0000e+00 0.0000e+00 6.0000e+00 1.1500e+00 0.0000e+00 0.0000e+00\n",
      "  0.0000e+00 2.7600e+00]\n",
      " [2.0000e+00 1.0000e+00 2.0000e+00 1.3800e+00 0.0000e+00 0.0000e+00\n",
      "  0.0000e+00 3.3120e+00]\n",
      " [3.0000e+00 1.0000e+00 7.0000e+00 1.1400e+00 0.0000e+00 0.0000e+00\n",
      "  0.0000e+00 2.7360e+00]\n",
      " [4.0000e+00 2.0000e+00 3.0000e+00 1.6800e+00 0.0000e+00 0.0000e+00\n",
      "  0.0000e+00 4.0320e+00]\n",
      " [5.0000e+00 2.0000e+00 8.0000e+00 1.1300e+00 0.0000e+00 0.0000e+00\n",
      "  0.0000e+00 2.7120e+00]\n",
      " [6.0000e+00 3.0000e+00 4.0000e+00 1.2600e+00 0.0000e+00 0.0000e+00\n",
      "  0.0000e+00 3.0240e+00]\n",
      " [7.0000e+00 3.0000e+00 9.0000e+00 1.0500e+00 0.0000e+00 0.0000e+00\n",
      "  0.0000e+00 2.5200e+00]\n",
      " [8.0000e+00 4.0000e+00 5.0000e+00 2.2500e+00 0.0000e+00 0.0000e+00\n",
      "  0.0000e+00 5.4000e+00]\n",
      " [9.0000e+00 4.0000e+00 1.0000e+01 1.0400e+00 0.0000e+00 0.0000e+00\n",
      "  0.0000e+00 2.4960e+00]\n",
      " [1.0000e+01 5.0000e+00 1.1000e+01 1.0900e+00 0.0000e+00 0.0000e+00\n",
      "  0.0000e+00 2.6160e+00]\n",
      " [1.1000e+01 6.0000e+00 0.0000e+00 1.1500e+00 0.0000e+00 0.0000e+00\n",
      "  0.0000e+00 2.7600e+00]\n",
      " [1.2000e+01 6.0000e+00 7.0000e+00 4.8000e-01 0.0000e+00 0.0000e+00\n",
      "  0.0000e+00 1.8432e-03]\n",
      " [1.3000e+01 6.0000e+00 1.2000e+01 3.6000e-01 0.0000e+00 0.0000e+00\n",
      "  0.0000e+00 8.6400e-01]\n",
      " [1.4000e+01 7.0000e+00 1.0000e+00 1.1400e+00 0.0000e+00 0.0000e+00\n",
      "  0.0000e+00 2.7360e+00]\n",
      " [1.5000e+01 7.0000e+00 8.0000e+00 4.8000e-01 0.0000e+00 0.0000e+00\n",
      "  0.0000e+00 1.8432e-03]\n",
      " [1.6000e+01 7.0000e+00 1.3000e+01 3.9000e-01 0.0000e+00 0.0000e+00\n",
      "  0.0000e+00 9.3600e-01]\n",
      " [1.7000e+01 8.0000e+00 2.0000e+00 1.1300e+00 0.0000e+00 0.0000e+00\n",
      "  0.0000e+00 2.7120e+00]\n",
      " [1.8000e+01 8.0000e+00 9.0000e+00 5.8000e-01 0.0000e+00 0.0000e+00\n",
      "  0.0000e+00 2.2272e-03]\n",
      " [1.9000e+01 8.0000e+00 1.4000e+01 3.8000e-01 0.0000e+00 0.0000e+00\n",
      "  0.0000e+00 9.1200e-01]\n",
      " [2.0000e+01 9.0000e+00 3.0000e+00 1.0500e+00 0.0000e+00 0.0000e+00\n",
      "  0.0000e+00 2.5200e+00]\n",
      " [2.1000e+01 9.0000e+00 1.0000e+01 4.3000e-01 0.0000e+00 0.0000e+00\n",
      "  0.0000e+00 1.6512e-03]\n",
      " [2.2000e+01 9.0000e+00 1.5000e+01 4.8000e-01 0.0000e+00 0.0000e+00\n",
      "  0.0000e+00 1.1520e+00]\n",
      " [2.3000e+01 1.0000e+01 4.0000e+00 1.0400e+00 0.0000e+00 0.0000e+00\n",
      "  0.0000e+00 2.4960e+00]\n",
      " [2.4000e+01 1.0000e+01 1.1000e+01 7.7000e-01 0.0000e+00 0.0000e+00\n",
      "  0.0000e+00 2.9568e-03]\n",
      " [2.5000e+01 1.0000e+01 1.6000e+01 5.0000e-01 0.0000e+00 0.0000e+00\n",
      "  0.0000e+00 1.2000e+00]\n",
      " [2.6000e+01 1.1000e+01 5.0000e+00 1.0900e+00 0.0000e+00 0.0000e+00\n",
      "  0.0000e+00 2.6160e+00]\n",
      " [2.7000e+01 1.1000e+01 1.7000e+01 4.7000e-01 0.0000e+00 0.0000e+00\n",
      "  0.0000e+00 1.1280e+00]\n",
      " [2.8000e+01 1.2000e+01 6.0000e+00 3.6000e-01 0.0000e+00 0.0000e+00\n",
      "  0.0000e+00 8.6400e-01]\n",
      " [2.9000e+01 1.2000e+01 1.3000e+01 1.3800e+00 0.0000e+00 0.0000e+00\n",
      "  0.0000e+00 3.3120e+00]\n",
      " [3.0000e+01 1.3000e+01 7.0000e+00 3.9000e-01 0.0000e+00 0.0000e+00\n",
      "  0.0000e+00 9.3600e-01]\n",
      " [3.1000e+01 1.3000e+01 1.4000e+01 1.3800e+00 0.0000e+00 0.0000e+00\n",
      "  0.0000e+00 3.3120e+00]\n",
      " [3.2000e+01 1.4000e+01 8.0000e+00 3.8000e-01 0.0000e+00 0.0000e+00\n",
      "  0.0000e+00 9.1200e-01]\n",
      " [3.3000e+01 1.4000e+01 1.5000e+01 1.6800e+00 0.0000e+00 0.0000e+00\n",
      "  0.0000e+00 4.0320e+00]\n",
      " [3.4000e+01 1.5000e+01 9.0000e+00 4.8000e-01 0.0000e+00 0.0000e+00\n",
      "  0.0000e+00 1.1520e+00]\n",
      " [3.5000e+01 1.5000e+01 1.6000e+01 1.2500e+00 0.0000e+00 0.0000e+00\n",
      "  0.0000e+00 3.0000e+00]\n",
      " [3.6000e+01 1.6000e+01 1.0000e+01 5.0000e-01 0.0000e+00 0.0000e+00\n",
      "  0.0000e+00 1.2000e+00]\n",
      " [3.7000e+01 1.6000e+01 1.7000e+01 2.2200e+00 0.0000e+00 0.0000e+00\n",
      "  0.0000e+00 5.3280e+00]\n",
      " [3.8000e+01 1.7000e+01 1.1000e+01 4.7000e-01 0.0000e+00 0.0000e+00\n",
      "  0.0000e+00 1.1280e+00]\n",
      " [3.9000e+01 1.1000e+01 1.9000e+01 2.2000e-01 0.0000e+00 0.0000e+00\n",
      "  0.0000e+00 8.4480e-04]\n",
      " [4.0000e+01 1.8000e+01 6.0000e+00 2.9000e-01 0.0000e+00 0.0000e+00\n",
      "  0.0000e+00 1.1136e-03]]\n"
     ]
    }
   ],
   "source": [
    "debug = True\n",
    "# graph and demand gives the graph and the demand. The \n",
    "network = 'data/I210'\n",
    "graph = np.loadtxt(network + '_net.csv', delimiter=',', skiprows=1)\n",
    "demand = np.loadtxt(network + '_od.csv', delimiter=',', skiprows=1)\n",
    "\n",
    "# The following is some work to get a nice way to present the od and the graph\n",
    "# in the case where there is only one o-d, then demand is interpret as a single row and not as a matrix\n",
    "try:\n",
    "    demand.shape[1]\n",
    "except:\n",
    "    demand = np.array([demand])\n",
    "nb_ods = int(demand.shape[0])\n",
    "if debug:\n",
    "    print(demand)\n",
    "\n",
    "# in the case where the index of the od pairs does not begin by 0, we rename the od pairs\n",
    "first_index_od = min(np.min(graph[:,1]), np.min(graph[:,2]))\n",
    "graph[:,1] = graph[:,1]-first_index_od\n",
    "graph[:,2] = graph[:,2]-first_index_od\n",
    "demand[:,0] = demand[:,0] - first_index_od\n",
    "demand[:,1] = demand[:,1] - first_index_od\n",
    "if debug:\n",
    "    print(first_index_od)\n",
    "    print(graph)"
   ]
  },
  {
   "cell_type": "code",
   "execution_count": 8,
   "metadata": {},
   "outputs": [],
   "source": [
    "# Here are real values output from the Frank Wolf solver without capacity contraints.\n",
    "# I have to work on the capacity constraints now.\n",
    "f = np.array([0.0, 0.0, 6260.993213452754, 6260.993213452754, 38.89901571580986, 6299.892229168564, 0.0, 6299.892229168564, 0.0, 6299.892229168564, 0.0, 0.0, 0.0, 25000.0, 0.0, 25000.0, 0.0, 0.0, 12205.86061466584, 38.89901571580986, 0.0, 12205.86061466584, 0.0, 0.0, 12205.86061466584, 0.0, 6299.892229168564, 12205.86061466584, 6494.247156165595, 0.0, 6533.146171881404, 0.0, 0.0, 6533.146171881404, 0.0, 6494.247156165595, 0.0, 6494.247156165595, 0.0, 6494.247156165595, 25000.0])\n",
    "tt = np.array([1.38, 1.15, 5089361032701062.0, 4204254766144356.5, 9231559.039423268, 4271910701258548.0, 1.26, 3969474545417235.0, 2.25, 3931670025937070.5, 1.09, 1.15, 0.48, 3.375e+17, 1.14, 720000000000000.5, 0.39, 1.13, 49434806976970.27, 2088090.735107644, 1.05, 36649943103615.9, 0.48, 1.04, 65628967883219.164, 0.5, 4120692623337891.5, 2.5037025085318704e+16, 1536841197275133.8, 1.38, 1705160836426404.5, 1.38, 0.38, 7345308218452204.0, 0.48, 5336254157205326.0, 0.5, 9477187383196660.0, 0.47, 1502689170669.2395, 435000000000000.3])\n",
    "h = np.array([12205.86061466584, 6494.247156165595, 6260.993213452754, 38.89901571580986])\n",
    "delta = np.array([[13, 15, 18, 21, 24, 27, 40],\n",
    "    [13, 15, 30, 33, 35, 37, 39, 28, 40],\n",
    "    [13, 15, 2, 3, 5, 7, 9, 26, 40],\n",
    "    [13, 15, 30, 33, 19, 4, 5, 7, 9, 26, 40]])\n",
    "u_old = np.array([1.7976931348623157e+308, 1.7976931348623157e+308, 1.7976931348623157e+308, 1.7976931348623157e+308, 1.7976931348623157e+308, 1.7976931348623157e+308, 1.7976931348623157e+308, 1.7976931348623157e+308, 1.7976931348623157e+308, 1.7976931348623157e+308, 1.7976931348623157e+308, 1.7976931348623157e+308, 1.7976931348623157e+308, 1.7976931348623157e+308, 1.7976931348623157e+308, 1.7976931348623157e+308, 1.7976931348623157e+308, 1.7976931348623157e+308, 1.7976931348623157e+308, 1.7976931348623157e+308, 1.7976931348623157e+308, 1.7976931348623157e+308, 1.7976931348623157e+308, 1.7976931348623157e+308, 1.7976931348623157e+308, 1.7976931348623157e+308, 1.7976931348623157e+308, 1.7976931348623157e+308, 1.7976931348623157e+308, 1.7976931348623157e+308, 1.7976931348623157e+308, 1.7976931348623157e+308, 1.7976931348623157e+308, 1.7976931348623157e+308, 1.7976931348623157e+308, 1.7976931348623157e+308, 1.7976931348623157e+308, 1.7976931348623157e+308, 1.7976931348623157e+308, 1.7976931348623157e+308, 1.7976931348623157e+308])\n",
    "# for each path, route2od gives the row of the demand vector where you can find the od\n",
    "# to be more precise, the path delta[i] has for origin: demand[route2od[i]][0], and for destination: demand[route2od[i]][1]\n",
    "route2od = [0,0,0,0]"
   ]
  }
 ],
 "metadata": {
  "anaconda-cloud": {},
  "kernelspec": {
   "display_name": "Python 3",
   "language": "python",
   "name": "python3"
  },
  "language_info": {
   "codemirror_mode": {
    "name": "ipython",
    "version": 3
   },
   "file_extension": ".py",
   "mimetype": "text/x-python",
   "name": "python",
   "nbconvert_exporter": "python",
   "pygments_lexer": "ipython3",
   "version": "3.6.6"
  }
 },
 "nbformat": 4,
 "nbformat_minor": 2
}
