{
 "cells": [
  {
   "cell_type": "markdown",
   "metadata": {},
   "source": [
    "# Compute a lower bound for the new TAP-C"
   ]
  },
  {
   "cell_type": "markdown",
   "metadata": {},
   "source": [
    "To compute a lower bound, we first find a dual solution, then use it to derive a lower bound as sensitivity analysis."
   ]
  },
  {
   "cell_type": "code",
   "execution_count": 7,
   "metadata": {
    "collapsed": true
   },
   "outputs": [],
   "source": [
    "import numpy as np"
   ]
  },
  {
   "cell_type": "code",
   "execution_count": 12,
   "metadata": {
    "collapsed": true
   },
   "outputs": [],
   "source": [
    "import cvxpy as cvx"
   ]
  },
  {
   "cell_type": "code",
   "execution_count": 64,
   "metadata": {
    "collapsed": false
   },
   "outputs": [],
   "source": [
    "def lower_bound(f, h, t, Delta, route2od, u_old, u_new, nk):\n",
    "    \"\"\" \n",
    "    function that compute a lower bound with updated capacity given the original solution of a TAP-C\n",
    "    input:\n",
    "    f(vector): primal solution of link flow\n",
    "    h(vector): primal solution of route flow\n",
    "    t(ventor): link travel time of f\n",
    "    Delta(matrix)[r,a]: 1 if route r use link a; 0 otherwise. \n",
    "    route2od(vector): mapping the route index to the index of o-d pairs\n",
    "    u_old(vector): original capacity of links\n",
    "    u_new(vector): new capacity of links   \n",
    "    \"\"\"\n",
    "    nr, na = Delta.shape # number of non-zero routes and number of links \n",
    "    c = Delta.dot(t)\n",
    "    \n",
    "    lambda_link = cvx.Variable(na)\n",
    "    pi = cvx.Variable(nk)\n",
    "    \n",
    "    obj = cvx.Maximize((u_old - u_new) * lambda_link)\n",
    "    \n",
    "    constr_1 = [lambda_link[i]==0 for i in range(na) if f[i]!=u_old[i]]\n",
    "    constr_2 = [lambda_link[i]>=0 for i in range(na)]\n",
    "    constr_3 = [c[r]+Delta[r]*lambda_link == pi[route2od[r]] for r in range(nr) if h[r]>0]\n",
    "    constr_4 = [c[r]+Delta[r]*lambda_link >= pi[route2od[r]] for r in range(nr)]\n",
    "    \n",
    "    constr = constr_1 + constr_2 + constr_3 + constr_4\n",
    "    \n",
    "    problem = cvx.Problem(obj, constr)\n",
    "    bound = problem.solve()\n",
    "    \n",
    "    return bound, lambda_link.value, pi.value"
   ]
  },
  {
   "cell_type": "code",
   "execution_count": 65,
   "metadata": {
    "collapsed": false
   },
   "outputs": [],
   "source": [
    "f = np.array([1.0,1.1,0.1])\n",
    "h = np.array([1.0, 0.1])\n",
    "t = np.array([3.0, 2.1, 9.0])\n",
    "Delta = np.array([[1,1,0], [0,1,1]])\n",
    "route2od = [0,0]\n",
    "u_old = np.array([1.0, 2.0, 3.0])\n",
    "u_new = np.array([0.5, 0.9, 3.0])\n",
    "nk = 1"
   ]
  },
  {
   "cell_type": "code",
   "execution_count": 66,
   "metadata": {
    "collapsed": false
   },
   "outputs": [
    {
     "data": {
      "text/plain": [
       "(3.000000002275825,\n",
       " array([ 6.00000000e+00, -3.69194454e-11, -9.86739310e-09]),\n",
       " array([11.10000004]))"
      ]
     },
     "execution_count": 66,
     "metadata": {},
     "output_type": "execute_result"
    }
   ],
   "source": [
    "lower_bound(f, h, t, Delta, route2od, u_old, u_new, nk)"
   ]
  },
  {
   "cell_type": "code",
   "execution_count": null,
   "metadata": {
    "collapsed": true
   },
   "outputs": [],
   "source": []
  }
 ],
 "metadata": {
  "anaconda-cloud": {},
  "kernelspec": {
   "display_name": "Python [anaconda]",
   "language": "python",
   "name": "Python [anaconda]"
  },
  "language_info": {
   "codemirror_mode": {
    "name": "ipython",
    "version": 2
   },
   "file_extension": ".py",
   "mimetype": "text/x-python",
   "name": "python",
   "nbconvert_exporter": "python",
   "pygments_lexer": "ipython2",
   "version": "2.7.12"
  }
 },
 "nbformat": 4,
 "nbformat_minor": 2
}
